{
  "nbformat": 4,
  "nbformat_minor": 0,
  "metadata": {
    "colab": {
      "name": "Resnet18_2.ipynb",
      "provenance": [],
      "collapsed_sections": [
        "N7mEpWzAZ7C4"
      ]
    },
    "kernelspec": {
      "name": "python3",
      "display_name": "Python 3"
    },
    "accelerator": "GPU"
  },
  "cells": [
    {
      "cell_type": "markdown",
      "metadata": {
        "id": "h7npNJY3tlNj"
      },
      "source": [
        "# Pre-Requesite"
      ]
    },
    {
      "cell_type": "code",
      "metadata": {
        "id": "YJbh4Nb7xBqc",
        "outputId": "62eb45d1-309c-440f-edf9-f966165e515e",
        "colab": {
          "base_uri": "https://localhost:8080/"
        }
      },
      "source": [
        "!git clone https://github.com/cl3m3nt/resnet.git"
      ],
      "execution_count": 1,
      "outputs": [
        {
          "output_type": "stream",
          "text": [
            "Cloning into 'resnet'...\n",
            "remote: Enumerating objects: 43, done.\u001b[K\n",
            "remote: Counting objects: 100% (43/43), done.\u001b[K\n",
            "remote: Compressing objects: 100% (24/24), done.\u001b[K\n",
            "remote: Total 43 (delta 13), reused 38 (delta 11), pack-reused 0\u001b[K\n",
            "Unpacking objects: 100% (43/43), done.\n"
          ],
          "name": "stdout"
        }
      ]
    },
    {
      "cell_type": "code",
      "metadata": {
        "id": "crTKgA-9zjYU",
        "outputId": "01802b52-ec78-49c5-d1a1-33a032df7832",
        "colab": {
          "base_uri": "https://localhost:8080/"
        }
      },
      "source": [
        "!git clone https://github.com/keras-team/keras-applications.git\n",
        "# move keras_applications at same level than keras-applications\n",
        "# otherwise next import will fail"
      ],
      "execution_count": 2,
      "outputs": [
        {
          "output_type": "stream",
          "text": [
            "Cloning into 'keras-applications'...\n",
            "remote: Enumerating objects: 8, done.\u001b[K\n",
            "remote: Counting objects: 100% (8/8), done.\u001b[K\n",
            "remote: Compressing objects: 100% (8/8), done.\u001b[K\n",
            "remote: Total 482 (delta 2), reused 3 (delta 0), pack-reused 474\u001b[K\n",
            "Receiving objects: 100% (482/482), 462.55 KiB | 1.65 MiB/s, done.\n",
            "Resolving deltas: 100% (340/340), done.\n"
          ],
          "name": "stdout"
        }
      ]
    },
    {
      "cell_type": "code",
      "metadata": {
        "id": "E_MRtk_q3sMc",
        "outputId": "7dec552b-2e14-42c1-fe2d-cc19e85e19b8",
        "colab": {
          "base_uri": "https://localhost:8080/"
        }
      },
      "source": [
        "!nvidia-smi"
      ],
      "execution_count": 3,
      "outputs": [
        {
          "output_type": "stream",
          "text": [
            "Wed Nov  4 09:12:19 2020       \n",
            "+-----------------------------------------------------------------------------+\n",
            "| NVIDIA-SMI 455.32.00    Driver Version: 418.67       CUDA Version: 10.1     |\n",
            "|-------------------------------+----------------------+----------------------+\n",
            "| GPU  Name        Persistence-M| Bus-Id        Disp.A | Volatile Uncorr. ECC |\n",
            "| Fan  Temp  Perf  Pwr:Usage/Cap|         Memory-Usage | GPU-Util  Compute M. |\n",
            "|                               |                      |               MIG M. |\n",
            "|===============================+======================+======================|\n",
            "|   0  Tesla K80           Off  | 00000000:00:04.0 Off |                    0 |\n",
            "| N/A   31C    P8    29W / 149W |      0MiB / 11441MiB |      0%      Default |\n",
            "|                               |                      |                 ERR! |\n",
            "+-------------------------------+----------------------+----------------------+\n",
            "                                                                               \n",
            "+-----------------------------------------------------------------------------+\n",
            "| Processes:                                                                  |\n",
            "|  GPU   GI   CI        PID   Type   Process name                  GPU Memory |\n",
            "|        ID   ID                                                   Usage      |\n",
            "|=============================================================================|\n",
            "|  No running processes found                                                 |\n",
            "+-----------------------------------------------------------------------------+\n"
          ],
          "name": "stdout"
        }
      ]
    },
    {
      "cell_type": "markdown",
      "metadata": {
        "id": "Y58hALiztqDM"
      },
      "source": [
        "# Resnet18 Architecture"
      ]
    },
    {
      "cell_type": "code",
      "metadata": {
        "id": "Zot6kwCKxyod"
      },
      "source": [
        "import tensorflow as tf\n",
        "from tensorflow.keras.layers import ZeroPadding2D, Input, GlobalAveragePooling2D,GlobalMaxPooling2D,Dense\n",
        "from tensorflow.keras.layers import Convolution2D,MaxPooling2D,BatchNormalization\n",
        "from tensorflow.keras.layers import Activation,Dropout,Flatten\n",
        "from tensorflow.keras.models import Model,Sequential\n",
        "from keras_applications.imagenet_utils import _obtain_input_shape, get_submodules_from_kwargs\n",
        "import os\n",
        "import cv2\n",
        "import numpy as np\n",
        "import tensorflow.keras.datasets as datasets\n",
        "import tensorflow_datasets as tfds"
      ],
      "execution_count": 12,
      "outputs": []
    },
    {
      "cell_type": "code",
      "metadata": {
        "id": "Wj1pWThgx5Tg"
      },
      "source": [
        "def identity_block(input_tensor, kernel_size, filters, stage, block):\n",
        "    filters1, filters2 = filters\n",
        "    if backend.image_data_format() == 'channels_last':\n",
        "        bn_axis = 3\n",
        "\n",
        "    else: \n",
        "        bn_axis = 1\n",
        "    conv_name_base = 'res' + str(stage) + block + '_branch'\n",
        "    bn_name_base = 'bn' + str(stage) + block +'_branch'\n",
        "\n",
        "    x = Convolution2D(filters1,(1,1),\n",
        "               kernel_initializer='he_normal',\n",
        "               name = conv_name_base + '2a')(input_tensor)\n",
        "    x = BatchNormalization(axis=bn_axis,name=bn_name_base + '2a')(x)\n",
        "    x = Activation('relu')(x)\n",
        "\n",
        "    x = Convolution2D(filters2, kernel_size,\n",
        "               padding='same',\n",
        "               kernel_initializer='he_normal',\n",
        "               name = conv_name_base + '2b')(x)\n",
        "    x = BatchNormalization(axis=bn_axis,name=bn_name_base+'2b')(x)\n",
        "    x = Activation('relu')(x)\n",
        "\n",
        "    x = tf.keras.layers.add([x,input_tensor])\n",
        "    x = Activation('relu')(x)\n",
        "    return x\n"
      ],
      "execution_count": 5,
      "outputs": []
    },
    {
      "cell_type": "code",
      "metadata": {
        "id": "G0KY2C_9yiDU"
      },
      "source": [
        "def conv_block(input_tensor,kernel_size,filters,stage,block,strides=(2,2)):\n",
        "\n",
        "    filters1, filters2 = filters\n",
        "    if backend.image_data_format() == 'channels_last':\n",
        "        bn_axis = 3\n",
        "    else:\n",
        "        bn_axis = 1\n",
        "    conv_name_base = 'res' + str(stage) + block + '_branch'\n",
        "    bn_name_base = 'bn' + str(stage) + block + '_branch'\n",
        "\n",
        "    x = Convolution2D(filters1,(1,1),strides=strides,\n",
        "               kernel_initializer='he_normal',\n",
        "               name = conv_name_base + '2a')(input_tensor)\n",
        "    x = BatchNormalization(bn_axis,name=bn_name_base + '2a')(x)\n",
        "    x = Activation('relu')(x)\n",
        "\n",
        "\n",
        "    x = Convolution2D(filters2, kernel_size,\n",
        "               padding='same',\n",
        "               kernel_initializer='he_normal',\n",
        "               name = conv_name_base + '2b')(x)\n",
        "    x = BatchNormalization(axis=bn_axis,name=bn_name_base+'2b')(x)\n",
        "    x = Activation('relu')(x)\n",
        "\n",
        "    \n",
        "    shortcut = Convolution2D(filters2,(1,1),strides=strides,\n",
        "                      kernel_initializer='he_normal',\n",
        "                      name=conv_name_base+'1')(input_tensor)\n",
        "    \n",
        "    shortcut = BatchNormalization(\n",
        "        axis=bn_axis,name=bn_name_base+'1')(shortcut)\n",
        "    \n",
        "    x = tf.keras.layers.add([x,shortcut])\n",
        "    x = Activation('relu')(x)\n",
        "    return x"
      ],
      "execution_count": 6,
      "outputs": []
    },
    {
      "cell_type": "code",
      "metadata": {
        "id": "0voHTNZ80V6-"
      },
      "source": [
        "backend = tf.compat.v1.keras.backend\n",
        "layers = tf.keras.layers\n",
        "models = tf.keras.models\n",
        "utils = tf.keras.utils"
      ],
      "execution_count": 7,
      "outputs": []
    },
    {
      "cell_type": "code",
      "metadata": {
        "id": "066EgaLq0XrY"
      },
      "source": [
        "def ResNet18(include_top=True,\n",
        "             weights='cifar100_coarse',\n",
        "             input_tensor=None,\n",
        "             input_shape=None,\n",
        "             pooling=None,\n",
        "             classes=20,\n",
        "             **kwargs):\n",
        "    global backend, layers, models, keras_utils\n",
        "    backend, layers, models, keras_utils = get_submodules_from_kwargs(kwargs)\n",
        "\n",
        "\n",
        "\n",
        "    if not (weights in {'cifar100_coarse', None} or os.path.exists(weights)):\n",
        "        raise ValueError('The `weights` argument should be either '\n",
        "                         '`None` (random initialization), `cifar100_coarse` '\n",
        "                         '(pre-training on cifar100 coarse (super) classes), '\n",
        "                         'or the path to the weights file to be loaded.')\n",
        "\n",
        "    if weights == 'cifar100_coarse' and include_top and classes != 20:\n",
        "        raise ValueError('If using `weights` as `\"cifar100_coarse\"` with `include_top`'\n",
        "                         ' as true, `classes` should be 20')\n",
        "\n",
        "    # Determine proper input shape\n",
        "    input_shape = _obtain_input_shape(input_shape,\n",
        "                                      default_size=224,\n",
        "                                      min_size=32,\n",
        "                                      data_format=backend.image_data_format(),\n",
        "                                      require_flatten=include_top,\n",
        "                                      weights=weights)\n",
        "\n",
        "    if input_tensor is None:\n",
        "        img_input = layers.Input(shape=input_shape)\n",
        "    else:\n",
        "        if not tf.keras.backend.is_keras_tensor(input_tensor):\n",
        "            img_input = layers.Input(tensor=input_tensor, shape=input_shape)\n",
        "        else:\n",
        "            img_input = input_tensor\n",
        "    if backend.image_data_format() == 'channels_last':\n",
        "        bn_axis = 3\n",
        "    else:\n",
        "        bn_axis = 1\n",
        "\n",
        "    x = ZeroPadding2D(padding=(3,3),name='conv1_pad')(img_input)\n",
        "    x = Convolution2D(64,(7,7),\n",
        "                      strides=(2,2),\n",
        "                      padding='valid',\n",
        "                      kernel_initializer='he_normal',\n",
        "                      name='conv1')(x)\n",
        "    x = BatchNormalization(axis=bn_axis,name='bn_conv1')(x)\n",
        "    x = Activation('relu')(x)\n",
        "    x = ZeroPadding2D(padding=(1,1),name='pool1_pad')(x)\n",
        "    x = MaxPooling2D((3,3),strides=(2,2))(x)\n",
        "\n",
        "    x = identity_block(x,3,[64,64],stage=2,block='a')\n",
        "    x = identity_block(x,3,[64,64],stage=2,block='b')\n",
        "\n",
        "    x = conv_block(x,3,[128,128],stage=3,block='a')\n",
        "    x = identity_block(x,3,[128,128],stage=3,block='b')\n",
        "\n",
        "    x = conv_block(x,3,[256,256],stage=4,block='a')\n",
        "    x = identity_block(x,3,[256,256],stage=4,block='b')\n",
        "\n",
        "    x = conv_block(x,3,[512,512],stage=5,block='a')\n",
        "    x = identity_block(x,3,[512,512],stage=5,block='b')\n",
        "\n",
        "\n",
        "    if include_top:\n",
        "        x = layers.GlobalAveragePooling2D(name='avg_pool')(x)\n",
        "        x = layers.Dense(classes, activation='softmax', name='fc20')(x)\n",
        "    else:\n",
        "        if pooling == 'avg':\n",
        "            x = layers.GlobalAveragePooling2D()(x)\n",
        "        elif pooling == 'max':\n",
        "            x = layers.GlobalMaxPooling2D()(x)\n",
        "        '''\n",
        "        else:\n",
        "            warnings.warn('The output shape of `ResNet18(include_top=False)` '\n",
        "                          'has been changed since Keras 2.2.0.')\n",
        "        '''\n",
        "    \n",
        "\n",
        "    # Ensure that the model takes into account\n",
        "    # any potential predecessors of `input_tensor`.\n",
        "    if input_tensor is not None:\n",
        "        inputs = keras_utils.get_source_inputs(input_tensor)\n",
        "    else:\n",
        "        inputs = img_input\n",
        "    # Create model.\n",
        "    model = Model(inputs, x, name='resnet18')\n",
        "\n",
        "    # Load weights.\n",
        "    if weights == 'cifar100_coarse':\n",
        "        if include_top:\n",
        "            weights_path = keras_utils.get_file(\n",
        "                'resnet18_cifar100_top.h5',\n",
        "                WEIGHTS_PATH,\n",
        "                cache_subdir='models',\n",
        "                file_hash='4e364425e6d5ac22dfc34abaaf0a61fbc397b406914d8594494687f38605d710')\n",
        "        else:\n",
        "            weights_path = keras_utils.get_file(\n",
        "                'resnet18_cifar100_no_top.h5',\n",
        "                WEIGHTS_PATH_NO_TOP,\n",
        "                cache_subdir='models',\n",
        "                file_hash='d7f440ebc0d202f9e49c6625d7b21c638d1d82ba3b630485eed4f29cfd2dee05')\n",
        "        model.load_weights(weights_path)\n",
        "\n",
        "  \n",
        "    return model"
      ],
      "execution_count": 8,
      "outputs": []
    },
    {
      "cell_type": "code",
      "metadata": {
        "id": "ffsBjbfUSnll",
        "outputId": "284f3f98-e735-457f-a4e3-2092c3cd12de",
        "colab": {
          "base_uri": "https://localhost:8080/"
        }
      },
      "source": [
        "!shasum -a 256 resnet18_cifar100_top.h5"
      ],
      "execution_count": 9,
      "outputs": [
        {
          "output_type": "stream",
          "text": [
            "shasum: resnet18_cifar100_top.h5: \n"
          ],
          "name": "stdout"
        }
      ]
    },
    {
      "cell_type": "code",
      "metadata": {
        "id": "OUVJd-PiSfFO",
        "outputId": "10bd4098-4e5a-4813-f5c7-4e0ff793da80",
        "colab": {
          "base_uri": "https://localhost:8080/"
        }
      },
      "source": [
        "!shasum -a 256 resnet18_cifar100_no_top.h5"
      ],
      "execution_count": 10,
      "outputs": [
        {
          "output_type": "stream",
          "text": [
            "shasum: resnet18_cifar100_no_top.h5: \n"
          ],
          "name": "stdout"
        }
      ]
    },
    {
      "cell_type": "code",
      "metadata": {
        "id": "QqwMoB99gaU4"
      },
      "source": [
        "def ResNet18(include_top=True,\n",
        "             weights='cifar100_coarse',\n",
        "             input_tensor=None,\n",
        "             input_shape=None,\n",
        "             pooling=None,\n",
        "             classes=20,\n",
        "             **kwargs):\n",
        "    global backend, layers, models, keras_utils\n",
        "    backend, layers, models, keras_utils = get_submodules_from_kwargs(kwargs)\n",
        "\n",
        "\n",
        "\n",
        "    if not (weights in {'cifar100_coarse', None} or os.path.exists(weights)):\n",
        "        raise ValueError('The `weights` argument should be either '\n",
        "                         '`None` (random initialization), `cifar100_coarse` '\n",
        "                         '(pre-training on cifar100 coarse (super) classes), '\n",
        "                         'or the path to the weights file to be loaded.')\n",
        "\n",
        "    if weights == 'cifar100_coarse' and include_top and classes != 20:\n",
        "        raise ValueError('If using `weights` as `\"cifar100_coarse\"` with `include_top`'\n",
        "                         ' as true, `classes` should be 20')\n",
        "\n",
        "    # Determine proper input shape\n",
        "    input_shape = _obtain_input_shape(input_shape,\n",
        "                                      default_size=224,\n",
        "                                      min_size=32,\n",
        "                                      data_format=backend.image_data_format(),\n",
        "                                      require_flatten=include_top,\n",
        "                                      weights=weights)\n",
        "\n",
        "    if input_tensor is None:\n",
        "        img_input = layers.Input(shape=input_shape)\n",
        "    else:\n",
        "        if not tf.keras.backend.is_keras_tensor(input_tensor):\n",
        "            img_input = layers.Input(tensor=input_tensor, shape=input_shape)\n",
        "        else:\n",
        "            img_input = input_tensor\n",
        "    if backend.image_data_format() == 'channels_last':\n",
        "        bn_axis = 3\n",
        "    else:\n",
        "        bn_axis = 1\n",
        "\n",
        "    x = ZeroPadding2D(padding=(3,3),name='conv1_pad')(img_input)\n",
        "    x = Convolution2D(64,(7,7),\n",
        "                      strides=(2,2),\n",
        "                      padding='valid',\n",
        "                      kernel_initializer='he_normal',\n",
        "                      name='conv1')(x)\n",
        "    x = BatchNormalization(axis=bn_axis,name='bn_conv1')(x)\n",
        "    x = Activation('relu')(x)\n",
        "    x = ZeroPadding2D(padding=(1,1),name='pool1_pad')(x)\n",
        "    x = MaxPooling2D((3,3),strides=(2,2))(x)\n",
        "\n",
        "    x = identity_block(x,3,[64,64],stage=2,block='a')\n",
        "    x = identity_block(x,3,[64,64],stage=2,block='b')\n",
        "\n",
        "    x = conv_block(x,3,[128,128],stage=3,block='a')\n",
        "    x = identity_block(x,3,[128,128],stage=3,block='b')\n",
        "\n",
        "    x = conv_block(x,3,[256,256],stage=4,block='a')\n",
        "    x = identity_block(x,3,[256,256],stage=4,block='b')\n",
        "\n",
        "    x = conv_block(x,3,[512,512],stage=5,block='a')\n",
        "    x = identity_block(x,3,[512,512],stage=5,block='b')\n",
        "\n",
        "\n",
        "    if include_top:\n",
        "        x = layers.GlobalAveragePooling2D(name='avg_pool')(x)\n",
        "        x = layers.Dense(classes, activation='softmax', name='fc20')(x)\n",
        "    else:\n",
        "        if pooling == 'avg':\n",
        "            x = layers.GlobalAveragePooling2D()(x)\n",
        "        elif pooling == 'max':\n",
        "            x = layers.GlobalMaxPooling2D()(x)\n",
        "        '''\n",
        "        else:\n",
        "            warnings.warn('The output shape of `ResNet18(include_top=False)` '\n",
        "                          'has been changed since Keras 2.2.0.')\n",
        "        '''\n",
        "    \n",
        "\n",
        "    # Ensure that the model takes into account\n",
        "    # any potential predecessors of `input_tensor`.\n",
        "    if input_tensor is not None:\n",
        "        inputs = keras_utils.get_source_inputs(input_tensor)\n",
        "    else:\n",
        "        inputs = img_input\n",
        "    # Create model.\n",
        "    model = Model(inputs, x, name='resnet18')\n",
        "\n",
        "    # Load weights.\n",
        "    if weights == 'cifar100_coarse':\n",
        "        if include_top:\n",
        "            weights_path = keras_utils.get_file(\n",
        "                'resnet18_cifar100_top.h5',\n",
        "                WEIGHTS_PATH,\n",
        "                cache_subdir='models',\n",
        "                md5_hash='e0798dd90ac7e0498cbdea853bd3ed7f')\n",
        "        else:\n",
        "            weights_path = keras_utils.get_file(\n",
        "                'resnet18_cifar100_no_top.h5',\n",
        "                WEIGHTS_PATH_NO_TOP,\n",
        "                cache_subdir='models',\n",
        "                md5_hash='bfeace78cec55f2b0401c1f41c81e1dd')\n",
        "        model.load_weights(weights_path)\n",
        "\n",
        "  \n",
        "    return model"
      ],
      "execution_count": 54,
      "outputs": []
    },
    {
      "cell_type": "code",
      "metadata": {
        "id": "WDRjxjHNgflE",
        "outputId": "f8197c53-83d9-4a78-9ec6-f01a62d6e1b7",
        "colab": {
          "base_uri": "https://localhost:8080/"
        }
      },
      "source": [
        "!md5sum resnet18_cifar100_top.h5"
      ],
      "execution_count": 13,
      "outputs": [
        {
          "output_type": "stream",
          "text": [
            "e0798dd90ac7e0498cbdea853bd3ed7f  resnet18_cifar100_top.h5\n"
          ],
          "name": "stdout"
        }
      ]
    },
    {
      "cell_type": "code",
      "metadata": {
        "id": "hJfw7LxTiINg",
        "outputId": "8e41b2e0-a0a6-44f2-8a8f-654809214af3",
        "colab": {
          "base_uri": "https://localhost:8080/"
        }
      },
      "source": [
        "!md5sum resnet18_cifar100_no_top.h5"
      ],
      "execution_count": 14,
      "outputs": [
        {
          "output_type": "stream",
          "text": [
            "bfeace78cec55f2b0401c1f41c81e1dd  resnet18_cifar100_no_top.h5\n"
          ],
          "name": "stdout"
        }
      ]
    },
    {
      "cell_type": "code",
      "metadata": {
        "id": "z0mHTJfd0ddf"
      },
      "source": [
        "def compile(model):\n",
        "    model.compile(\n",
        "    optimizer='adam',\n",
        "    loss='sparse_categorical_crossentropy',\n",
        "    metrics=['accuracy']\n",
        "    )\n",
        "    return model"
      ],
      "execution_count": 15,
      "outputs": []
    },
    {
      "cell_type": "code",
      "metadata": {
        "id": "XavsEKUN25H3",
        "outputId": "cdd900b5-b748-4bc5-9fbe-db036a4e9f95",
        "colab": {
          "base_uri": "https://localhost:8080/"
        }
      },
      "source": [
        "# CIFAR100 coarse from tf.keras.datasets \n",
        "cifar100_coarse = datasets.cifar100\n",
        "(x_train_100_coarse,y_train_100_coarse),(x_test_100_coarse,y_test_100_coarse) = cifar100_coarse.load_data(label_mode=\"coarse\")\n",
        "x_train_100_coarse = x_train_100_coarse/255.0\n",
        "x_test_100_coarse = x_test_100_coarse/255.0"
      ],
      "execution_count": 16,
      "outputs": [
        {
          "output_type": "stream",
          "text": [
            "Downloading data from https://www.cs.toronto.edu/~kriz/cifar-100-python.tar.gz\n",
            "169009152/169001437 [==============================] - 6s 0us/step\n"
          ],
          "name": "stdout"
        }
      ]
    },
    {
      "cell_type": "code",
      "metadata": {
        "id": "LpaBNFjLO8Km",
        "outputId": "1a7dd4ae-8f2e-4a34-fd23-3f67cee62866",
        "colab": {
          "base_uri": "https://localhost:8080/"
        }
      },
      "source": [
        "# Resnet18_100_coarse from ResNet18 class with TOP\n",
        "input_shape = (32,32,3)\n",
        "my_resnet18 = ResNet18(include_top=True,weights=None,classes=20,input_shape=input_shape,backend=backend,layers=layers,models=models,utils=utils)\n",
        "my_resnet18 = compile(my_resnet18)\n",
        "my_resnet18.summary()"
      ],
      "execution_count": 21,
      "outputs": [
        {
          "output_type": "stream",
          "text": [
            "Model: \"resnet18\"\n",
            "__________________________________________________________________________________________________\n",
            "Layer (type)                    Output Shape         Param #     Connected to                     \n",
            "==================================================================================================\n",
            "input_2 (InputLayer)            [(None, 32, 32, 3)]  0                                            \n",
            "__________________________________________________________________________________________________\n",
            "conv1_pad (ZeroPadding2D)       (None, 38, 38, 3)    0           input_2[0][0]                    \n",
            "__________________________________________________________________________________________________\n",
            "conv1 (Conv2D)                  (None, 16, 16, 64)   9472        conv1_pad[0][0]                  \n",
            "__________________________________________________________________________________________________\n",
            "bn_conv1 (BatchNormalization)   (None, 16, 16, 64)   256         conv1[0][0]                      \n",
            "__________________________________________________________________________________________________\n",
            "activation_25 (Activation)      (None, 16, 16, 64)   0           bn_conv1[0][0]                   \n",
            "__________________________________________________________________________________________________\n",
            "pool1_pad (ZeroPadding2D)       (None, 18, 18, 64)   0           activation_25[0][0]              \n",
            "__________________________________________________________________________________________________\n",
            "max_pooling2d_1 (MaxPooling2D)  (None, 8, 8, 64)     0           pool1_pad[0][0]                  \n",
            "__________________________________________________________________________________________________\n",
            "res2a_branch2a (Conv2D)         (None, 8, 8, 64)     4160        max_pooling2d_1[0][0]            \n",
            "__________________________________________________________________________________________________\n",
            "bn2a_branch2a (BatchNormalizati (None, 8, 8, 64)     256         res2a_branch2a[0][0]             \n",
            "__________________________________________________________________________________________________\n",
            "activation_26 (Activation)      (None, 8, 8, 64)     0           bn2a_branch2a[0][0]              \n",
            "__________________________________________________________________________________________________\n",
            "res2a_branch2b (Conv2D)         (None, 8, 8, 64)     36928       activation_26[0][0]              \n",
            "__________________________________________________________________________________________________\n",
            "bn2a_branch2b (BatchNormalizati (None, 8, 8, 64)     256         res2a_branch2b[0][0]             \n",
            "__________________________________________________________________________________________________\n",
            "activation_27 (Activation)      (None, 8, 8, 64)     0           bn2a_branch2b[0][0]              \n",
            "__________________________________________________________________________________________________\n",
            "add_8 (Add)                     (None, 8, 8, 64)     0           activation_27[0][0]              \n",
            "                                                                 max_pooling2d_1[0][0]            \n",
            "__________________________________________________________________________________________________\n",
            "activation_28 (Activation)      (None, 8, 8, 64)     0           add_8[0][0]                      \n",
            "__________________________________________________________________________________________________\n",
            "res2b_branch2a (Conv2D)         (None, 8, 8, 64)     4160        activation_28[0][0]              \n",
            "__________________________________________________________________________________________________\n",
            "bn2b_branch2a (BatchNormalizati (None, 8, 8, 64)     256         res2b_branch2a[0][0]             \n",
            "__________________________________________________________________________________________________\n",
            "activation_29 (Activation)      (None, 8, 8, 64)     0           bn2b_branch2a[0][0]              \n",
            "__________________________________________________________________________________________________\n",
            "res2b_branch2b (Conv2D)         (None, 8, 8, 64)     36928       activation_29[0][0]              \n",
            "__________________________________________________________________________________________________\n",
            "bn2b_branch2b (BatchNormalizati (None, 8, 8, 64)     256         res2b_branch2b[0][0]             \n",
            "__________________________________________________________________________________________________\n",
            "activation_30 (Activation)      (None, 8, 8, 64)     0           bn2b_branch2b[0][0]              \n",
            "__________________________________________________________________________________________________\n",
            "add_9 (Add)                     (None, 8, 8, 64)     0           activation_30[0][0]              \n",
            "                                                                 activation_28[0][0]              \n",
            "__________________________________________________________________________________________________\n",
            "activation_31 (Activation)      (None, 8, 8, 64)     0           add_9[0][0]                      \n",
            "__________________________________________________________________________________________________\n",
            "res3a_branch2a (Conv2D)         (None, 4, 4, 128)    8320        activation_31[0][0]              \n",
            "__________________________________________________________________________________________________\n",
            "bn3a_branch2a (BatchNormalizati (None, 4, 4, 128)    512         res3a_branch2a[0][0]             \n",
            "__________________________________________________________________________________________________\n",
            "activation_32 (Activation)      (None, 4, 4, 128)    0           bn3a_branch2a[0][0]              \n",
            "__________________________________________________________________________________________________\n",
            "res3a_branch2b (Conv2D)         (None, 4, 4, 128)    147584      activation_32[0][0]              \n",
            "__________________________________________________________________________________________________\n",
            "bn3a_branch2b (BatchNormalizati (None, 4, 4, 128)    512         res3a_branch2b[0][0]             \n",
            "__________________________________________________________________________________________________\n",
            "res3a_branch1 (Conv2D)          (None, 4, 4, 128)    8320        activation_31[0][0]              \n",
            "__________________________________________________________________________________________________\n",
            "activation_33 (Activation)      (None, 4, 4, 128)    0           bn3a_branch2b[0][0]              \n",
            "__________________________________________________________________________________________________\n",
            "bn3a_branch1 (BatchNormalizatio (None, 4, 4, 128)    512         res3a_branch1[0][0]              \n",
            "__________________________________________________________________________________________________\n",
            "add_10 (Add)                    (None, 4, 4, 128)    0           activation_33[0][0]              \n",
            "                                                                 bn3a_branch1[0][0]               \n",
            "__________________________________________________________________________________________________\n",
            "activation_34 (Activation)      (None, 4, 4, 128)    0           add_10[0][0]                     \n",
            "__________________________________________________________________________________________________\n",
            "res3b_branch2a (Conv2D)         (None, 4, 4, 128)    16512       activation_34[0][0]              \n",
            "__________________________________________________________________________________________________\n",
            "bn3b_branch2a (BatchNormalizati (None, 4, 4, 128)    512         res3b_branch2a[0][0]             \n",
            "__________________________________________________________________________________________________\n",
            "activation_35 (Activation)      (None, 4, 4, 128)    0           bn3b_branch2a[0][0]              \n",
            "__________________________________________________________________________________________________\n",
            "res3b_branch2b (Conv2D)         (None, 4, 4, 128)    147584      activation_35[0][0]              \n",
            "__________________________________________________________________________________________________\n",
            "bn3b_branch2b (BatchNormalizati (None, 4, 4, 128)    512         res3b_branch2b[0][0]             \n",
            "__________________________________________________________________________________________________\n",
            "activation_36 (Activation)      (None, 4, 4, 128)    0           bn3b_branch2b[0][0]              \n",
            "__________________________________________________________________________________________________\n",
            "add_11 (Add)                    (None, 4, 4, 128)    0           activation_36[0][0]              \n",
            "                                                                 activation_34[0][0]              \n",
            "__________________________________________________________________________________________________\n",
            "activation_37 (Activation)      (None, 4, 4, 128)    0           add_11[0][0]                     \n",
            "__________________________________________________________________________________________________\n",
            "res4a_branch2a (Conv2D)         (None, 2, 2, 256)    33024       activation_37[0][0]              \n",
            "__________________________________________________________________________________________________\n",
            "bn4a_branch2a (BatchNormalizati (None, 2, 2, 256)    1024        res4a_branch2a[0][0]             \n",
            "__________________________________________________________________________________________________\n",
            "activation_38 (Activation)      (None, 2, 2, 256)    0           bn4a_branch2a[0][0]              \n",
            "__________________________________________________________________________________________________\n",
            "res4a_branch2b (Conv2D)         (None, 2, 2, 256)    590080      activation_38[0][0]              \n",
            "__________________________________________________________________________________________________\n",
            "bn4a_branch2b (BatchNormalizati (None, 2, 2, 256)    1024        res4a_branch2b[0][0]             \n",
            "__________________________________________________________________________________________________\n",
            "res4a_branch1 (Conv2D)          (None, 2, 2, 256)    33024       activation_37[0][0]              \n",
            "__________________________________________________________________________________________________\n",
            "activation_39 (Activation)      (None, 2, 2, 256)    0           bn4a_branch2b[0][0]              \n",
            "__________________________________________________________________________________________________\n",
            "bn4a_branch1 (BatchNormalizatio (None, 2, 2, 256)    1024        res4a_branch1[0][0]              \n",
            "__________________________________________________________________________________________________\n",
            "add_12 (Add)                    (None, 2, 2, 256)    0           activation_39[0][0]              \n",
            "                                                                 bn4a_branch1[0][0]               \n",
            "__________________________________________________________________________________________________\n",
            "activation_40 (Activation)      (None, 2, 2, 256)    0           add_12[0][0]                     \n",
            "__________________________________________________________________________________________________\n",
            "res4b_branch2a (Conv2D)         (None, 2, 2, 256)    65792       activation_40[0][0]              \n",
            "__________________________________________________________________________________________________\n",
            "bn4b_branch2a (BatchNormalizati (None, 2, 2, 256)    1024        res4b_branch2a[0][0]             \n",
            "__________________________________________________________________________________________________\n",
            "activation_41 (Activation)      (None, 2, 2, 256)    0           bn4b_branch2a[0][0]              \n",
            "__________________________________________________________________________________________________\n",
            "res4b_branch2b (Conv2D)         (None, 2, 2, 256)    590080      activation_41[0][0]              \n",
            "__________________________________________________________________________________________________\n",
            "bn4b_branch2b (BatchNormalizati (None, 2, 2, 256)    1024        res4b_branch2b[0][0]             \n",
            "__________________________________________________________________________________________________\n",
            "activation_42 (Activation)      (None, 2, 2, 256)    0           bn4b_branch2b[0][0]              \n",
            "__________________________________________________________________________________________________\n",
            "add_13 (Add)                    (None, 2, 2, 256)    0           activation_42[0][0]              \n",
            "                                                                 activation_40[0][0]              \n",
            "__________________________________________________________________________________________________\n",
            "activation_43 (Activation)      (None, 2, 2, 256)    0           add_13[0][0]                     \n",
            "__________________________________________________________________________________________________\n",
            "res5a_branch2a (Conv2D)         (None, 1, 1, 512)    131584      activation_43[0][0]              \n",
            "__________________________________________________________________________________________________\n",
            "bn5a_branch2a (BatchNormalizati (None, 1, 1, 512)    2048        res5a_branch2a[0][0]             \n",
            "__________________________________________________________________________________________________\n",
            "activation_44 (Activation)      (None, 1, 1, 512)    0           bn5a_branch2a[0][0]              \n",
            "__________________________________________________________________________________________________\n",
            "res5a_branch2b (Conv2D)         (None, 1, 1, 512)    2359808     activation_44[0][0]              \n",
            "__________________________________________________________________________________________________\n",
            "bn5a_branch2b (BatchNormalizati (None, 1, 1, 512)    2048        res5a_branch2b[0][0]             \n",
            "__________________________________________________________________________________________________\n",
            "res5a_branch1 (Conv2D)          (None, 1, 1, 512)    131584      activation_43[0][0]              \n",
            "__________________________________________________________________________________________________\n",
            "activation_45 (Activation)      (None, 1, 1, 512)    0           bn5a_branch2b[0][0]              \n",
            "__________________________________________________________________________________________________\n",
            "bn5a_branch1 (BatchNormalizatio (None, 1, 1, 512)    2048        res5a_branch1[0][0]              \n",
            "__________________________________________________________________________________________________\n",
            "add_14 (Add)                    (None, 1, 1, 512)    0           activation_45[0][0]              \n",
            "                                                                 bn5a_branch1[0][0]               \n",
            "__________________________________________________________________________________________________\n",
            "activation_46 (Activation)      (None, 1, 1, 512)    0           add_14[0][0]                     \n",
            "__________________________________________________________________________________________________\n",
            "res5b_branch2a (Conv2D)         (None, 1, 1, 512)    262656      activation_46[0][0]              \n",
            "__________________________________________________________________________________________________\n",
            "bn5b_branch2a (BatchNormalizati (None, 1, 1, 512)    2048        res5b_branch2a[0][0]             \n",
            "__________________________________________________________________________________________________\n",
            "activation_47 (Activation)      (None, 1, 1, 512)    0           bn5b_branch2a[0][0]              \n",
            "__________________________________________________________________________________________________\n",
            "res5b_branch2b (Conv2D)         (None, 1, 1, 512)    2359808     activation_47[0][0]              \n",
            "__________________________________________________________________________________________________\n",
            "bn5b_branch2b (BatchNormalizati (None, 1, 1, 512)    2048        res5b_branch2b[0][0]             \n",
            "__________________________________________________________________________________________________\n",
            "activation_48 (Activation)      (None, 1, 1, 512)    0           bn5b_branch2b[0][0]              \n",
            "__________________________________________________________________________________________________\n",
            "add_15 (Add)                    (None, 1, 1, 512)    0           activation_48[0][0]              \n",
            "                                                                 activation_46[0][0]              \n",
            "__________________________________________________________________________________________________\n",
            "activation_49 (Activation)      (None, 1, 1, 512)    0           add_15[0][0]                     \n",
            "__________________________________________________________________________________________________\n",
            "avg_pool (GlobalAveragePooling2 (None, 512)          0           activation_49[0][0]              \n",
            "__________________________________________________________________________________________________\n",
            "fc20 (Dense)                    (None, 20)           10260       avg_pool[0][0]                   \n",
            "==================================================================================================\n",
            "Total params: 7,006,868\n",
            "Trainable params: 6,997,268\n",
            "Non-trainable params: 9,600\n",
            "__________________________________________________________________________________________________\n"
          ],
          "name": "stdout"
        }
      ]
    },
    {
      "cell_type": "code",
      "metadata": {
        "id": "256hZEhm27ey"
      },
      "source": [
        "# Training ResNet18 with TOP with CIFAR10\n",
        "history = my_resnet18.fit(x_train_100_coarse,y_train_100_coarse,\n",
        "                          validation_data = (x_test_100_coarse,y_test_100_coarse),\n",
        "                          epochs=10\n",
        "                        )"
      ],
      "execution_count": null,
      "outputs": []
    },
    {
      "cell_type": "markdown",
      "metadata": {
        "id": "qR_T79A_Pbkg"
      },
      "source": [
        "# Save, Reload Model, Predict"
      ]
    },
    {
      "cell_type": "code",
      "metadata": {
        "id": "ugQW_YH-QggJ"
      },
      "source": [
        "import matplotlib.pyplot as plt"
      ],
      "execution_count": 24,
      "outputs": []
    },
    {
      "cell_type": "code",
      "metadata": {
        "id": "wxjIi7NCOO-b"
      },
      "source": [
        "#my_resnet18.save_weights(\"resnet18_cifar100_top.h5\")"
      ],
      "execution_count": 17,
      "outputs": []
    },
    {
      "cell_type": "code",
      "metadata": {
        "id": "NiHJlK2fPW3K",
        "outputId": "f67dda6a-9e27-4b1b-e6dc-dd8d9dc603bf",
        "colab": {
          "base_uri": "https://localhost:8080/"
        }
      },
      "source": [
        "!ls -lh"
      ],
      "execution_count": 19,
      "outputs": [
        {
          "output_type": "stream",
          "text": [
            "total 54M\n",
            "drwxr-xr-x 3 root root 4.0K Nov  4 09:07 keras_applications\n",
            "drwxr-xr-x 5 root root 4.0K Nov  4 09:06 keras-applications\n",
            "drwxr-xr-x 4 root root 4.0K Nov  4 09:07 resnet\n",
            "-rw-r--r-- 1 root root  27M Nov  4 09:05 resnet18_cifar100_no_top.h5\n",
            "-rw-r--r-- 1 root root  27M Nov  4 09:08 resnet18_cifar100_top.h5\n",
            "drwxr-xr-x 1 root root 4.0K Oct 28 16:30 sample_data\n"
          ],
          "name": "stdout"
        }
      ]
    },
    {
      "cell_type": "code",
      "metadata": {
        "id": "HiixbQAqPg12"
      },
      "source": [
        "input_shape = (32,32,3)\n",
        "loaded_resnet = ResNet18(include_top=True,weights=None,classes=20,input_shape=input_shape,backend=backend,layers=layers,models=models,utils=utils)\n",
        "loaded_resnet = compile(my_resnet18)\n",
        "loaded_resnet.load_weights('resnet18_cifar100_top.h5')\n",
        "loaded_resnet.summary()"
      ],
      "execution_count": null,
      "outputs": []
    },
    {
      "cell_type": "code",
      "metadata": {
        "id": "lyK0hCyXQJOR",
        "outputId": "ef855a6d-43b9-4beb-8970-648dc84c08ad",
        "colab": {
          "base_uri": "https://localhost:8080/",
          "height": 281
        }
      },
      "source": [
        "test_images = x_train_100_coarse[:100]\n",
        "plt.imshow(test_images[0])\n",
        "plt.title(\"Test Image 0\")\n",
        "plt.show()"
      ],
      "execution_count": 25,
      "outputs": [
        {
          "output_type": "display_data",
          "data": {
            "image/png": "[encoded data removed]",
            "text/plain": [
              "<Figure size 432x288 with 1 Axes>"
            ]
          },
          "metadata": {
            "tags": [],
            "needs_background": "light"
          }
        }
      ]
    },
    {
      "cell_type": "code",
      "metadata": {
        "id": "Qp7stzwQRj4k",
        "outputId": "fbd58286-5749-4149-cd1c-d42a22da3a07",
        "colab": {
          "base_uri": "https://localhost:8080/"
        }
      },
      "source": [
        "cifar100_supsub_classes={\"aquatic\": \"mammals\tbeaver, dolphin, otter, seal, whale\",\n",
        "\"fish\":\t\"aquarium fish, flatfish, ray, shark, trout\",\n",
        "\"flowers\":\t\"orchids, poppies, roses, sunflowers, tulips\",\n",
        "\"food containers\":\t\"bottles, bowls, cans, cups, plates\",\n",
        "\"fruit and vegetables\":\t\"apples, mushrooms, oranges, pears, sweet peppers\",\n",
        "\"household electrical devices\":\t\"clock, computer keyboard, lamp, telephone, television\",\n",
        "\"household furniture\":\t\"bed, chair, couch, table, wardrobe\",\n",
        "\"insects\":\t\"bee, beetle, butterfly, caterpillar, cockroach\",\n",
        "\"large carnivores\":\t\"bear, leopard, lion, tiger, wolf\",\n",
        "\"large man-made outdoor things\":\t\"bridge, castle, house, road, skyscraper\",\n",
        "\"large natural outdoor scenes\":\t\"cloud, forest, mountain, plain, sea\",\n",
        "\"large omnivores and herbivores\":\t\"camel, cattle, chimpanzee, elephant, kangaroo\",\n",
        "\"medium-sized mammals\":\t\"fox, porcupine, possum, raccoon, skunk\",\n",
        "\"non-insect invertebrates\":\t\"crab, lobster, snail, spider, worm\",\n",
        "\"people\":\t\"baby, boy, girl, man, woman\",\n",
        "\"reptiles\":\t\"crocodile, dinosaur, lizard, snake, turtle\",\n",
        "\"small mammals\":\t\"hamster, mouse, rabbit, shrew, squirrel\",\n",
        "\"trees\"\t:\"maple, oak, palm, pine, willow\",\n",
        "\"vehicles 1\":\t\"bicycle, bus, motorcycle, pickup truck, train\",\n",
        "\"vehicles 2\": \"lawn-mower, rocket, streetcar, tank, tractor\"}\n",
        "print(cifar100_supsub_classes['fish'])"
      ],
      "execution_count": 26,
      "outputs": [
        {
          "output_type": "stream",
          "text": [
            "aquarium fish, flatfish, ray, shark, trout\n"
          ],
          "name": "stdout"
        }
      ]
    },
    {
      "cell_type": "code",
      "metadata": {
        "id": "pQ6gJHrQS_OK",
        "outputId": "dd660b39-081c-475f-fdca-801aa527a0e5",
        "colab": {
          "base_uri": "https://localhost:8080/"
        }
      },
      "source": [
        "cifar100_super_classes = {}\n",
        "i = 0\n",
        "for key in cifar100_supsub_classes.keys():\n",
        "  cifar100_super_classes[i]=key\n",
        "  i=i+1\n",
        "print(cifar100_super_classes)"
      ],
      "execution_count": 27,
      "outputs": [
        {
          "output_type": "stream",
          "text": [
            "{0: 'aquatic', 1: 'fish', 2: 'flowers', 3: 'food containers', 4: 'fruit and vegetables', 5: 'household electrical devices', 6: 'household furniture', 7: 'insects', 8: 'large carnivores', 9: 'large man-made outdoor things', 10: 'large natural outdoor scenes', 11: 'large omnivores and herbivores', 12: 'medium-sized mammals', 13: 'non-insect invertebrates', 14: 'people', 15: 'reptiles', 16: 'small mammals', 17: 'trees', 18: 'vehicles 1', 19: 'vehicles 2'}\n"
          ],
          "name": "stdout"
        }
      ]
    },
    {
      "cell_type": "code",
      "metadata": {
        "id": "eEMyH8byQswU",
        "outputId": "75967c58-19d0-44d3-aca4-28f7f24c816f",
        "colab": {
          "base_uri": "https://localhost:8080/"
        }
      },
      "source": [
        "predictions = loaded_resnet.predict(test_images)\n",
        "pred0 = np.argmax(predictions[0])\n",
        "print(pred0)"
      ],
      "execution_count": 28,
      "outputs": [
        {
          "output_type": "stream",
          "text": [
            "11\n"
          ],
          "name": "stdout"
        }
      ]
    },
    {
      "cell_type": "code",
      "metadata": {
        "id": "9tvflhDcWYRG",
        "outputId": "dd68466b-07a8-48a1-ecc6-f01c81215c4d",
        "colab": {
          "base_uri": "https://localhost:8080/",
          "height": 223
        }
      },
      "source": [
        "import matplotlib.pyplot as plt\n",
        "fig =  plt.subplots(figsize=(12,6))\n",
        "i = 0\n",
        "j = 1\n",
        "for i in range(0,1):\n",
        "  for j in range(1,5):\n",
        "    plt.subplot(1,4,j)\n",
        "    plt.imshow(test_images[j-1])\n",
        "    plt.title(f'Image:{j}, prediction:{np.argmax(predictions[j-1])}')\n",
        "    plt.xlabel(f'{cifar100_super_classes[np.argmax(predictions[j-1])]}')\n",
        "    j = j+1\n",
        "plt.show()"
      ],
      "execution_count": 29,
      "outputs": [
        {
          "output_type": "display_data",
          "data": {
            "image/png": "[encoded data removed]",
            "text/plain": [
              "<Figure size 864x432 with 4 Axes>"
            ]
          },
          "metadata": {
            "tags": [],
            "needs_background": "light"
          }
        }
      ]
    },
    {
      "cell_type": "markdown",
      "metadata": {
        "id": "N7mEpWzAZ7C4"
      },
      "source": [
        "# Neural Network info"
      ]
    },
    {
      "cell_type": "code",
      "metadata": {
        "id": "iAzBC_c-Z9mt"
      },
      "source": [
        "# Layers Info\n",
        "def nn_layers_info(neural_net):\n",
        "  print(f'There are {len(neural_net.layers)} layers')\n",
        "  return neural_net.layers\n",
        "\n",
        "nn_layers_info(my_resnet18)"
      ],
      "execution_count": null,
      "outputs": []
    },
    {
      "cell_type": "code",
      "metadata": {
        "id": "2ygfZQAWaacl",
        "outputId": "f2f55653-cf08-4479-cde1-9af6fa4e5e51",
        "colab": {
          "base_uri": "https://localhost:8080/"
        }
      },
      "source": [
        "# Weights Info\n",
        "def nn_weights_info(neural_net):\n",
        "  print(f'There are {len(neural_net.weights)} weights')\n",
        "\n",
        "nn_weights_info(my_resnet18)"
      ],
      "execution_count": 26,
      "outputs": [
        {
          "output_type": "stream",
          "text": [
            "There are 122 weights\n"
          ],
          "name": "stdout"
        }
      ]
    },
    {
      "cell_type": "code",
      "metadata": {
        "id": "k-18GmSMbsAD"
      },
      "source": [
        "# Params Info\n",
        "def nn_params_info(neural_net):\n",
        "  for layer in my_resnet18.layers:\n",
        "    print(f'layer name:{layer.name}, number of parameters: {layer.count_params()}')\n",
        "  return f'Total parameters {neural_net.count_params()}'\n",
        "\n",
        "nn_params_info(my_resnet18)"
      ],
      "execution_count": null,
      "outputs": []
    },
    {
      "cell_type": "code",
      "metadata": {
        "id": "sDIpe9bkbUta"
      },
      "source": [
        "# Summary Info\n",
        "def nn_summary(neural_net):\n",
        "  return neural_net.summary()\n",
        "\n",
        "nn_summary(my_resnet18)"
      ],
      "execution_count": null,
      "outputs": []
    },
    {
      "cell_type": "markdown",
      "metadata": {
        "id": "dWv4ow2OPjLz"
      },
      "source": [
        "# ResNet18 NO TOP Weights"
      ]
    },
    {
      "cell_type": "markdown",
      "metadata": {
        "id": "uA8mhRlcRM5I"
      },
      "source": [
        "## Cifar100 No Weights"
      ]
    },
    {
      "cell_type": "code",
      "metadata": {
        "id": "BfZ6fVpKQ4ga"
      },
      "source": [
        "# Resnet18_100 from ResNet18 class with TOP & no Weigths\n",
        "input_shape = (32,32,3)\n",
        "top_resnet18 = ResNet18(include_top=True,weights=None,classes=20,input_shape=input_shape,backend=backend,layers=layers,models=models,utils=utils)\n",
        "top_resnet18 = compile(top_resnet18)\n",
        "top_resnet18.summary()"
      ],
      "execution_count": null,
      "outputs": []
    },
    {
      "cell_type": "code",
      "metadata": {
        "id": "zH2-bm_Ljy3t",
        "outputId": "39d93c24-68dc-4541-d3b5-356df1629980",
        "colab": {
          "base_uri": "https://localhost:8080/"
        }
      },
      "source": [
        "random_top_weights = top_resnet18.weights\n",
        "random_top_weights[0][0][0][0]"
      ],
      "execution_count": 43,
      "outputs": [
        {
          "output_type": "execute_result",
          "data": {
            "text/plain": [
              "<tf.Tensor: shape=(64,), dtype=float32, numpy=\n",
              "array([-0.08836839, -0.08240911, -0.05144089, -0.00130416,  0.04318661,\n",
              "       -0.12342025,  0.10962786, -0.18634513, -0.11967078, -0.07758106,\n",
              "        0.02259223, -0.03895619, -0.05847123,  0.04867962,  0.08985678,\n",
              "        0.1545401 , -0.05370102,  0.0280428 , -0.03349792,  0.01625451,\n",
              "       -0.14141232, -0.02349478,  0.04744306,  0.04938268, -0.02752599,\n",
              "        0.1884458 , -0.06740288,  0.01768197,  0.0050934 , -0.02200454,\n",
              "        0.04125036,  0.07129133,  0.15195563, -0.17675139, -0.09930937,\n",
              "       -0.15128314, -0.06170902, -0.06757203, -0.10143774,  0.09421344,\n",
              "        0.17030154, -0.07866001,  0.12035658, -0.0648983 ,  0.09155799,\n",
              "       -0.18555275, -0.08427168,  0.20953125, -0.20751305,  0.13035037,\n",
              "       -0.04505856,  0.01066246,  0.01642774, -0.00930217, -0.06699029,\n",
              "       -0.01232669,  0.09278036,  0.132396  ,  0.10187806,  0.2465946 ,\n",
              "       -0.01917635,  0.02111544, -0.05174817,  0.02181337], dtype=float32)>"
            ]
          },
          "metadata": {
            "tags": []
          },
          "execution_count": 43
        }
      ]
    },
    {
      "cell_type": "code",
      "metadata": {
        "id": "OyPLsLekRkXe"
      },
      "source": [
        "# Resnet18_100 from ResNet18 class with No TOP & no Weigths\n",
        "input_shape = (32,32,3)\n",
        "notop_resnet18 = ResNet18(include_top=False,pooling='avg',weights=None,classes=20,input_shape=input_shape,backend=backend,layers=layers,models=models,utils=utils)\n",
        "notop_resnet18 = compile(notop_resnet18)\n",
        "notop_resnet18.summary()"
      ],
      "execution_count": null,
      "outputs": []
    },
    {
      "cell_type": "code",
      "metadata": {
        "id": "JXIphlbxjQ5b",
        "outputId": "adc04d86-5f96-4055-f59a-73204d2be7e9",
        "colab": {
          "base_uri": "https://localhost:8080/"
        }
      },
      "source": [
        "random_notop_weights = notop_resnet18.weights\n",
        "random_notop_weights[0][0][0][0]"
      ],
      "execution_count": 45,
      "outputs": [
        {
          "output_type": "execute_result",
          "data": {
            "text/plain": [
              "<tf.Tensor: shape=(64,), dtype=float32, numpy=\n",
              "array([-0.07587201,  0.24407673, -0.08724631,  0.15505573, -0.09197802,\n",
              "        0.05938483,  0.16241673,  0.00255504, -0.09210236,  0.05199526,\n",
              "        0.07398504, -0.05322893, -0.03986897, -0.05050983, -0.05738202,\n",
              "       -0.20690753, -0.05438866,  0.12810434,  0.02011553, -0.02887898,\n",
              "        0.08241883, -0.21464857, -0.14037283, -0.00846963,  0.12110183,\n",
              "        0.03794559, -0.04293818, -0.10492632, -0.15852578,  0.04213529,\n",
              "        0.02935426, -0.04477064, -0.13648473,  0.01295388, -0.20720926,\n",
              "        0.02971106, -0.06958057,  0.12976314,  0.02426537,  0.13295607,\n",
              "       -0.08648776, -0.00768261,  0.163994  ,  0.25148433, -0.0557432 ,\n",
              "       -0.02180125,  0.00347287, -0.0895718 ,  0.00500379,  0.16245951,\n",
              "       -0.11805464, -0.065912  , -0.04508141,  0.23754527,  0.04874801,\n",
              "       -0.13784848, -0.11026838,  0.08560955, -0.17357366, -0.01154775,\n",
              "        0.16489935, -0.05303808, -0.03845139, -0.17963636], dtype=float32)>"
            ]
          },
          "metadata": {
            "tags": []
          },
          "execution_count": 45
        }
      ]
    },
    {
      "cell_type": "markdown",
      "metadata": {
        "id": "zqNyZlCNRQSd"
      },
      "source": [
        "##Cifar100 load Weights"
      ]
    },
    {
      "cell_type": "code",
      "metadata": {
        "id": "setB5JzsDm9i"
      },
      "source": [
        "# Resnet18_100 from ResNet18 class with TOP & Cifar100 Weigths\n",
        "input_shape = (32,32,3)\n",
        "top_resnet18 = ResNet18(include_top=True,weights=None,classes=20,input_shape=input_shape,backend=backend,layers=layers,models=models,utils=utils)\n",
        "top_resnet18 = compile(top_resnet18)\n",
        "top_resnet18.load_weights('resnet18_cifar100_top.h5')\n",
        "top_resnet18.summary()"
      ],
      "execution_count": null,
      "outputs": []
    },
    {
      "cell_type": "code",
      "metadata": {
        "id": "l4JglMtWjvnr"
      },
      "source": [
        "top_weights = top_resnet18.weights\n",
        "top_weights[0][0][0][0]"
      ],
      "execution_count": null,
      "outputs": []
    },
    {
      "cell_type": "code",
      "metadata": {
        "id": "bUEILXzkRBz1"
      },
      "source": [
        "# Resnet18_100_coarse from ResNet18 class with NO TOP & Cifar100 notop Weights\n",
        "new_input = top_resnet18.input\n",
        "hidden_layers = top_resnet18.layers[-2].output\n",
        "new_output = hidden_layers\n",
        "notop_resnet18 = Model(new_input,new_output)\n",
        "notop_resnet18.summary()\n",
        "notop_resnet18.save_weights('resnet18_cifar100_no_top.h5')"
      ],
      "execution_count": null,
      "outputs": []
    },
    {
      "cell_type": "code",
      "metadata": {
        "id": "99K8OS87jtzc"
      },
      "source": [
        "notop_weights = notop_resnet18.weights\n",
        "notop_weights[0][0][0][0]"
      ],
      "execution_count": null,
      "outputs": []
    },
    {
      "cell_type": "markdown",
      "metadata": {
        "id": "YXe4D8u9SLlX"
      },
      "source": [
        "## Cifar100 pre-load Weights"
      ]
    },
    {
      "cell_type": "code",
      "metadata": {
        "id": "T6vT1AUsTH9Z"
      },
      "source": [
        "WEIGHTS_PATH = 'https://raw.githubusercontent.com/cl3m3nt/resnet/master/resnet18_cifar100_top.h5'\n",
        "WEIGHTS_PATH_NO_TOP = 'https://raw.githubusercontent.com/cl3m3nt/resnet/master/resnet18_cifar100_no_top.h5'"
      ],
      "execution_count": 55,
      "outputs": []
    },
    {
      "cell_type": "code",
      "metadata": {
        "id": "YpD4HL-WfYgP"
      },
      "source": [
        "WEIGHTS_PATH = 'https://github.com/cl3m3nt/resnet/blob/master/resnet18_cifar100_top.h5'\n",
        "WEIGHTS_PATH_NO_TOP = 'https://github.com/cl3m3nt/resnet/blob/master/resnet18_cifar100_top.h5'"
      ],
      "execution_count": 50,
      "outputs": []
    },
    {
      "cell_type": "code",
      "metadata": {
        "id": "TDbqIfTDSPdi",
        "outputId": "5564917c-6f0e-422f-ec43-17e2873ab111",
        "colab": {
          "base_uri": "https://localhost:8080/"
        }
      },
      "source": [
        "# Resnet18_100 from ResNet18 class with TOP & Cifar100 Weigths\n",
        "input_shape = (32,32,3)\n",
        "top_resnet18 = ResNet18(include_top=True,weights='cifar100_coarse',classes=20,input_shape=input_shape,backend=backend,layers=layers,models=models,utils=utils)\n",
        "top_resnet18 = compile(top_resnet18)\n",
        "top_resnet18.summary()"
      ],
      "execution_count": 56,
      "outputs": [
        {
          "output_type": "stream",
          "text": [
            "Model: \"resnet18\"\n",
            "__________________________________________________________________________________________________\n",
            "Layer (type)                    Output Shape         Param #     Connected to                     \n",
            "==================================================================================================\n",
            "input_13 (InputLayer)           [(None, 32, 32, 3)]  0                                            \n",
            "__________________________________________________________________________________________________\n",
            "conv1_pad (ZeroPadding2D)       (None, 38, 38, 3)    0           input_13[0][0]                   \n",
            "__________________________________________________________________________________________________\n",
            "conv1 (Conv2D)                  (None, 16, 16, 64)   9472        conv1_pad[0][0]                  \n",
            "__________________________________________________________________________________________________\n",
            "bn_conv1 (BatchNormalization)   (None, 16, 16, 64)   256         conv1[0][0]                      \n",
            "__________________________________________________________________________________________________\n",
            "activation_300 (Activation)     (None, 16, 16, 64)   0           bn_conv1[0][0]                   \n",
            "__________________________________________________________________________________________________\n",
            "pool1_pad (ZeroPadding2D)       (None, 18, 18, 64)   0           activation_300[0][0]             \n",
            "__________________________________________________________________________________________________\n",
            "max_pooling2d_12 (MaxPooling2D) (None, 8, 8, 64)     0           pool1_pad[0][0]                  \n",
            "__________________________________________________________________________________________________\n",
            "res2a_branch2a (Conv2D)         (None, 8, 8, 64)     4160        max_pooling2d_12[0][0]           \n",
            "__________________________________________________________________________________________________\n",
            "bn2a_branch2a (BatchNormalizati (None, 8, 8, 64)     256         res2a_branch2a[0][0]             \n",
            "__________________________________________________________________________________________________\n",
            "activation_301 (Activation)     (None, 8, 8, 64)     0           bn2a_branch2a[0][0]              \n",
            "__________________________________________________________________________________________________\n",
            "res2a_branch2b (Conv2D)         (None, 8, 8, 64)     36928       activation_301[0][0]             \n",
            "__________________________________________________________________________________________________\n",
            "bn2a_branch2b (BatchNormalizati (None, 8, 8, 64)     256         res2a_branch2b[0][0]             \n",
            "__________________________________________________________________________________________________\n",
            "activation_302 (Activation)     (None, 8, 8, 64)     0           bn2a_branch2b[0][0]              \n",
            "__________________________________________________________________________________________________\n",
            "add_96 (Add)                    (None, 8, 8, 64)     0           activation_302[0][0]             \n",
            "                                                                 max_pooling2d_12[0][0]           \n",
            "__________________________________________________________________________________________________\n",
            "activation_303 (Activation)     (None, 8, 8, 64)     0           add_96[0][0]                     \n",
            "__________________________________________________________________________________________________\n",
            "res2b_branch2a (Conv2D)         (None, 8, 8, 64)     4160        activation_303[0][0]             \n",
            "__________________________________________________________________________________________________\n",
            "bn2b_branch2a (BatchNormalizati (None, 8, 8, 64)     256         res2b_branch2a[0][0]             \n",
            "__________________________________________________________________________________________________\n",
            "activation_304 (Activation)     (None, 8, 8, 64)     0           bn2b_branch2a[0][0]              \n",
            "__________________________________________________________________________________________________\n",
            "res2b_branch2b (Conv2D)         (None, 8, 8, 64)     36928       activation_304[0][0]             \n",
            "__________________________________________________________________________________________________\n",
            "bn2b_branch2b (BatchNormalizati (None, 8, 8, 64)     256         res2b_branch2b[0][0]             \n",
            "__________________________________________________________________________________________________\n",
            "activation_305 (Activation)     (None, 8, 8, 64)     0           bn2b_branch2b[0][0]              \n",
            "__________________________________________________________________________________________________\n",
            "add_97 (Add)                    (None, 8, 8, 64)     0           activation_305[0][0]             \n",
            "                                                                 activation_303[0][0]             \n",
            "__________________________________________________________________________________________________\n",
            "activation_306 (Activation)     (None, 8, 8, 64)     0           add_97[0][0]                     \n",
            "__________________________________________________________________________________________________\n",
            "res3a_branch2a (Conv2D)         (None, 4, 4, 128)    8320        activation_306[0][0]             \n",
            "__________________________________________________________________________________________________\n",
            "bn3a_branch2a (BatchNormalizati (None, 4, 4, 128)    512         res3a_branch2a[0][0]             \n",
            "__________________________________________________________________________________________________\n",
            "activation_307 (Activation)     (None, 4, 4, 128)    0           bn3a_branch2a[0][0]              \n",
            "__________________________________________________________________________________________________\n",
            "res3a_branch2b (Conv2D)         (None, 4, 4, 128)    147584      activation_307[0][0]             \n",
            "__________________________________________________________________________________________________\n",
            "bn3a_branch2b (BatchNormalizati (None, 4, 4, 128)    512         res3a_branch2b[0][0]             \n",
            "__________________________________________________________________________________________________\n",
            "res3a_branch1 (Conv2D)          (None, 4, 4, 128)    8320        activation_306[0][0]             \n",
            "__________________________________________________________________________________________________\n",
            "activation_308 (Activation)     (None, 4, 4, 128)    0           bn3a_branch2b[0][0]              \n",
            "__________________________________________________________________________________________________\n",
            "bn3a_branch1 (BatchNormalizatio (None, 4, 4, 128)    512         res3a_branch1[0][0]              \n",
            "__________________________________________________________________________________________________\n",
            "add_98 (Add)                    (None, 4, 4, 128)    0           activation_308[0][0]             \n",
            "                                                                 bn3a_branch1[0][0]               \n",
            "__________________________________________________________________________________________________\n",
            "activation_309 (Activation)     (None, 4, 4, 128)    0           add_98[0][0]                     \n",
            "__________________________________________________________________________________________________\n",
            "res3b_branch2a (Conv2D)         (None, 4, 4, 128)    16512       activation_309[0][0]             \n",
            "__________________________________________________________________________________________________\n",
            "bn3b_branch2a (BatchNormalizati (None, 4, 4, 128)    512         res3b_branch2a[0][0]             \n",
            "__________________________________________________________________________________________________\n",
            "activation_310 (Activation)     (None, 4, 4, 128)    0           bn3b_branch2a[0][0]              \n",
            "__________________________________________________________________________________________________\n",
            "res3b_branch2b (Conv2D)         (None, 4, 4, 128)    147584      activation_310[0][0]             \n",
            "__________________________________________________________________________________________________\n",
            "bn3b_branch2b (BatchNormalizati (None, 4, 4, 128)    512         res3b_branch2b[0][0]             \n",
            "__________________________________________________________________________________________________\n",
            "activation_311 (Activation)     (None, 4, 4, 128)    0           bn3b_branch2b[0][0]              \n",
            "__________________________________________________________________________________________________\n",
            "add_99 (Add)                    (None, 4, 4, 128)    0           activation_311[0][0]             \n",
            "                                                                 activation_309[0][0]             \n",
            "__________________________________________________________________________________________________\n",
            "activation_312 (Activation)     (None, 4, 4, 128)    0           add_99[0][0]                     \n",
            "__________________________________________________________________________________________________\n",
            "res4a_branch2a (Conv2D)         (None, 2, 2, 256)    33024       activation_312[0][0]             \n",
            "__________________________________________________________________________________________________\n",
            "bn4a_branch2a (BatchNormalizati (None, 2, 2, 256)    1024        res4a_branch2a[0][0]             \n",
            "__________________________________________________________________________________________________\n",
            "activation_313 (Activation)     (None, 2, 2, 256)    0           bn4a_branch2a[0][0]              \n",
            "__________________________________________________________________________________________________\n",
            "res4a_branch2b (Conv2D)         (None, 2, 2, 256)    590080      activation_313[0][0]             \n",
            "__________________________________________________________________________________________________\n",
            "bn4a_branch2b (BatchNormalizati (None, 2, 2, 256)    1024        res4a_branch2b[0][0]             \n",
            "__________________________________________________________________________________________________\n",
            "res4a_branch1 (Conv2D)          (None, 2, 2, 256)    33024       activation_312[0][0]             \n",
            "__________________________________________________________________________________________________\n",
            "activation_314 (Activation)     (None, 2, 2, 256)    0           bn4a_branch2b[0][0]              \n",
            "__________________________________________________________________________________________________\n",
            "bn4a_branch1 (BatchNormalizatio (None, 2, 2, 256)    1024        res4a_branch1[0][0]              \n",
            "__________________________________________________________________________________________________\n",
            "add_100 (Add)                   (None, 2, 2, 256)    0           activation_314[0][0]             \n",
            "                                                                 bn4a_branch1[0][0]               \n",
            "__________________________________________________________________________________________________\n",
            "activation_315 (Activation)     (None, 2, 2, 256)    0           add_100[0][0]                    \n",
            "__________________________________________________________________________________________________\n",
            "res4b_branch2a (Conv2D)         (None, 2, 2, 256)    65792       activation_315[0][0]             \n",
            "__________________________________________________________________________________________________\n",
            "bn4b_branch2a (BatchNormalizati (None, 2, 2, 256)    1024        res4b_branch2a[0][0]             \n",
            "__________________________________________________________________________________________________\n",
            "activation_316 (Activation)     (None, 2, 2, 256)    0           bn4b_branch2a[0][0]              \n",
            "__________________________________________________________________________________________________\n",
            "res4b_branch2b (Conv2D)         (None, 2, 2, 256)    590080      activation_316[0][0]             \n",
            "__________________________________________________________________________________________________\n",
            "bn4b_branch2b (BatchNormalizati (None, 2, 2, 256)    1024        res4b_branch2b[0][0]             \n",
            "__________________________________________________________________________________________________\n",
            "activation_317 (Activation)     (None, 2, 2, 256)    0           bn4b_branch2b[0][0]              \n",
            "__________________________________________________________________________________________________\n",
            "add_101 (Add)                   (None, 2, 2, 256)    0           activation_317[0][0]             \n",
            "                                                                 activation_315[0][0]             \n",
            "__________________________________________________________________________________________________\n",
            "activation_318 (Activation)     (None, 2, 2, 256)    0           add_101[0][0]                    \n",
            "__________________________________________________________________________________________________\n",
            "res5a_branch2a (Conv2D)         (None, 1, 1, 512)    131584      activation_318[0][0]             \n",
            "__________________________________________________________________________________________________\n",
            "bn5a_branch2a (BatchNormalizati (None, 1, 1, 512)    2048        res5a_branch2a[0][0]             \n",
            "__________________________________________________________________________________________________\n",
            "activation_319 (Activation)     (None, 1, 1, 512)    0           bn5a_branch2a[0][0]              \n",
            "__________________________________________________________________________________________________\n",
            "res5a_branch2b (Conv2D)         (None, 1, 1, 512)    2359808     activation_319[0][0]             \n",
            "__________________________________________________________________________________________________\n",
            "bn5a_branch2b (BatchNormalizati (None, 1, 1, 512)    2048        res5a_branch2b[0][0]             \n",
            "__________________________________________________________________________________________________\n",
            "res5a_branch1 (Conv2D)          (None, 1, 1, 512)    131584      activation_318[0][0]             \n",
            "__________________________________________________________________________________________________\n",
            "activation_320 (Activation)     (None, 1, 1, 512)    0           bn5a_branch2b[0][0]              \n",
            "__________________________________________________________________________________________________\n",
            "bn5a_branch1 (BatchNormalizatio (None, 1, 1, 512)    2048        res5a_branch1[0][0]              \n",
            "__________________________________________________________________________________________________\n",
            "add_102 (Add)                   (None, 1, 1, 512)    0           activation_320[0][0]             \n",
            "                                                                 bn5a_branch1[0][0]               \n",
            "__________________________________________________________________________________________________\n",
            "activation_321 (Activation)     (None, 1, 1, 512)    0           add_102[0][0]                    \n",
            "__________________________________________________________________________________________________\n",
            "res5b_branch2a (Conv2D)         (None, 1, 1, 512)    262656      activation_321[0][0]             \n",
            "__________________________________________________________________________________________________\n",
            "bn5b_branch2a (BatchNormalizati (None, 1, 1, 512)    2048        res5b_branch2a[0][0]             \n",
            "__________________________________________________________________________________________________\n",
            "activation_322 (Activation)     (None, 1, 1, 512)    0           bn5b_branch2a[0][0]              \n",
            "__________________________________________________________________________________________________\n",
            "res5b_branch2b (Conv2D)         (None, 1, 1, 512)    2359808     activation_322[0][0]             \n",
            "__________________________________________________________________________________________________\n",
            "bn5b_branch2b (BatchNormalizati (None, 1, 1, 512)    2048        res5b_branch2b[0][0]             \n",
            "__________________________________________________________________________________________________\n",
            "activation_323 (Activation)     (None, 1, 1, 512)    0           bn5b_branch2b[0][0]              \n",
            "__________________________________________________________________________________________________\n",
            "add_103 (Add)                   (None, 1, 1, 512)    0           activation_323[0][0]             \n",
            "                                                                 activation_321[0][0]             \n",
            "__________________________________________________________________________________________________\n",
            "activation_324 (Activation)     (None, 1, 1, 512)    0           add_103[0][0]                    \n",
            "__________________________________________________________________________________________________\n",
            "avg_pool (GlobalAveragePooling2 (None, 512)          0           activation_324[0][0]             \n",
            "__________________________________________________________________________________________________\n",
            "fc20 (Dense)                    (None, 20)           10260       avg_pool[0][0]                   \n",
            "==================================================================================================\n",
            "Total params: 7,006,868\n",
            "Trainable params: 6,997,268\n",
            "Non-trainable params: 9,600\n",
            "__________________________________________________________________________________________________\n"
          ],
          "name": "stdout"
        }
      ]
    },
    {
      "cell_type": "code",
      "metadata": {
        "id": "i2tm7UzlksTD",
        "outputId": "79973b76-74cf-4ca7-8135-b133287003d5",
        "colab": {
          "base_uri": "https://localhost:8080/"
        }
      },
      "source": [
        "top_weights = top_resnet18.weights\n",
        "top_weights[0][0][0][0]"
      ],
      "execution_count": 57,
      "outputs": [
        {
          "output_type": "execute_result",
          "data": {
            "text/plain": [
              "<tf.Tensor: shape=(64,), dtype=float32, numpy=\n",
              "array([ 1.20386168e-01,  1.01193830e-01,  1.86714068e-01, -1.81554437e-01,\n",
              "        1.03582546e-01, -4.42549512e-02,  8.52901638e-02, -7.96668753e-02,\n",
              "        1.45934656e-01, -3.02819069e-04,  9.99844521e-02, -1.64930463e-01,\n",
              "        2.90147457e-02,  7.45677501e-02,  2.86579113e-02, -1.70941278e-01,\n",
              "       -8.75851139e-02, -3.82343352e-01,  1.14802882e-01, -6.52454495e-02,\n",
              "        6.24360815e-02, -1.15842625e-01,  9.01903659e-02, -1.36539951e-01,\n",
              "        1.61293764e-02,  1.13336533e-01, -2.36857906e-02,  1.36738047e-01,\n",
              "        1.63113341e-01, -1.38032228e-01, -1.92151815e-01, -1.97885364e-01,\n",
              "       -2.30647147e-01, -1.36251390e-01,  2.93207578e-02, -5.20522445e-02,\n",
              "        2.81404778e-02,  1.20863967e-01, -3.11670341e-02, -5.70692196e-02,\n",
              "       -5.55690490e-02,  1.14200570e-01,  6.00366257e-02, -1.18082084e-01,\n",
              "       -9.42627043e-02, -1.58718396e-02,  1.59506291e-01,  1.03465505e-01,\n",
              "       -5.65853268e-02, -3.31453495e-02,  2.40538921e-03,  3.19779702e-02,\n",
              "        3.03502768e-01, -1.17672235e-01,  2.50000387e-01,  1.83501244e-01,\n",
              "        8.62559453e-02, -6.75794622e-03, -2.03748435e-01, -1.59243405e-01,\n",
              "        1.45936310e-01,  9.82930139e-02, -1.25471309e-01, -1.71026066e-01],\n",
              "      dtype=float32)>"
            ]
          },
          "metadata": {
            "tags": []
          },
          "execution_count": 57
        }
      ]
    },
    {
      "cell_type": "code",
      "metadata": {
        "id": "XNofF45-fH7k",
        "outputId": "7e6905b4-8afd-4129-f6a4-5fb8d9b39f6c",
        "colab": {
          "base_uri": "https://localhost:8080/"
        }
      },
      "source": [
        "# Resnet18_100 from ResNet18 class with NO TOP & Cifar100 Weigths\n",
        "input_shape = (32,32,3)\n",
        "notop_resnet18 = ResNet18(include_top=False,pooling='avg',weights='cifar100_coarse',classes=20,input_shape=input_shape,backend=backend,layers=layers,models=models,utils=utils)\n",
        "notop_resnet18 = compile(notop_resnet18)\n",
        "notop_resnet18.summary()"
      ],
      "execution_count": 58,
      "outputs": [
        {
          "output_type": "stream",
          "text": [
            "Downloading data from https://raw.githubusercontent.com/cl3m3nt/resnet/master/resnet18_cifar100_no_top.h5\n",
            "28164096/28156864 [==============================] - 0s 0us/step\n",
            "Model: \"resnet18\"\n",
            "__________________________________________________________________________________________________\n",
            "Layer (type)                    Output Shape         Param #     Connected to                     \n",
            "==================================================================================================\n",
            "input_14 (InputLayer)           [(None, 32, 32, 3)]  0                                            \n",
            "__________________________________________________________________________________________________\n",
            "conv1_pad (ZeroPadding2D)       (None, 38, 38, 3)    0           input_14[0][0]                   \n",
            "__________________________________________________________________________________________________\n",
            "conv1 (Conv2D)                  (None, 16, 16, 64)   9472        conv1_pad[0][0]                  \n",
            "__________________________________________________________________________________________________\n",
            "bn_conv1 (BatchNormalization)   (None, 16, 16, 64)   256         conv1[0][0]                      \n",
            "__________________________________________________________________________________________________\n",
            "activation_325 (Activation)     (None, 16, 16, 64)   0           bn_conv1[0][0]                   \n",
            "__________________________________________________________________________________________________\n",
            "pool1_pad (ZeroPadding2D)       (None, 18, 18, 64)   0           activation_325[0][0]             \n",
            "__________________________________________________________________________________________________\n",
            "max_pooling2d_13 (MaxPooling2D) (None, 8, 8, 64)     0           pool1_pad[0][0]                  \n",
            "__________________________________________________________________________________________________\n",
            "res2a_branch2a (Conv2D)         (None, 8, 8, 64)     4160        max_pooling2d_13[0][0]           \n",
            "__________________________________________________________________________________________________\n",
            "bn2a_branch2a (BatchNormalizati (None, 8, 8, 64)     256         res2a_branch2a[0][0]             \n",
            "__________________________________________________________________________________________________\n",
            "activation_326 (Activation)     (None, 8, 8, 64)     0           bn2a_branch2a[0][0]              \n",
            "__________________________________________________________________________________________________\n",
            "res2a_branch2b (Conv2D)         (None, 8, 8, 64)     36928       activation_326[0][0]             \n",
            "__________________________________________________________________________________________________\n",
            "bn2a_branch2b (BatchNormalizati (None, 8, 8, 64)     256         res2a_branch2b[0][0]             \n",
            "__________________________________________________________________________________________________\n",
            "activation_327 (Activation)     (None, 8, 8, 64)     0           bn2a_branch2b[0][0]              \n",
            "__________________________________________________________________________________________________\n",
            "add_104 (Add)                   (None, 8, 8, 64)     0           activation_327[0][0]             \n",
            "                                                                 max_pooling2d_13[0][0]           \n",
            "__________________________________________________________________________________________________\n",
            "activation_328 (Activation)     (None, 8, 8, 64)     0           add_104[0][0]                    \n",
            "__________________________________________________________________________________________________\n",
            "res2b_branch2a (Conv2D)         (None, 8, 8, 64)     4160        activation_328[0][0]             \n",
            "__________________________________________________________________________________________________\n",
            "bn2b_branch2a (BatchNormalizati (None, 8, 8, 64)     256         res2b_branch2a[0][0]             \n",
            "__________________________________________________________________________________________________\n",
            "activation_329 (Activation)     (None, 8, 8, 64)     0           bn2b_branch2a[0][0]              \n",
            "__________________________________________________________________________________________________\n",
            "res2b_branch2b (Conv2D)         (None, 8, 8, 64)     36928       activation_329[0][0]             \n",
            "__________________________________________________________________________________________________\n",
            "bn2b_branch2b (BatchNormalizati (None, 8, 8, 64)     256         res2b_branch2b[0][0]             \n",
            "__________________________________________________________________________________________________\n",
            "activation_330 (Activation)     (None, 8, 8, 64)     0           bn2b_branch2b[0][0]              \n",
            "__________________________________________________________________________________________________\n",
            "add_105 (Add)                   (None, 8, 8, 64)     0           activation_330[0][0]             \n",
            "                                                                 activation_328[0][0]             \n",
            "__________________________________________________________________________________________________\n",
            "activation_331 (Activation)     (None, 8, 8, 64)     0           add_105[0][0]                    \n",
            "__________________________________________________________________________________________________\n",
            "res3a_branch2a (Conv2D)         (None, 4, 4, 128)    8320        activation_331[0][0]             \n",
            "__________________________________________________________________________________________________\n",
            "bn3a_branch2a (BatchNormalizati (None, 4, 4, 128)    512         res3a_branch2a[0][0]             \n",
            "__________________________________________________________________________________________________\n",
            "activation_332 (Activation)     (None, 4, 4, 128)    0           bn3a_branch2a[0][0]              \n",
            "__________________________________________________________________________________________________\n",
            "res3a_branch2b (Conv2D)         (None, 4, 4, 128)    147584      activation_332[0][0]             \n",
            "__________________________________________________________________________________________________\n",
            "bn3a_branch2b (BatchNormalizati (None, 4, 4, 128)    512         res3a_branch2b[0][0]             \n",
            "__________________________________________________________________________________________________\n",
            "res3a_branch1 (Conv2D)          (None, 4, 4, 128)    8320        activation_331[0][0]             \n",
            "__________________________________________________________________________________________________\n",
            "activation_333 (Activation)     (None, 4, 4, 128)    0           bn3a_branch2b[0][0]              \n",
            "__________________________________________________________________________________________________\n",
            "bn3a_branch1 (BatchNormalizatio (None, 4, 4, 128)    512         res3a_branch1[0][0]              \n",
            "__________________________________________________________________________________________________\n",
            "add_106 (Add)                   (None, 4, 4, 128)    0           activation_333[0][0]             \n",
            "                                                                 bn3a_branch1[0][0]               \n",
            "__________________________________________________________________________________________________\n",
            "activation_334 (Activation)     (None, 4, 4, 128)    0           add_106[0][0]                    \n",
            "__________________________________________________________________________________________________\n",
            "res3b_branch2a (Conv2D)         (None, 4, 4, 128)    16512       activation_334[0][0]             \n",
            "__________________________________________________________________________________________________\n",
            "bn3b_branch2a (BatchNormalizati (None, 4, 4, 128)    512         res3b_branch2a[0][0]             \n",
            "__________________________________________________________________________________________________\n",
            "activation_335 (Activation)     (None, 4, 4, 128)    0           bn3b_branch2a[0][0]              \n",
            "__________________________________________________________________________________________________\n",
            "res3b_branch2b (Conv2D)         (None, 4, 4, 128)    147584      activation_335[0][0]             \n",
            "__________________________________________________________________________________________________\n",
            "bn3b_branch2b (BatchNormalizati (None, 4, 4, 128)    512         res3b_branch2b[0][0]             \n",
            "__________________________________________________________________________________________________\n",
            "activation_336 (Activation)     (None, 4, 4, 128)    0           bn3b_branch2b[0][0]              \n",
            "__________________________________________________________________________________________________\n",
            "add_107 (Add)                   (None, 4, 4, 128)    0           activation_336[0][0]             \n",
            "                                                                 activation_334[0][0]             \n",
            "__________________________________________________________________________________________________\n",
            "activation_337 (Activation)     (None, 4, 4, 128)    0           add_107[0][0]                    \n",
            "__________________________________________________________________________________________________\n",
            "res4a_branch2a (Conv2D)         (None, 2, 2, 256)    33024       activation_337[0][0]             \n",
            "__________________________________________________________________________________________________\n",
            "bn4a_branch2a (BatchNormalizati (None, 2, 2, 256)    1024        res4a_branch2a[0][0]             \n",
            "__________________________________________________________________________________________________\n",
            "activation_338 (Activation)     (None, 2, 2, 256)    0           bn4a_branch2a[0][0]              \n",
            "__________________________________________________________________________________________________\n",
            "res4a_branch2b (Conv2D)         (None, 2, 2, 256)    590080      activation_338[0][0]             \n",
            "__________________________________________________________________________________________________\n",
            "bn4a_branch2b (BatchNormalizati (None, 2, 2, 256)    1024        res4a_branch2b[0][0]             \n",
            "__________________________________________________________________________________________________\n",
            "res4a_branch1 (Conv2D)          (None, 2, 2, 256)    33024       activation_337[0][0]             \n",
            "__________________________________________________________________________________________________\n",
            "activation_339 (Activation)     (None, 2, 2, 256)    0           bn4a_branch2b[0][0]              \n",
            "__________________________________________________________________________________________________\n",
            "bn4a_branch1 (BatchNormalizatio (None, 2, 2, 256)    1024        res4a_branch1[0][0]              \n",
            "__________________________________________________________________________________________________\n",
            "add_108 (Add)                   (None, 2, 2, 256)    0           activation_339[0][0]             \n",
            "                                                                 bn4a_branch1[0][0]               \n",
            "__________________________________________________________________________________________________\n",
            "activation_340 (Activation)     (None, 2, 2, 256)    0           add_108[0][0]                    \n",
            "__________________________________________________________________________________________________\n",
            "res4b_branch2a (Conv2D)         (None, 2, 2, 256)    65792       activation_340[0][0]             \n",
            "__________________________________________________________________________________________________\n",
            "bn4b_branch2a (BatchNormalizati (None, 2, 2, 256)    1024        res4b_branch2a[0][0]             \n",
            "__________________________________________________________________________________________________\n",
            "activation_341 (Activation)     (None, 2, 2, 256)    0           bn4b_branch2a[0][0]              \n",
            "__________________________________________________________________________________________________\n",
            "res4b_branch2b (Conv2D)         (None, 2, 2, 256)    590080      activation_341[0][0]             \n",
            "__________________________________________________________________________________________________\n",
            "bn4b_branch2b (BatchNormalizati (None, 2, 2, 256)    1024        res4b_branch2b[0][0]             \n",
            "__________________________________________________________________________________________________\n",
            "activation_342 (Activation)     (None, 2, 2, 256)    0           bn4b_branch2b[0][0]              \n",
            "__________________________________________________________________________________________________\n",
            "add_109 (Add)                   (None, 2, 2, 256)    0           activation_342[0][0]             \n",
            "                                                                 activation_340[0][0]             \n",
            "__________________________________________________________________________________________________\n",
            "activation_343 (Activation)     (None, 2, 2, 256)    0           add_109[0][0]                    \n",
            "__________________________________________________________________________________________________\n",
            "res5a_branch2a (Conv2D)         (None, 1, 1, 512)    131584      activation_343[0][0]             \n",
            "__________________________________________________________________________________________________\n",
            "bn5a_branch2a (BatchNormalizati (None, 1, 1, 512)    2048        res5a_branch2a[0][0]             \n",
            "__________________________________________________________________________________________________\n",
            "activation_344 (Activation)     (None, 1, 1, 512)    0           bn5a_branch2a[0][0]              \n",
            "__________________________________________________________________________________________________\n",
            "res5a_branch2b (Conv2D)         (None, 1, 1, 512)    2359808     activation_344[0][0]             \n",
            "__________________________________________________________________________________________________\n",
            "bn5a_branch2b (BatchNormalizati (None, 1, 1, 512)    2048        res5a_branch2b[0][0]             \n",
            "__________________________________________________________________________________________________\n",
            "res5a_branch1 (Conv2D)          (None, 1, 1, 512)    131584      activation_343[0][0]             \n",
            "__________________________________________________________________________________________________\n",
            "activation_345 (Activation)     (None, 1, 1, 512)    0           bn5a_branch2b[0][0]              \n",
            "__________________________________________________________________________________________________\n",
            "bn5a_branch1 (BatchNormalizatio (None, 1, 1, 512)    2048        res5a_branch1[0][0]              \n",
            "__________________________________________________________________________________________________\n",
            "add_110 (Add)                   (None, 1, 1, 512)    0           activation_345[0][0]             \n",
            "                                                                 bn5a_branch1[0][0]               \n",
            "__________________________________________________________________________________________________\n",
            "activation_346 (Activation)     (None, 1, 1, 512)    0           add_110[0][0]                    \n",
            "__________________________________________________________________________________________________\n",
            "res5b_branch2a (Conv2D)         (None, 1, 1, 512)    262656      activation_346[0][0]             \n",
            "__________________________________________________________________________________________________\n",
            "bn5b_branch2a (BatchNormalizati (None, 1, 1, 512)    2048        res5b_branch2a[0][0]             \n",
            "__________________________________________________________________________________________________\n",
            "activation_347 (Activation)     (None, 1, 1, 512)    0           bn5b_branch2a[0][0]              \n",
            "__________________________________________________________________________________________________\n",
            "res5b_branch2b (Conv2D)         (None, 1, 1, 512)    2359808     activation_347[0][0]             \n",
            "__________________________________________________________________________________________________\n",
            "bn5b_branch2b (BatchNormalizati (None, 1, 1, 512)    2048        res5b_branch2b[0][0]             \n",
            "__________________________________________________________________________________________________\n",
            "activation_348 (Activation)     (None, 1, 1, 512)    0           bn5b_branch2b[0][0]              \n",
            "__________________________________________________________________________________________________\n",
            "add_111 (Add)                   (None, 1, 1, 512)    0           activation_348[0][0]             \n",
            "                                                                 activation_346[0][0]             \n",
            "__________________________________________________________________________________________________\n",
            "activation_349 (Activation)     (None, 1, 1, 512)    0           add_111[0][0]                    \n",
            "__________________________________________________________________________________________________\n",
            "global_average_pooling2d_3 (Glo (None, 512)          0           activation_349[0][0]             \n",
            "==================================================================================================\n",
            "Total params: 6,996,608\n",
            "Trainable params: 6,987,008\n",
            "Non-trainable params: 9,600\n",
            "__________________________________________________________________________________________________\n"
          ],
          "name": "stdout"
        }
      ]
    },
    {
      "cell_type": "code",
      "metadata": {
        "id": "mMrTPX0gkvoS",
        "outputId": "cc8bf570-a64e-4297-cf62-54920fb7aba3",
        "colab": {
          "base_uri": "https://localhost:8080/"
        }
      },
      "source": [
        "notop_weights = notop_resnet18.weights\n",
        "notop_weights[0][0][0][0]"
      ],
      "execution_count": 59,
      "outputs": [
        {
          "output_type": "execute_result",
          "data": {
            "text/plain": [
              "<tf.Tensor: shape=(64,), dtype=float32, numpy=\n",
              "array([ 1.20386168e-01,  1.01193830e-01,  1.86714068e-01, -1.81554437e-01,\n",
              "        1.03582546e-01, -4.42549512e-02,  8.52901638e-02, -7.96668753e-02,\n",
              "        1.45934656e-01, -3.02819069e-04,  9.99844521e-02, -1.64930463e-01,\n",
              "        2.90147457e-02,  7.45677501e-02,  2.86579113e-02, -1.70941278e-01,\n",
              "       -8.75851139e-02, -3.82343352e-01,  1.14802882e-01, -6.52454495e-02,\n",
              "        6.24360815e-02, -1.15842625e-01,  9.01903659e-02, -1.36539951e-01,\n",
              "        1.61293764e-02,  1.13336533e-01, -2.36857906e-02,  1.36738047e-01,\n",
              "        1.63113341e-01, -1.38032228e-01, -1.92151815e-01, -1.97885364e-01,\n",
              "       -2.30647147e-01, -1.36251390e-01,  2.93207578e-02, -5.20522445e-02,\n",
              "        2.81404778e-02,  1.20863967e-01, -3.11670341e-02, -5.70692196e-02,\n",
              "       -5.55690490e-02,  1.14200570e-01,  6.00366257e-02, -1.18082084e-01,\n",
              "       -9.42627043e-02, -1.58718396e-02,  1.59506291e-01,  1.03465505e-01,\n",
              "       -5.65853268e-02, -3.31453495e-02,  2.40538921e-03,  3.19779702e-02,\n",
              "        3.03502768e-01, -1.17672235e-01,  2.50000387e-01,  1.83501244e-01,\n",
              "        8.62559453e-02, -6.75794622e-03, -2.03748435e-01, -1.59243405e-01,\n",
              "        1.45936310e-01,  9.82930139e-02, -1.25471309e-01, -1.71026066e-01],\n",
              "      dtype=float32)>"
            ]
          },
          "metadata": {
            "tags": []
          },
          "execution_count": 59
        }
      ]
    },
    {
      "cell_type": "markdown",
      "metadata": {
        "id": "w_NyDZHff8FY"
      },
      "source": [
        "# Weights Check"
      ]
    },
    {
      "cell_type": "code",
      "metadata": {
        "id": "CQ_ZjjHJf7MM"
      },
      "source": [
        "# Resnet18_100 from ResNet18 class with TOP & load Weigths\n",
        "input_shape = (32,32,3)\n",
        "top_resnet18 = ResNet18(include_top=True,weights=None,classes=20,input_shape=input_shape,backend=backend,layers=layers,models=models,utils=utils)\n",
        "top_resnet18 = compile(top_resnet18)\n",
        "top_resnet18.load_weights('resnet18_cifar100_top.h5')"
      ],
      "execution_count": 104,
      "outputs": []
    },
    {
      "cell_type": "code",
      "metadata": {
        "id": "5NoVq2EugFnf"
      },
      "source": [
        "weights = top_resnet18.get_weights()\n",
        "for i in range(0,1):\n",
        "  print(weights[i])"
      ],
      "execution_count": null,
      "outputs": []
    },
    {
      "cell_type": "code",
      "metadata": {
        "id": "VFZ6oPqdgE2g"
      },
      "source": [
        "# Resnet18_100 from ResNet18 class with TOP & Cifar100 Weigths\n",
        "input_shape = (32,32,3)\n",
        "top_resnet18 = ResNet18(include_top=True,weights='cifar100_coarse',classes=20,input_shape=input_shape,backend=backend,layers=layers,models=models,utils=utils)\n",
        "top_resnet18 = compile(top_resnet18)"
      ],
      "execution_count": null,
      "outputs": []
    },
    {
      "cell_type": "code",
      "metadata": {
        "id": "HNhly9ZBgsQo"
      },
      "source": [
        "weights = top_resnet18.get_weights()\n",
        "for i in range(0,1):\n",
        "  print(weights[i])"
      ],
      "execution_count": null,
      "outputs": []
    },
    {
      "cell_type": "markdown",
      "metadata": {
        "id": "HlQtandhhIZ2"
      },
      "source": [
        "#VGG16/19 Transfer example"
      ]
    },
    {
      "cell_type": "code",
      "metadata": {
        "id": "SHjNS1wqe7fV"
      },
      "source": [
        "import keras \n",
        "vgg16_model = keras.applications.vgg16.VGG16() # 134 Millions parameters\n",
        "model = Sequential()\n",
        "for layer in vgg16_model.layers[:-1]: # just exclude last layer from copying\n",
        "  model.add(layer)\n",
        "for layer in model.layers:\n",
        "  layer.trainable = False\n",
        "model.add(Dense(2, activation='softmax'))\n",
        "model.summary()"
      ],
      "execution_count": null,
      "outputs": []
    },
    {
      "cell_type": "code",
      "metadata": {
        "id": "Xf0_ACRGf_oa"
      },
      "source": [
        "import keras \n",
        "vgg19_model = keras.applications.vgg19.VGG19() # 139 Millions parameters\n",
        "model = Sequential()\n",
        "for layer in vgg19_model.layers[:-1]: # just exclude last layer from copying\n",
        "  model.add(layer)\n",
        "for layer in model.layers:\n",
        "  layer.trainable = False\n",
        "model.add(Dense(2, activation='softmax'))\n",
        "model.summary()"
      ],
      "execution_count": null,
      "outputs": []
    },
    {
      "cell_type": "code",
      "metadata": {
        "id": "BXV8zbpHhUEp"
      },
      "source": [
        "for layer,weights in zip(my_resnet18.layers,my_resnet18.weights):\n",
        "  print(layer,weights)"
      ],
      "execution_count": null,
      "outputs": []
    },
    {
      "cell_type": "markdown",
      "metadata": {
        "id": "l582LVTCnhIn"
      },
      "source": [
        "# Github"
      ]
    },
    {
      "cell_type": "code",
      "metadata": {
        "id": "qV7LSbGJnoup"
      },
      "source": [
        "!cp /content/resnet18_cifar100_no_top.h5 /content/resnet/"
      ],
      "execution_count": 60,
      "outputs": []
    },
    {
      "cell_type": "code",
      "metadata": {
        "id": "qAthHDzZnx0h"
      },
      "source": [
        "!cp /content/resnet18_cifar100_top.h5 /content/resnet/"
      ],
      "execution_count": 61,
      "outputs": []
    },
    {
      "cell_type": "code",
      "metadata": {
        "id": "8XNzE9UMnkGM"
      },
      "source": [
        "!cd /content/resnet/"
      ],
      "execution_count": 63,
      "outputs": []
    },
    {
      "cell_type": "code",
      "metadata": {
        "id": "3qQ8i2Jkn3jR",
        "outputId": "d72a8c84-1e1b-4246-d9a6-b15a65eeb41e",
        "colab": {
          "base_uri": "https://localhost:8080/",
          "height": 35
        }
      },
      "source": [
        "import os\n",
        "os.getcwd()"
      ],
      "execution_count": 69,
      "outputs": [
        {
          "output_type": "execute_result",
          "data": {
            "application/vnd.google.colaboratory.intrinsic+json": {
              "type": "string"
            },
            "text/plain": [
              "'/content'"
            ]
          },
          "metadata": {
            "tags": []
          },
          "execution_count": 69
        }
      ]
    },
    {
      "cell_type": "code",
      "metadata": {
        "id": "8jGOpih7n_DK",
        "outputId": "0e6d1cbc-7699-4947-f60c-b0f1d4923db3",
        "colab": {
          "base_uri": "https://localhost:8080/",
          "height": 35
        }
      },
      "source": [
        "os.chdir('/content/resnet/')\n",
        "os.getcwd()"
      ],
      "execution_count": 71,
      "outputs": [
        {
          "output_type": "execute_result",
          "data": {
            "application/vnd.google.colaboratory.intrinsic+json": {
              "type": "string"
            },
            "text/plain": [
              "'/content/resnet'"
            ]
          },
          "metadata": {
            "tags": []
          },
          "execution_count": 71
        }
      ]
    },
    {
      "cell_type": "code",
      "metadata": {
        "id": "qghCnABjoQOr",
        "outputId": "645ae3e5-2d05-4e6a-e1ba-29c9926144ed",
        "colab": {
          "base_uri": "https://localhost:8080/"
        }
      },
      "source": [
        "!git status"
      ],
      "execution_count": 73,
      "outputs": [
        {
          "output_type": "stream",
          "text": [
            "On branch master\n",
            "Your branch is up to date with 'origin/master'.\n",
            "\n",
            "Changes not staged for commit:\n",
            "  (use \"git add/rm <file>...\" to update what will be committed)\n",
            "  (use \"git checkout -- <file>...\" to discard changes in working directory)\n",
            "\n",
            "\t\u001b[31mdeleted:    Resnet18_2.ipynb\u001b[m\n",
            "\t\u001b[31mmodified:   resnet18_cifar100_no_top.h5\u001b[m\n",
            "\n",
            "no changes added to commit (use \"git add\" and/or \"git commit -a\")\n"
          ],
          "name": "stdout"
        }
      ]
    },
    {
      "cell_type": "code",
      "metadata": {
        "id": "yacOdoiGoT5p"
      },
      "source": [
        ""
      ],
      "execution_count": null,
      "outputs": []
    }
  ]
}