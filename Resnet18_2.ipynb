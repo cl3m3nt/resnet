{
  "nbformat": 4,
  "nbformat_minor": 0,
  "metadata": {
    "colab": {
      "name": "Resnet18_2.ipynb",
      "provenance": [],
      "collapsed_sections": [
        "N7mEpWzAZ7C4"
      ]
    },
    "kernelspec": {
      "name": "Python 3.7.9 64-bit ('donkey4': conda)",
      "display_name": "Python 3.7.9 64-bit ('donkey4': conda)",
      "metadata": {
        "interpreter": {
          "hash": "85f741415a524b66326566eef4f2f72ca44afdccda8e649f59cee4245dabae7d"
        }
      }
    },
    "accelerator": "GPU"
  },
  "cells": [
    {
      "cell_type": "markdown",
      "metadata": {
        "id": "h7npNJY3tlNj"
      },
      "source": [
        "# Pre-Requesite"
      ]
    },
    {
      "cell_type": "code",
      "metadata": {
        "id": "YJbh4Nb7xBqc",
        "outputId": "62eb45d1-309c-440f-edf9-f966165e515e",
        "colab": {
          "base_uri": "https://localhost:8080/"
        }
      },
      "source": [
        "!git clone https://github.com/cl3m3nt/resnet.git"
      ],
      "execution_count": null,
      "outputs": []
    },
    {
      "cell_type": "code",
      "metadata": {
        "id": "crTKgA-9zjYU",
        "outputId": "01802b52-ec78-49c5-d1a1-33a032df7832",
        "colab": {
          "base_uri": "https://localhost:8080/"
        }
      },
      "source": [
        "!git clone https://github.com/keras-team/keras-applications.git\n",
        "# move keras_applications at same level than keras-applications\n",
        "# otherwise next import will fail"
      ],
      "execution_count": null,
      "outputs": []
    },
    {
      "cell_type": "code",
      "metadata": {
        "id": "E_MRtk_q3sMc",
        "outputId": "7dec552b-2e14-42c1-fe2d-cc19e85e19b8",
        "colab": {
          "base_uri": "https://localhost:8080/"
        }
      },
      "source": [
        "!nvidia-smi"
      ],
      "execution_count": null,
      "outputs": []
    },
    {
      "cell_type": "markdown",
      "metadata": {
        "id": "Y58hALiztqDM"
      },
      "source": [
        "# Resnet18 Architecture"
      ]
    },
    {
      "cell_type": "code",
      "metadata": {
        "id": "Zot6kwCKxyod"
      },
      "source": [
        "import tensorflow as tf\n",
        "from tensorflow.keras.layers import ZeroPadding2D, Input, GlobalAveragePooling2D,GlobalMaxPooling2D,Dense\n",
        "from tensorflow.keras.layers import Convolution2D,MaxPooling2D,BatchNormalization\n",
        "from tensorflow.keras.layers import Activation,Dropout,Flatten\n",
        "from tensorflow.keras.models import Model,Sequential\n",
        "from keras_applications.imagenet_utils import _obtain_input_shape, get_submodules_from_kwargs\n",
        "import os\n",
        "import cv2\n",
        "import numpy as np\n",
        "import tensorflow.keras.datasets as datasets\n",
        "import tensorflow_datasets as tfds"
      ],
      "execution_count": null,
      "outputs": []
    },
    {
      "cell_type": "code",
      "metadata": {
        "id": "Wj1pWThgx5Tg"
      },
      "source": [
        "def identity_block(input_tensor, kernel_size, filters, stage, block):\n",
        "    filters1, filters2 = filters\n",
        "    if backend.image_data_format() == 'channels_last':\n",
        "        bn_axis = 3\n",
        "\n",
        "    else: \n",
        "        bn_axis = 1\n",
        "    conv_name_base = 'res' + str(stage) + block + '_branch'\n",
        "    bn_name_base = 'bn' + str(stage) + block +'_branch'\n",
        "\n",
        "    x = Convolution2D(filters1,(1,1),\n",
        "               kernel_initializer='he_normal',\n",
        "               name = conv_name_base + '2a')(input_tensor)\n",
        "    x = BatchNormalization(axis=bn_axis,name=bn_name_base + '2a')(x)\n",
        "    x = Activation('relu')(x)\n",
        "\n",
        "    x = Convolution2D(filters2, kernel_size,\n",
        "               padding='same',\n",
        "               kernel_initializer='he_normal',\n",
        "               name = conv_name_base + '2b')(x)\n",
        "    x = BatchNormalization(axis=bn_axis,name=bn_name_base+'2b')(x)\n",
        "    x = Activation('relu')(x)\n",
        "\n",
        "    x = tf.keras.layers.add([x,input_tensor])\n",
        "    x = Activation('relu')(x)\n",
        "    return x\n"
      ],
      "execution_count": null,
      "outputs": []
    },
    {
      "cell_type": "code",
      "metadata": {
        "id": "G0KY2C_9yiDU"
      },
      "source": [
        "def conv_block(input_tensor,kernel_size,filters,stage,block,strides=(2,2)):\n",
        "\n",
        "    filters1, filters2 = filters\n",
        "    if backend.image_data_format() == 'channels_last':\n",
        "        bn_axis = 3\n",
        "    else:\n",
        "        bn_axis = 1\n",
        "    conv_name_base = 'res' + str(stage) + block + '_branch'\n",
        "    bn_name_base = 'bn' + str(stage) + block + '_branch'\n",
        "\n",
        "    x = Convolution2D(filters1,(1,1),strides=strides,\n",
        "               kernel_initializer='he_normal',\n",
        "               name = conv_name_base + '2a')(input_tensor)\n",
        "    x = BatchNormalization(bn_axis,name=bn_name_base + '2a')(x)\n",
        "    x = Activation('relu')(x)\n",
        "\n",
        "\n",
        "    x = Convolution2D(filters2, kernel_size,\n",
        "               padding='same',\n",
        "               kernel_initializer='he_normal',\n",
        "               name = conv_name_base + '2b')(x)\n",
        "    x = BatchNormalization(axis=bn_axis,name=bn_name_base+'2b')(x)\n",
        "    x = Activation('relu')(x)\n",
        "\n",
        "    \n",
        "    shortcut = Convolution2D(filters2,(1,1),strides=strides,\n",
        "                      kernel_initializer='he_normal',\n",
        "                      name=conv_name_base+'1')(input_tensor)\n",
        "    \n",
        "    shortcut = BatchNormalization(\n",
        "        axis=bn_axis,name=bn_name_base+'1')(shortcut)\n",
        "    \n",
        "    x = tf.keras.layers.add([x,shortcut])\n",
        "    x = Activation('relu')(x)\n",
        "    return x"
      ],
      "execution_count": null,
      "outputs": []
    },
    {
      "cell_type": "code",
      "metadata": {
        "id": "0voHTNZ80V6-"
      },
      "source": [
        "backend = tf.compat.v1.keras.backend\n",
        "layers = tf.keras.layers\n",
        "models = tf.keras.models\n",
        "utils = tf.keras.utils"
      ],
      "execution_count": null,
      "outputs": []
    },
    {
      "cell_type": "code",
      "metadata": {
        "id": "066EgaLq0XrY"
      },
      "source": [
        "def ResNet18(include_top=True,\n",
        "             weights='cifar100_coarse',\n",
        "             input_tensor=None,\n",
        "             input_shape=None,\n",
        "             pooling=None,\n",
        "             classes=20,\n",
        "             **kwargs):\n",
        "    global backend, layers, models, keras_utils\n",
        "    backend, layers, models, keras_utils = get_submodules_from_kwargs(kwargs)\n",
        "\n",
        "\n",
        "\n",
        "    if not (weights in {'cifar100_coarse', None} or os.path.exists(weights)):\n",
        "        raise ValueError('The `weights` argument should be either '\n",
        "                         '`None` (random initialization), `cifar100_coarse` '\n",
        "                         '(pre-training on cifar100 coarse (super) classes), '\n",
        "                         'or the path to the weights file to be loaded.')\n",
        "\n",
        "    if weights == 'cifar100_coarse' and include_top and classes != 20:\n",
        "        raise ValueError('If using `weights` as `\"cifar100_coarse\"` with `include_top`'\n",
        "                         ' as true, `classes` should be 20')\n",
        "\n",
        "    # Determine proper input shape\n",
        "    input_shape = _obtain_input_shape(input_shape,\n",
        "                                      default_size=224,\n",
        "                                      min_size=32,\n",
        "                                      data_format=backend.image_data_format(),\n",
        "                                      require_flatten=include_top,\n",
        "                                      weights=weights)\n",
        "\n",
        "    if input_tensor is None:\n",
        "        img_input = layers.Input(shape=input_shape)\n",
        "    else:\n",
        "        if not tf.keras.backend.is_keras_tensor(input_tensor):\n",
        "            img_input = layers.Input(tensor=input_tensor, shape=input_shape)\n",
        "        else:\n",
        "            img_input = input_tensor\n",
        "    if backend.image_data_format() == 'channels_last':\n",
        "        bn_axis = 3\n",
        "    else:\n",
        "        bn_axis = 1\n",
        "\n",
        "    x = ZeroPadding2D(padding=(3,3),name='conv1_pad')(img_input)\n",
        "    x = Convolution2D(64,(7,7),\n",
        "                      strides=(2,2),\n",
        "                      padding='valid',\n",
        "                      kernel_initializer='he_normal',\n",
        "                      name='conv1')(x)\n",
        "    x = BatchNormalization(axis=bn_axis,name='bn_conv1')(x)\n",
        "    x = Activation('relu')(x)\n",
        "    x = ZeroPadding2D(padding=(1,1),name='pool1_pad')(x)\n",
        "    x = MaxPooling2D((3,3),strides=(2,2))(x)\n",
        "\n",
        "    x = identity_block(x,3,[64,64],stage=2,block='a')\n",
        "    x = identity_block(x,3,[64,64],stage=2,block='b')\n",
        "\n",
        "    x = conv_block(x,3,[128,128],stage=3,block='a')\n",
        "    x = identity_block(x,3,[128,128],stage=3,block='b')\n",
        "\n",
        "    x = conv_block(x,3,[256,256],stage=4,block='a')\n",
        "    x = identity_block(x,3,[256,256],stage=4,block='b')\n",
        "\n",
        "    x = conv_block(x,3,[512,512],stage=5,block='a')\n",
        "    x = identity_block(x,3,[512,512],stage=5,block='b')\n",
        "\n",
        "\n",
        "    if include_top:\n",
        "        x = layers.GlobalAveragePooling2D(name='avg_pool')(x)\n",
        "        x = layers.Dense(classes, activation='softmax', name='fc20')(x)\n",
        "    else:\n",
        "        if pooling == 'avg':\n",
        "            x = layers.GlobalAveragePooling2D()(x)\n",
        "        elif pooling == 'max':\n",
        "            x = layers.GlobalMaxPooling2D()(x)\n",
        "        '''\n",
        "        else:\n",
        "            warnings.warn('The output shape of `ResNet18(include_top=False)` '\n",
        "                          'has been changed since Keras 2.2.0.')\n",
        "        '''\n",
        "    \n",
        "\n",
        "    # Ensure that the model takes into account\n",
        "    # any potential predecessors of `input_tensor`.\n",
        "    if input_tensor is not None:\n",
        "        inputs = keras_utils.get_source_inputs(input_tensor)\n",
        "    else:\n",
        "        inputs = img_input\n",
        "    # Create model.\n",
        "    model = Model(inputs, x, name='resnet18')\n",
        "\n",
        "    # Load weights.\n",
        "    if weights == 'cifar100_coarse':\n",
        "        if include_top:\n",
        "            weights_path = keras_utils.get_file(\n",
        "                'resnet18_cifar100_top.h5',\n",
        "                WEIGHTS_PATH,\n",
        "                cache_subdir='models',\n",
        "                file_hash='4e364425e6d5ac22dfc34abaaf0a61fbc397b406914d8594494687f38605d710')\n",
        "        else:\n",
        "            weights_path = keras_utils.get_file(\n",
        "                'resnet18_cifar100_no_top.h5',\n",
        "                WEIGHTS_PATH_NO_TOP,\n",
        "                cache_subdir='models',\n",
        "                file_hash='d7f440ebc0d202f9e49c6625d7b21c638d1d82ba3b630485eed4f29cfd2dee05')\n",
        "        model.load_weights(weights_path)\n",
        "\n",
        "  \n",
        "    return model"
      ],
      "execution_count": null,
      "outputs": []
    },
    {
      "cell_type": "code",
      "metadata": {
        "id": "ffsBjbfUSnll",
        "outputId": "284f3f98-e735-457f-a4e3-2092c3cd12de",
        "colab": {
          "base_uri": "https://localhost:8080/"
        }
      },
      "source": [
        "!shasum -a 256 resnet18_cifar100_top.h5"
      ],
      "execution_count": null,
      "outputs": []
    },
    {
      "cell_type": "code",
      "metadata": {
        "id": "OUVJd-PiSfFO",
        "outputId": "10bd4098-4e5a-4813-f5c7-4e0ff793da80",
        "colab": {
          "base_uri": "https://localhost:8080/"
        }
      },
      "source": [
        "!shasum -a 256 resnet18_cifar100_no_top.h5"
      ],
      "execution_count": null,
      "outputs": []
    },
    {
      "cell_type": "code",
      "metadata": {
        "id": "QqwMoB99gaU4"
      },
      "source": [
        "def ResNet18(include_top=True,\n",
        "             weights='cifar100_coarse',\n",
        "             input_tensor=None,\n",
        "             input_shape=None,\n",
        "             pooling=None,\n",
        "             classes=20,\n",
        "             **kwargs):\n",
        "    global backend, layers, models, keras_utils\n",
        "    backend, layers, models, keras_utils = get_submodules_from_kwargs(kwargs)\n",
        "\n",
        "\n",
        "\n",
        "    if not (weights in {'cifar100_coarse', None} or os.path.exists(weights)):\n",
        "        raise ValueError('The `weights` argument should be either '\n",
        "                         '`None` (random initialization), `cifar100_coarse` '\n",
        "                         '(pre-training on cifar100 coarse (super) classes), '\n",
        "                         'or the path to the weights file to be loaded.')\n",
        "\n",
        "    if weights == 'cifar100_coarse' and include_top and classes != 20:\n",
        "        raise ValueError('If using `weights` as `\"cifar100_coarse\"` with `include_top`'\n",
        "                         ' as true, `classes` should be 20')\n",
        "\n",
        "    # Determine proper input shape\n",
        "    input_shape = _obtain_input_shape(input_shape,\n",
        "                                      default_size=224,\n",
        "                                      min_size=32,\n",
        "                                      data_format=backend.image_data_format(),\n",
        "                                      require_flatten=include_top,\n",
        "                                      weights=weights)\n",
        "\n",
        "    if input_tensor is None:\n",
        "        img_input = layers.Input(shape=input_shape)\n",
        "    else:\n",
        "        if not tf.keras.backend.is_keras_tensor(input_tensor):\n",
        "            img_input = layers.Input(tensor=input_tensor, shape=input_shape)\n",
        "        else:\n",
        "            img_input = input_tensor\n",
        "    if backend.image_data_format() == 'channels_last':\n",
        "        bn_axis = 3\n",
        "    else:\n",
        "        bn_axis = 1\n",
        "\n",
        "    x = ZeroPadding2D(padding=(3,3),name='conv1_pad')(img_input)\n",
        "    x = Convolution2D(64,(7,7),\n",
        "                      strides=(2,2),\n",
        "                      padding='valid',\n",
        "                      kernel_initializer='he_normal',\n",
        "                      name='conv1')(x)\n",
        "    x = BatchNormalization(axis=bn_axis,name='bn_conv1')(x)\n",
        "    x = Activation('relu')(x)\n",
        "    x = ZeroPadding2D(padding=(1,1),name='pool1_pad')(x)\n",
        "    x = MaxPooling2D((3,3),strides=(2,2))(x)\n",
        "\n",
        "    x = identity_block(x,3,[64,64],stage=2,block='a')\n",
        "    x = identity_block(x,3,[64,64],stage=2,block='b')\n",
        "\n",
        "    x = conv_block(x,3,[128,128],stage=3,block='a')\n",
        "    x = identity_block(x,3,[128,128],stage=3,block='b')\n",
        "\n",
        "    x = conv_block(x,3,[256,256],stage=4,block='a')\n",
        "    x = identity_block(x,3,[256,256],stage=4,block='b')\n",
        "\n",
        "    x = conv_block(x,3,[512,512],stage=5,block='a')\n",
        "    x = identity_block(x,3,[512,512],stage=5,block='b')\n",
        "\n",
        "\n",
        "    if include_top:\n",
        "        x = layers.GlobalAveragePooling2D(name='avg_pool')(x)\n",
        "        x = layers.Dense(classes, activation='softmax', name='fc20')(x)\n",
        "    else:\n",
        "        if pooling == 'avg':\n",
        "            x = layers.GlobalAveragePooling2D()(x)\n",
        "        elif pooling == 'max':\n",
        "            x = layers.GlobalMaxPooling2D()(x)\n",
        "        '''\n",
        "        else:\n",
        "            warnings.warn('The output shape of `ResNet18(include_top=False)` '\n",
        "                          'has been changed since Keras 2.2.0.')\n",
        "        '''\n",
        "    \n",
        "\n",
        "    # Ensure that the model takes into account\n",
        "    # any potential predecessors of `input_tensor`.\n",
        "    if input_tensor is not None:\n",
        "        inputs = keras_utils.get_source_inputs(input_tensor)\n",
        "    else:\n",
        "        inputs = img_input\n",
        "    # Create model.\n",
        "    model = Model(inputs, x, name='resnet18')\n",
        "\n",
        "    # Load weights.\n",
        "    if weights == 'cifar100_coarse':\n",
        "        if include_top:\n",
        "            weights_path = keras_utils.get_file(\n",
        "                'resnet18_cifar100_top.h5',\n",
        "                WEIGHTS_PATH,\n",
        "                cache_subdir='models',\n",
        "                md5_hash='e0798dd90ac7e0498cbdea853bd3ed7f')\n",
        "        else:\n",
        "            weights_path = keras_utils.get_file(\n",
        "                'resnet18_cifar100_no_top.h5',\n",
        "                WEIGHTS_PATH_NO_TOP,\n",
        "                cache_subdir='models',\n",
        "                md5_hash='bfeace78cec55f2b0401c1f41c81e1dd')\n",
        "        model.load_weights(weights_path)\n",
        "\n",
        "  \n",
        "    return model"
      ],
      "execution_count": null,
      "outputs": []
    },
    {
      "cell_type": "code",
      "metadata": {
        "id": "WDRjxjHNgflE",
        "outputId": "f8197c53-83d9-4a78-9ec6-f01a62d6e1b7",
        "colab": {
          "base_uri": "https://localhost:8080/"
        }
      },
      "source": [
        "!md5sum resnet18_cifar100_top.h5"
      ],
      "execution_count": null,
      "outputs": []
    },
    {
      "cell_type": "code",
      "metadata": {
        "id": "hJfw7LxTiINg",
        "outputId": "8e41b2e0-a0a6-44f2-8a8f-654809214af3",
        "colab": {
          "base_uri": "https://localhost:8080/"
        }
      },
      "source": [
        "!md5sum resnet18_cifar100_no_top.h5"
      ],
      "execution_count": null,
      "outputs": []
    },
    {
      "cell_type": "code",
      "metadata": {
        "id": "z0mHTJfd0ddf"
      },
      "source": [
        "def compile(model):\n",
        "    model.compile(\n",
        "    optimizer='adam',\n",
        "    loss='sparse_categorical_crossentropy',\n",
        "    metrics=['accuracy']\n",
        "    )\n",
        "    return model"
      ],
      "execution_count": null,
      "outputs": []
    },
    {
      "cell_type": "code",
      "metadata": {
        "id": "XavsEKUN25H3",
        "outputId": "cdd900b5-b748-4bc5-9fbe-db036a4e9f95",
        "colab": {
          "base_uri": "https://localhost:8080/"
        }
      },
      "source": [
        "# CIFAR100 coarse from tf.keras.datasets \n",
        "cifar100_coarse = datasets.cifar100\n",
        "(x_train_100_coarse,y_train_100_coarse),(x_test_100_coarse,y_test_100_coarse) = cifar100_coarse.load_data(label_mode=\"coarse\")\n",
        "x_train_100_coarse = x_train_100_coarse/255.0\n",
        "x_test_100_coarse = x_test_100_coarse/255.0"
      ],
      "execution_count": null,
      "outputs": []
    },
    {
      "cell_type": "code",
      "metadata": {
        "id": "LpaBNFjLO8Km",
        "outputId": "1a7dd4ae-8f2e-4a34-fd23-3f67cee62866",
        "colab": {
          "base_uri": "https://localhost:8080/"
        }
      },
      "source": [
        "# Resnet18_100_coarse from ResNet18 class with TOP\n",
        "input_shape = (32,32,3)\n",
        "my_resnet18 = ResNet18(include_top=True,weights=None,classes=20,input_shape=input_shape,backend=backend,layers=layers,models=models,utils=utils)\n",
        "my_resnet18 = compile(my_resnet18)\n",
        "my_resnet18.summary()"
      ],
      "execution_count": null,
      "outputs": []
    },
    {
      "cell_type": "code",
      "metadata": {
        "id": "256hZEhm27ey"
      },
      "source": [
        "# Training ResNet18 with TOP with CIFAR10\n",
        "history = my_resnet18.fit(x_train_100_coarse,y_train_100_coarse,\n",
        "                          validation_data = (x_test_100_coarse,y_test_100_coarse),\n",
        "                          epochs=10\n",
        "                        )"
      ],
      "execution_count": null,
      "outputs": []
    },
    {
      "cell_type": "markdown",
      "metadata": {
        "id": "qR_T79A_Pbkg"
      },
      "source": [
        "# Save, Reload Model, Predict"
      ]
    },
    {
      "cell_type": "code",
      "metadata": {
        "id": "ugQW_YH-QggJ"
      },
      "source": [
        "import matplotlib.pyplot as plt"
      ],
      "execution_count": null,
      "outputs": []
    },
    {
      "cell_type": "code",
      "metadata": {
        "id": "wxjIi7NCOO-b"
      },
      "source": [
        "#my_resnet18.save_weights(\"resnet18_cifar100_top.h5\")"
      ],
      "execution_count": null,
      "outputs": []
    },
    {
      "cell_type": "code",
      "metadata": {
        "id": "NiHJlK2fPW3K",
        "outputId": "f67dda6a-9e27-4b1b-e6dc-dd8d9dc603bf",
        "colab": {
          "base_uri": "https://localhost:8080/"
        }
      },
      "source": [
        "!ls -lh"
      ],
      "execution_count": null,
      "outputs": []
    },
    {
      "cell_type": "code",
      "metadata": {
        "id": "HiixbQAqPg12"
      },
      "source": [
        "input_shape = (32,32,3)\n",
        "loaded_resnet = ResNet18(include_top=True,weights=None,classes=20,input_shape=input_shape,backend=backend,layers=layers,models=models,utils=utils)\n",
        "loaded_resnet = compile(my_resnet18)\n",
        "loaded_resnet.load_weights('resnet18_cifar100_top.h5')\n",
        "loaded_resnet.summary()"
      ],
      "execution_count": null,
      "outputs": []
    },
    {
      "cell_type": "code",
      "metadata": {
        "id": "lyK0hCyXQJOR",
        "outputId": "ef855a6d-43b9-4beb-8970-648dc84c08ad",
        "colab": {
          "base_uri": "https://localhost:8080/",
          "height": 281
        }
      },
      "source": [
        "test_images = x_train_100_coarse[:100]\n",
        "plt.imshow(test_images[0])\n",
        "plt.title(\"Test Image 0\")\n",
        "plt.show()"
      ],
      "execution_count": null,
      "outputs": []
    },
    {
      "cell_type": "code",
      "metadata": {
        "id": "Qp7stzwQRj4k",
        "outputId": "fbd58286-5749-4149-cd1c-d42a22da3a07",
        "colab": {
          "base_uri": "https://localhost:8080/"
        }
      },
      "source": [
        "cifar100_supsub_classes={\"aquatic\": \"mammals\tbeaver, dolphin, otter, seal, whale\",\n",
        "\"fish\":\t\"aquarium fish, flatfish, ray, shark, trout\",\n",
        "\"flowers\":\t\"orchids, poppies, roses, sunflowers, tulips\",\n",
        "\"food containers\":\t\"bottles, bowls, cans, cups, plates\",\n",
        "\"fruit and vegetables\":\t\"apples, mushrooms, oranges, pears, sweet peppers\",\n",
        "\"household electrical devices\":\t\"clock, computer keyboard, lamp, telephone, television\",\n",
        "\"household furniture\":\t\"bed, chair, couch, table, wardrobe\",\n",
        "\"insects\":\t\"bee, beetle, butterfly, caterpillar, cockroach\",\n",
        "\"large carnivores\":\t\"bear, leopard, lion, tiger, wolf\",\n",
        "\"large man-made outdoor things\":\t\"bridge, castle, house, road, skyscraper\",\n",
        "\"large natural outdoor scenes\":\t\"cloud, forest, mountain, plain, sea\",\n",
        "\"large omnivores and herbivores\":\t\"camel, cattle, chimpanzee, elephant, kangaroo\",\n",
        "\"medium-sized mammals\":\t\"fox, porcupine, possum, raccoon, skunk\",\n",
        "\"non-insect invertebrates\":\t\"crab, lobster, snail, spider, worm\",\n",
        "\"people\":\t\"baby, boy, girl, man, woman\",\n",
        "\"reptiles\":\t\"crocodile, dinosaur, lizard, snake, turtle\",\n",
        "\"small mammals\":\t\"hamster, mouse, rabbit, shrew, squirrel\",\n",
        "\"trees\"\t:\"maple, oak, palm, pine, willow\",\n",
        "\"vehicles 1\":\t\"bicycle, bus, motorcycle, pickup truck, train\",\n",
        "\"vehicles 2\": \"lawn-mower, rocket, streetcar, tank, tractor\"}\n",
        "print(cifar100_supsub_classes['fish'])"
      ],
      "execution_count": null,
      "outputs": []
    },
    {
      "cell_type": "code",
      "metadata": {
        "id": "pQ6gJHrQS_OK",
        "outputId": "dd660b39-081c-475f-fdca-801aa527a0e5",
        "colab": {
          "base_uri": "https://localhost:8080/"
        }
      },
      "source": [
        "cifar100_super_classes = {}\n",
        "i = 0\n",
        "for key in cifar100_supsub_classes.keys():\n",
        "  cifar100_super_classes[i]=key\n",
        "  i=i+1\n",
        "print(cifar100_super_classes)"
      ],
      "execution_count": null,
      "outputs": []
    },
    {
      "cell_type": "code",
      "metadata": {
        "id": "eEMyH8byQswU",
        "outputId": "75967c58-19d0-44d3-aca4-28f7f24c816f",
        "colab": {
          "base_uri": "https://localhost:8080/"
        }
      },
      "source": [
        "predictions = loaded_resnet.predict(test_images)\n",
        "pred0 = np.argmax(predictions[0])\n",
        "print(pred0)"
      ],
      "execution_count": null,
      "outputs": []
    },
    {
      "cell_type": "code",
      "metadata": {
        "id": "9tvflhDcWYRG",
        "outputId": "dd68466b-07a8-48a1-ecc6-f01c81215c4d",
        "colab": {
          "base_uri": "https://localhost:8080/",
          "height": 223
        }
      },
      "source": [
        "import matplotlib.pyplot as plt\n",
        "fig =  plt.subplots(figsize=(12,6))\n",
        "i = 0\n",
        "j = 1\n",
        "for i in range(0,1):\n",
        "  for j in range(1,5):\n",
        "    plt.subplot(1,4,j)\n",
        "    plt.imshow(test_images[j-1])\n",
        "    plt.title(f'Image:{j}, prediction:{np.argmax(predictions[j-1])}')\n",
        "    plt.xlabel(f'{cifar100_super_classes[np.argmax(predictions[j-1])]}')\n",
        "    j = j+1\n",
        "plt.show()"
      ],
      "execution_count": null,
      "outputs": []
    },
    {
      "cell_type": "markdown",
      "metadata": {
        "id": "N7mEpWzAZ7C4"
      },
      "source": [
        "# Neural Network info"
      ]
    },
    {
      "cell_type": "code",
      "metadata": {
        "id": "iAzBC_c-Z9mt"
      },
      "source": [
        "# Layers Info\n",
        "def nn_layers_info(neural_net):\n",
        "  print(f'There are {len(neural_net.layers)} layers')\n",
        "  return neural_net.layers\n",
        "\n",
        "nn_layers_info(my_resnet18)"
      ],
      "execution_count": null,
      "outputs": []
    },
    {
      "cell_type": "code",
      "metadata": {
        "id": "2ygfZQAWaacl",
        "outputId": "f2f55653-cf08-4479-cde1-9af6fa4e5e51",
        "colab": {
          "base_uri": "https://localhost:8080/"
        }
      },
      "source": [
        "# Weights Info\n",
        "def nn_weights_info(neural_net):\n",
        "  print(f'There are {len(neural_net.weights)} weights')\n",
        "\n",
        "nn_weights_info(my_resnet18)"
      ],
      "execution_count": null,
      "outputs": []
    },
    {
      "cell_type": "code",
      "metadata": {
        "id": "k-18GmSMbsAD"
      },
      "source": [
        "# Params Info\n",
        "def nn_params_info(neural_net):\n",
        "  for layer in my_resnet18.layers:\n",
        "    print(f'layer name:{layer.name}, number of parameters: {layer.count_params()}')\n",
        "  return f'Total parameters {neural_net.count_params()}'\n",
        "\n",
        "nn_params_info(my_resnet18)"
      ],
      "execution_count": null,
      "outputs": []
    },
    {
      "cell_type": "code",
      "metadata": {
        "id": "sDIpe9bkbUta"
      },
      "source": [
        "# Summary Info\n",
        "def nn_summary(neural_net):\n",
        "  return neural_net.summary()\n",
        "\n",
        "nn_summary(my_resnet18)"
      ],
      "execution_count": null,
      "outputs": []
    },
    {
      "cell_type": "markdown",
      "metadata": {
        "id": "dWv4ow2OPjLz"
      },
      "source": [
        "# ResNet18 NO TOP Weights"
      ]
    },
    {
      "cell_type": "markdown",
      "metadata": {
        "id": "uA8mhRlcRM5I"
      },
      "source": [
        "## Cifar100 No Weights"
      ]
    },
    {
      "cell_type": "code",
      "metadata": {
        "id": "BfZ6fVpKQ4ga"
      },
      "source": [
        "# Resnet18_100 from ResNet18 class with TOP & no Weigths\n",
        "input_shape = (32,32,3)\n",
        "top_resnet18 = ResNet18(include_top=True,weights=None,classes=20,input_shape=input_shape,backend=backend,layers=layers,models=models,utils=utils)\n",
        "top_resnet18 = compile(top_resnet18)\n",
        "top_resnet18.summary()"
      ],
      "execution_count": null,
      "outputs": []
    },
    {
      "cell_type": "code",
      "metadata": {
        "id": "zH2-bm_Ljy3t",
        "outputId": "39d93c24-68dc-4541-d3b5-356df1629980",
        "colab": {
          "base_uri": "https://localhost:8080/"
        }
      },
      "source": [
        "random_top_weights = top_resnet18.weights\n",
        "random_top_weights[0][0][0][0]"
      ],
      "execution_count": null,
      "outputs": []
    },
    {
      "cell_type": "code",
      "metadata": {
        "id": "OyPLsLekRkXe"
      },
      "source": [
        "# Resnet18_100 from ResNet18 class with No TOP & no Weigths\n",
        "input_shape = (32,32,3)\n",
        "notop_resnet18 = ResNet18(include_top=False,pooling='avg',weights=None,classes=20,input_shape=input_shape,backend=backend,layers=layers,models=models,utils=utils)\n",
        "notop_resnet18 = compile(notop_resnet18)\n",
        "notop_resnet18.summary()"
      ],
      "execution_count": null,
      "outputs": []
    },
    {
      "cell_type": "code",
      "metadata": {
        "id": "JXIphlbxjQ5b",
        "outputId": "adc04d86-5f96-4055-f59a-73204d2be7e9",
        "colab": {
          "base_uri": "https://localhost:8080/"
        }
      },
      "source": [
        "random_notop_weights = notop_resnet18.weights\n",
        "random_notop_weights[0][0][0][0]"
      ],
      "execution_count": null,
      "outputs": []
    },
    {
      "cell_type": "markdown",
      "metadata": {
        "id": "zqNyZlCNRQSd"
      },
      "source": [
        "##Cifar100 load Weights"
      ]
    },
    {
      "cell_type": "code",
      "metadata": {
        "id": "setB5JzsDm9i"
      },
      "source": [
        "# Resnet18_100 from ResNet18 class with TOP & Cifar100 Weigths\n",
        "input_shape = (32,32,3)\n",
        "top_resnet18 = ResNet18(include_top=True,weights=None,classes=20,input_shape=input_shape,backend=backend,layers=layers,models=models,utils=utils)\n",
        "top_resnet18 = compile(top_resnet18)\n",
        "top_resnet18.load_weights('resnet18_cifar100_top.h5')\n",
        "top_resnet18.summary()"
      ],
      "execution_count": null,
      "outputs": []
    },
    {
      "cell_type": "code",
      "metadata": {
        "id": "l4JglMtWjvnr"
      },
      "source": [
        "top_weights = top_resnet18.weights\n",
        "top_weights[0][0][0][0]"
      ],
      "execution_count": null,
      "outputs": []
    },
    {
      "cell_type": "code",
      "metadata": {
        "id": "bUEILXzkRBz1"
      },
      "source": [
        "# Resnet18_100_coarse from ResNet18 class with NO TOP & Cifar100 notop Weights\n",
        "new_input = top_resnet18.input\n",
        "hidden_layers = top_resnet18.layers[-2].output\n",
        "new_output = hidden_layers\n",
        "notop_resnet18 = Model(new_input,new_output)\n",
        "notop_resnet18.summary()\n",
        "notop_resnet18.save_weights('resnet18_cifar100_no_top.h5')"
      ],
      "execution_count": null,
      "outputs": []
    },
    {
      "cell_type": "code",
      "metadata": {
        "id": "99K8OS87jtzc"
      },
      "source": [
        "notop_weights = notop_resnet18.weights\n",
        "notop_weights[0][0][0][0]"
      ],
      "execution_count": null,
      "outputs": []
    },
    {
      "cell_type": "markdown",
      "metadata": {
        "id": "YXe4D8u9SLlX"
      },
      "source": [
        "## Cifar100 pre-load Weights"
      ]
    },
    {
      "cell_type": "code",
      "metadata": {
        "id": "T6vT1AUsTH9Z"
      },
      "source": [
        "WEIGHTS_PATH = 'https://raw.githubusercontent.com/cl3m3nt/resnet/master/resnet18_cifar100_top.h5'\n",
        "WEIGHTS_PATH_NO_TOP = 'https://raw.githubusercontent.com/cl3m3nt/resnet/master/resnet18_cifar100_no_top.h5'"
      ],
      "execution_count": null,
      "outputs": []
    },
    {
      "cell_type": "code",
      "metadata": {
        "id": "YpD4HL-WfYgP"
      },
      "source": [
        "WEIGHTS_PATH = 'https://github.com/cl3m3nt/resnet/blob/master/resnet18_cifar100_top.h5'\n",
        "WEIGHTS_PATH_NO_TOP = 'https://github.com/cl3m3nt/resnet/blob/master/resnet18_cifar100_top.h5'"
      ],
      "execution_count": null,
      "outputs": []
    },
    {
      "cell_type": "code",
      "metadata": {
        "id": "TDbqIfTDSPdi",
        "outputId": "5564917c-6f0e-422f-ec43-17e2873ab111",
        "colab": {
          "base_uri": "https://localhost:8080/"
        }
      },
      "source": [
        "# Resnet18_100 from ResNet18 class with TOP & Cifar100 Weigths\n",
        "input_shape = (32,32,3)\n",
        "top_resnet18 = ResNet18(include_top=True,weights='cifar100_coarse',classes=20,input_shape=input_shape,backend=backend,layers=layers,models=models,utils=utils)\n",
        "top_resnet18 = compile(top_resnet18)\n",
        "top_resnet18.summary()"
      ],
      "execution_count": null,
      "outputs": []
    },
    {
      "cell_type": "code",
      "metadata": {
        "id": "i2tm7UzlksTD",
        "outputId": "79973b76-74cf-4ca7-8135-b133287003d5",
        "colab": {
          "base_uri": "https://localhost:8080/"
        }
      },
      "source": [
        "top_weights = top_resnet18.weights\n",
        "top_weights[0][0][0][0]"
      ],
      "execution_count": null,
      "outputs": []
    },
    {
      "cell_type": "code",
      "metadata": {
        "id": "XNofF45-fH7k",
        "outputId": "7e6905b4-8afd-4129-f6a4-5fb8d9b39f6c",
        "colab": {
          "base_uri": "https://localhost:8080/"
        }
      },
      "source": [
        "# Resnet18_100 from ResNet18 class with NO TOP & Cifar100 Weigths\n",
        "input_shape = (32,32,3)\n",
        "notop_resnet18 = ResNet18(include_top=False,pooling='avg',weights='cifar100_coarse',classes=20,input_shape=input_shape,backend=backend,layers=layers,models=models,utils=utils)\n",
        "notop_resnet18 = compile(notop_resnet18)\n",
        "notop_resnet18.summary()"
      ],
      "execution_count": null,
      "outputs": []
    },
    {
      "cell_type": "code",
      "metadata": {
        "id": "mMrTPX0gkvoS",
        "outputId": "cc8bf570-a64e-4297-cf62-54920fb7aba3",
        "colab": {
          "base_uri": "https://localhost:8080/"
        }
      },
      "source": [
        "notop_weights = notop_resnet18.weights\n",
        "notop_weights[0][0][0][0]"
      ],
      "execution_count": null,
      "outputs": []
    },
    {
      "cell_type": "markdown",
      "metadata": {
        "id": "w_NyDZHff8FY"
      },
      "source": [
        "# Weights Check"
      ]
    },
    {
      "cell_type": "code",
      "metadata": {
        "id": "CQ_ZjjHJf7MM"
      },
      "source": [
        "# Resnet18_100 from ResNet18 class with TOP & load Weigths\n",
        "input_shape = (32,32,3)\n",
        "top_resnet18 = ResNet18(include_top=True,weights=None,classes=20,input_shape=input_shape,backend=backend,layers=layers,models=models,utils=utils)\n",
        "top_resnet18 = compile(top_resnet18)\n",
        "top_resnet18.load_weights('resnet18_cifar100_top.h5')"
      ],
      "execution_count": null,
      "outputs": []
    },
    {
      "cell_type": "code",
      "metadata": {
        "id": "5NoVq2EugFnf"
      },
      "source": [
        "weights = top_resnet18.get_weights()\n",
        "for i in range(0,1):\n",
        "  print(weights[i])"
      ],
      "execution_count": null,
      "outputs": []
    },
    {
      "cell_type": "code",
      "metadata": {
        "id": "VFZ6oPqdgE2g"
      },
      "source": [
        "# Resnet18_100 from ResNet18 class with TOP & Cifar100 Weigths\n",
        "input_shape = (32,32,3)\n",
        "top_resnet18 = ResNet18(include_top=True,weights='cifar100_coarse',classes=20,input_shape=input_shape,backend=backend,layers=layers,models=models,utils=utils)\n",
        "top_resnet18 = compile(top_resnet18)"
      ],
      "execution_count": null,
      "outputs": []
    },
    {
      "cell_type": "code",
      "metadata": {
        "id": "HNhly9ZBgsQo"
      },
      "source": [
        "weights = top_resnet18.get_weights()\n",
        "for i in range(0,1):\n",
        "  print(weights[i])"
      ],
      "execution_count": null,
      "outputs": []
    },
    {
      "cell_type": "markdown",
      "metadata": {
        "id": "HlQtandhhIZ2"
      },
      "source": [
        "#VGG16/19 Transfer example"
      ]
    },
    {
      "cell_type": "code",
      "metadata": {
        "id": "SHjNS1wqe7fV"
      },
      "source": [
        "import keras \n",
        "vgg16_model = keras.applications.vgg16.VGG16() # 134 Millions parameters\n",
        "model = Sequential()\n",
        "for layer in vgg16_model.layers[:-1]: # just exclude last layer from copying\n",
        "  model.add(layer)\n",
        "for layer in model.layers:\n",
        "  layer.trainable = False\n",
        "model.add(Dense(2, activation='softmax'))\n",
        "model.summary()"
      ],
      "execution_count": null,
      "outputs": []
    },
    {
      "cell_type": "code",
      "metadata": {
        "id": "Xf0_ACRGf_oa"
      },
      "source": [
        "import keras \n",
        "vgg19_model = keras.applications.vgg19.VGG19() # 139 Millions parameters\n",
        "model = Sequential()\n",
        "for layer in vgg19_model.layers[:-1]: # just exclude last layer from copying\n",
        "  model.add(layer)\n",
        "for layer in model.layers:\n",
        "  layer.trainable = False\n",
        "model.add(Dense(2, activation='softmax'))\n",
        "model.summary()"
      ],
      "execution_count": null,
      "outputs": []
    },
    {
      "cell_type": "code",
      "metadata": {
        "id": "BXV8zbpHhUEp"
      },
      "source": [
        "for layer,weights in zip(my_resnet18.layers,my_resnet18.weights):\n",
        "  print(layer,weights)"
      ],
      "execution_count": null,
      "outputs": []
    },
    {
      "cell_type": "markdown",
      "metadata": {
        "id": "l582LVTCnhIn"
      },
      "source": [
        "# Github"
      ]
    },
    {
      "cell_type": "code",
      "metadata": {
        "id": "qV7LSbGJnoup"
      },
      "source": [
        "!cp /content/resnet18_cifar100_no_top.h5 /content/resnet/"
      ],
      "execution_count": null,
      "outputs": []
    },
    {
      "cell_type": "code",
      "metadata": {
        "id": "qAthHDzZnx0h"
      },
      "source": [
        "!cp /content/resnet18_cifar100_top.h5 /content/resnet/"
      ],
      "execution_count": null,
      "outputs": []
    },
    {
      "cell_type": "code",
      "metadata": {
        "id": "8XNzE9UMnkGM"
      },
      "source": [
        "!cd /content/resnet/"
      ],
      "execution_count": null,
      "outputs": []
    },
    {
      "cell_type": "code",
      "metadata": {
        "id": "3qQ8i2Jkn3jR",
        "outputId": "d72a8c84-1e1b-4246-d9a6-b15a65eeb41e",
        "colab": {
          "base_uri": "https://localhost:8080/",
          "height": 35
        }
      },
      "source": [
        "import os\n",
        "os.getcwd()"
      ],
      "execution_count": null,
      "outputs": []
    },
    {
      "cell_type": "code",
      "metadata": {
        "id": "8jGOpih7n_DK",
        "outputId": "0e6d1cbc-7699-4947-f60c-b0f1d4923db3",
        "colab": {
          "base_uri": "https://localhost:8080/",
          "height": 35
        }
      },
      "source": [
        "os.chdir('/content/resnet/')\n",
        "os.getcwd()"
      ],
      "execution_count": null,
      "outputs": []
    },
    {
      "cell_type": "code",
      "metadata": {
        "id": "qghCnABjoQOr",
        "outputId": "645ae3e5-2d05-4e6a-e1ba-29c9926144ed",
        "colab": {
          "base_uri": "https://localhost:8080/"
        }
      },
      "source": [
        "!git status"
      ],
      "execution_count": null,
      "outputs": []
    },
    {
      "cell_type": "code",
      "metadata": {
        "id": "yacOdoiGoT5p"
      },
      "source": [
        ""
      ],
      "execution_count": null,
      "outputs": []
    }
  ]
}