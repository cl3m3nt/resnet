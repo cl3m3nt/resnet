{
  "nbformat": 4,
  "nbformat_minor": 0,
  "metadata": {
    "colab": {
      "name": "Resnet18_2.ipynb",
      "provenance": [],
      "collapsed_sections": [
        "N7mEpWzAZ7C4",
        "zqNyZlCNRQSd"
      ],
      "toc_visible": true
    },
    "kernelspec": {
      "name": "python3",
      "display_name": "Python 3"
    },
    "accelerator": "GPU"
  },
  "cells": [
    {
      "cell_type": "markdown",
      "metadata": {
        "id": "h7npNJY3tlNj"
      },
      "source": [
        "# Pre-Requesite"
      ]
    },
    {
      "cell_type": "code",
      "metadata": {
        "id": "YJbh4Nb7xBqc",
        "outputId": "f1f0479b-eba7-4b03-f9e0-0c62bfcdc3ef",
        "colab": {
          "base_uri": "https://localhost:8080/"
        }
      },
      "source": [
        "!git clone https://github.com/cl3m3nt/resnet.git"
      ],
      "execution_count": 2,
      "outputs": [
        {
          "output_type": "stream",
          "text": [
            "Cloning into 'resnet'...\n",
            "remote: Enumerating objects: 28, done.\u001b[K\n",
            "remote: Counting objects: 100% (28/28), done.\u001b[K\n",
            "remote: Compressing objects: 100% (13/13), done.\u001b[K\n",
            "remote: Total 28 (delta 8), reused 28 (delta 8), pack-reused 0\u001b[K\n",
            "Unpacking objects: 100% (28/28), done.\n"
          ],
          "name": "stdout"
        }
      ]
    },
    {
      "cell_type": "code",
      "metadata": {
        "id": "crTKgA-9zjYU",
        "outputId": "6505de7e-9df6-482e-e282-51e559bb7d6f",
        "colab": {
          "base_uri": "https://localhost:8080/"
        }
      },
      "source": [
        "!git clone https://github.com/keras-team/keras-applications.git\n",
        "# move keras_applications at same level than keras-applications\n",
        "# otherwise next import will fail"
      ],
      "execution_count": 3,
      "outputs": [
        {
          "output_type": "stream",
          "text": [
            "Cloning into 'keras-applications'...\n",
            "remote: Enumerating objects: 8, done.\u001b[K\n",
            "remote: Counting objects: 100% (8/8), done.\u001b[K\n",
            "remote: Compressing objects: 100% (8/8), done.\u001b[K\n",
            "remote: Total 482 (delta 2), reused 3 (delta 0), pack-reused 474\u001b[K\n",
            "Receiving objects: 100% (482/482), 462.55 KiB | 18.50 MiB/s, done.\n",
            "Resolving deltas: 100% (340/340), done.\n"
          ],
          "name": "stdout"
        }
      ]
    },
    {
      "cell_type": "code",
      "metadata": {
        "id": "E_MRtk_q3sMc",
        "outputId": "4666db79-76eb-4f72-f1e1-9f4b9057f617",
        "colab": {
          "base_uri": "https://localhost:8080/"
        }
      },
      "source": [
        "!nvidia-smi"
      ],
      "execution_count": 4,
      "outputs": [
        {
          "output_type": "stream",
          "text": [
            "Tue Nov  3 13:11:42 2020       \n",
            "+-----------------------------------------------------------------------------+\n",
            "| NVIDIA-SMI 455.32.00    Driver Version: 418.67       CUDA Version: 10.1     |\n",
            "|-------------------------------+----------------------+----------------------+\n",
            "| GPU  Name        Persistence-M| Bus-Id        Disp.A | Volatile Uncorr. ECC |\n",
            "| Fan  Temp  Perf  Pwr:Usage/Cap|         Memory-Usage | GPU-Util  Compute M. |\n",
            "|                               |                      |               MIG M. |\n",
            "|===============================+======================+======================|\n",
            "|   0  Tesla P100-PCIE...  Off  | 00000000:00:04.0 Off |                    0 |\n",
            "| N/A   43C    P0    29W / 250W |      0MiB / 16280MiB |      0%      Default |\n",
            "|                               |                      |                 ERR! |\n",
            "+-------------------------------+----------------------+----------------------+\n",
            "                                                                               \n",
            "+-----------------------------------------------------------------------------+\n",
            "| Processes:                                                                  |\n",
            "|  GPU   GI   CI        PID   Type   Process name                  GPU Memory |\n",
            "|        ID   ID                                                   Usage      |\n",
            "|=============================================================================|\n",
            "|  No running processes found                                                 |\n",
            "+-----------------------------------------------------------------------------+\n"
          ],
          "name": "stdout"
        }
      ]
    },
    {
      "cell_type": "markdown",
      "metadata": {
        "id": "Y58hALiztqDM"
      },
      "source": [
        "# Resnet18 Architecture"
      ]
    },
    {
      "cell_type": "code",
      "metadata": {
        "id": "Zot6kwCKxyod"
      },
      "source": [
        "import tensorflow as tf\n",
        "from tensorflow.keras.layers import ZeroPadding2D, Input, GlobalAveragePooling2D,GlobalMaxPooling2D,Dense\n",
        "from tensorflow.keras.layers import Convolution2D,MaxPooling2D,BatchNormalization\n",
        "from tensorflow.keras.layers import Activation,Dropout,Flatten\n",
        "from tensorflow.keras.models import Model,Sequential\n",
        "from keras_applications.imagenet_utils import _obtain_input_shape, get_submodules_from_kwargs\n",
        "import os\n",
        "import cv2\n",
        "import numpy as np\n",
        "import tensorflow.keras.datasets as datasets\n",
        "import tensorflow_datasets as tfds"
      ],
      "execution_count": 5,
      "outputs": []
    },
    {
      "cell_type": "code",
      "metadata": {
        "id": "Wj1pWThgx5Tg"
      },
      "source": [
        "def identity_block(input_tensor, kernel_size, filters, stage, block):\n",
        "    filters1, filters2 = filters\n",
        "    if backend.image_data_format() == 'channels_last':\n",
        "        bn_axis = 3\n",
        "\n",
        "    else: \n",
        "        bn_axis = 1\n",
        "    conv_name_base = 'res' + str(stage) + block + '_branch'\n",
        "    bn_name_base = 'bn' + str(stage) + block +'_branch'\n",
        "\n",
        "    x = Convolution2D(filters1,(1,1),\n",
        "               kernel_initializer='he_normal',\n",
        "               name = conv_name_base + '2a')(input_tensor)\n",
        "    x = BatchNormalization(axis=bn_axis,name=bn_name_base + '2a')(x)\n",
        "    x = Activation('relu')(x)\n",
        "\n",
        "    x = Convolution2D(filters2, kernel_size,\n",
        "               padding='same',\n",
        "               kernel_initializer='he_normal',\n",
        "               name = conv_name_base + '2b')(x)\n",
        "    x = BatchNormalization(axis=bn_axis,name=bn_name_base+'2b')(x)\n",
        "    x = Activation('relu')(x)\n",
        "\n",
        "    x = tf.keras.layers.add([x,input_tensor])\n",
        "    x = Activation('relu')(x)\n",
        "    return x\n"
      ],
      "execution_count": 6,
      "outputs": []
    },
    {
      "cell_type": "code",
      "metadata": {
        "id": "G0KY2C_9yiDU"
      },
      "source": [
        "def conv_block(input_tensor,kernel_size,filters,stage,block,strides=(2,2)):\n",
        "\n",
        "    filters1, filters2 = filters\n",
        "    if backend.image_data_format() == 'channels_last':\n",
        "        bn_axis = 3\n",
        "    else:\n",
        "        bn_axis = 1\n",
        "    conv_name_base = 'res' + str(stage) + block + '_branch'\n",
        "    bn_name_base = 'bn' + str(stage) + block + '_branch'\n",
        "\n",
        "    x = Convolution2D(filters1,(1,1),strides=strides,\n",
        "               kernel_initializer='he_normal',\n",
        "               name = conv_name_base + '2a')(input_tensor)\n",
        "    x = BatchNormalization(bn_axis,name=bn_name_base + '2a')(x)\n",
        "    x = Activation('relu')(x)\n",
        "\n",
        "\n",
        "    x = Convolution2D(filters2, kernel_size,\n",
        "               padding='same',\n",
        "               kernel_initializer='he_normal',\n",
        "               name = conv_name_base + '2b')(x)\n",
        "    x = BatchNormalization(axis=bn_axis,name=bn_name_base+'2b')(x)\n",
        "    x = Activation('relu')(x)\n",
        "\n",
        "    \n",
        "    shortcut = Convolution2D(filters2,(1,1),strides=strides,\n",
        "                      kernel_initializer='he_normal',\n",
        "                      name=conv_name_base+'1')(input_tensor)\n",
        "    \n",
        "    shortcut = BatchNormalization(\n",
        "        axis=bn_axis,name=bn_name_base+'1')(shortcut)\n",
        "    \n",
        "    x = tf.keras.layers.add([x,shortcut])\n",
        "    x = Activation('relu')(x)\n",
        "    return x"
      ],
      "execution_count": 7,
      "outputs": []
    },
    {
      "cell_type": "code",
      "metadata": {
        "id": "0voHTNZ80V6-"
      },
      "source": [
        "backend = tf.compat.v1.keras.backend\n",
        "layers = tf.keras.layers\n",
        "models = tf.keras.models\n",
        "utils = tf.keras.utils"
      ],
      "execution_count": 8,
      "outputs": []
    },
    {
      "cell_type": "code",
      "metadata": {
        "id": "066EgaLq0XrY"
      },
      "source": [
        "def ResNet18(include_top=True,\n",
        "             weights='cifar100_coarse',\n",
        "             input_tensor=None,\n",
        "             input_shape=None,\n",
        "             pooling=None,\n",
        "             classes=20,\n",
        "             **kwargs):\n",
        "    global backend, layers, models, keras_utils\n",
        "    backend, layers, models, keras_utils = get_submodules_from_kwargs(kwargs)\n",
        "\n",
        "\n",
        "\n",
        "    if not (weights in {'cifar100_coarse', None} or os.path.exists(weights)):\n",
        "        raise ValueError('The `weights` argument should be either '\n",
        "                         '`None` (random initialization), `cifar100_coarse` '\n",
        "                         '(pre-training on cifar100 coarse (super) classes), '\n",
        "                         'or the path to the weights file to be loaded.')\n",
        "\n",
        "    if weights == 'cifar100_coarse' and include_top and classes != 20:\n",
        "        raise ValueError('If using `weights` as `\"cifar100_coarse\"` with `include_top`'\n",
        "                         ' as true, `classes` should be 20')\n",
        "\n",
        "    # Determine proper input shape\n",
        "    input_shape = _obtain_input_shape(input_shape,\n",
        "                                      default_size=224,\n",
        "                                      min_size=32,\n",
        "                                      data_format=backend.image_data_format(),\n",
        "                                      require_flatten=include_top,\n",
        "                                      weights=weights)\n",
        "\n",
        "    if input_tensor is None:\n",
        "        img_input = layers.Input(shape=input_shape)\n",
        "    else:\n",
        "        if not tf.keras.backend.is_keras_tensor(input_tensor):\n",
        "            img_input = layers.Input(tensor=input_tensor, shape=input_shape)\n",
        "        else:\n",
        "            img_input = input_tensor\n",
        "    if backend.image_data_format() == 'channels_last':\n",
        "        bn_axis = 3\n",
        "    else:\n",
        "        bn_axis = 1\n",
        "\n",
        "    x = ZeroPadding2D(padding=(3,3),name='conv1_pad')(img_input)\n",
        "    x = Convolution2D(64,(7,7),\n",
        "                      strides=(2,2),\n",
        "                      padding='valid',\n",
        "                      kernel_initializer='he_normal',\n",
        "                      name='conv1')(x)\n",
        "    x = BatchNormalization(axis=bn_axis,name='bn_conv1')(x)\n",
        "    x = Activation('relu')(x)\n",
        "    x = ZeroPadding2D(padding=(1,1),name='pool1_pad')(x)\n",
        "    x = MaxPooling2D((3,3),strides=(2,2))(x)\n",
        "\n",
        "    x = identity_block(x,3,[64,64],stage=2,block='a')\n",
        "    x = identity_block(x,3,[64,64],stage=2,block='b')\n",
        "\n",
        "    x = conv_block(x,3,[128,128],stage=3,block='a')\n",
        "    x = identity_block(x,3,[128,128],stage=3,block='b')\n",
        "\n",
        "    x = conv_block(x,3,[256,256],stage=4,block='a')\n",
        "    x = identity_block(x,3,[256,256],stage=4,block='b')\n",
        "\n",
        "    x = conv_block(x,3,[512,512],stage=5,block='a')\n",
        "    x = identity_block(x,3,[512,512],stage=5,block='b')\n",
        "\n",
        "\n",
        "    if include_top:\n",
        "        x = layers.GlobalAveragePooling2D(name='avg_pool')(x)\n",
        "        x = layers.Dense(classes, activation='softmax', name='fc20')(x)\n",
        "    else:\n",
        "        if pooling == 'avg':\n",
        "            x = layers.GlobalAveragePooling2D()(x)\n",
        "        elif pooling == 'max':\n",
        "            x = layers.GlobalMaxPooling2D()(x)\n",
        "        '''\n",
        "        else:\n",
        "            warnings.warn('The output shape of `ResNet18(include_top=False)` '\n",
        "                          'has been changed since Keras 2.2.0.')\n",
        "        '''\n",
        "    \n",
        "\n",
        "    # Ensure that the model takes into account\n",
        "    # any potential predecessors of `input_tensor`.\n",
        "    if input_tensor is not None:\n",
        "        inputs = keras_utils.get_source_inputs(input_tensor)\n",
        "    else:\n",
        "        inputs = img_input\n",
        "    # Create model.\n",
        "    model = Model(inputs, x, name='resnet18')\n",
        "\n",
        "    # Load weights.\n",
        "    if weights == 'cifar100_coarse':\n",
        "        if include_top:\n",
        "            weights_path = keras_utils.get_file(\n",
        "                'resnet18_cifar100_top.h5',\n",
        "                WEIGHTS_PATH,\n",
        "                cache_subdir='models',\n",
        "                file_hash='4e364425e6d5ac22dfc34abaaf0a61fbc397b406914d8594494687f38605d710')\n",
        "        else:\n",
        "            weights_path = keras_utils.get_file(\n",
        "                'resnet18_cifar100_no_top.h5',\n",
        "                WEIGHTS_PATH_NO_TOP,\n",
        "                cache_subdir='models',\n",
        "                file_hash='d7f440ebc0d202f9e49c6625d7b21c638d1d82ba3b630485eed4f29cfd2dee05')\n",
        "        model.load_weights(weights_path)\n",
        "\n",
        "  \n",
        "    return model"
      ],
      "execution_count": 77,
      "outputs": []
    },
    {
      "cell_type": "code",
      "metadata": {
        "id": "ffsBjbfUSnll",
        "outputId": "fce1cc42-faeb-4e00-aa12-bdd27ac96a35",
        "colab": {
          "base_uri": "https://localhost:8080/"
        }
      },
      "source": [
        "!shasum -a 256 resnet18_cifar100_top.h5"
      ],
      "execution_count": 70,
      "outputs": [
        {
          "output_type": "stream",
          "text": [
            "4e364425e6d5ac22dfc34abaaf0a61fbc397b406914d8594494687f38605d710  resnet18_cifar100_top.h5\n"
          ],
          "name": "stdout"
        }
      ]
    },
    {
      "cell_type": "code",
      "metadata": {
        "id": "OUVJd-PiSfFO",
        "outputId": "3b1b0e0a-1610-4e01-ef96-8aaf61c803bd",
        "colab": {
          "base_uri": "https://localhost:8080/"
        }
      },
      "source": [
        "!shasum -a 256 resnet18_cifar100_no_top.h5"
      ],
      "execution_count": 71,
      "outputs": [
        {
          "output_type": "stream",
          "text": [
            "d7f440ebc0d202f9e49c6625d7b21c638d1d82ba3b630485eed4f29cfd2dee05  resnet18_cifar100_no_top.h5\n"
          ],
          "name": "stdout"
        }
      ]
    },
    {
      "cell_type": "code",
      "metadata": {
        "id": "z0mHTJfd0ddf"
      },
      "source": [
        "def compile(model):\n",
        "    model.compile(\n",
        "    optimizer='adam',\n",
        "    loss='sparse_categorical_crossentropy',\n",
        "    metrics=['accuracy']\n",
        "    )\n",
        "    return model"
      ],
      "execution_count": 14,
      "outputs": []
    },
    {
      "cell_type": "code",
      "metadata": {
        "id": "XavsEKUN25H3"
      },
      "source": [
        "# CIFAR100 coarse from tf.keras.datasets \n",
        "cifar100_coarse = datasets.cifar100\n",
        "(x_train_100_coarse,y_train_100_coarse),(x_test_100_coarse,y_test_100_coarse) = cifar100_coarse.load_data(label_mode=\"coarse\")\n",
        "x_train_100_coarse = x_train_100_coarse/255.0\n",
        "x_test_100_coarse = x_test_100_coarse/255.0"
      ],
      "execution_count": 15,
      "outputs": []
    },
    {
      "cell_type": "code",
      "metadata": {
        "id": "LpaBNFjLO8Km"
      },
      "source": [
        "# Resnet18_100_coarse from ResNet18 class with TOP\n",
        "input_shape = (32,32,3)\n",
        "my_resnet18 = ResNet18(include_top=True,weights=None,classes=20,input_shape=input_shape,backend=backend,layers=layers,models=models,utils=utils)\n",
        "my_resnet18 = compile(my_resnet18)\n",
        "my_resnet18.summary()"
      ],
      "execution_count": null,
      "outputs": []
    },
    {
      "cell_type": "code",
      "metadata": {
        "id": "256hZEhm27ey",
        "outputId": "341ce3e2-581b-4246-c7b3-4216ff42e76e",
        "colab": {
          "base_uri": "https://localhost:8080/"
        }
      },
      "source": [
        "# Training ResNet18 with TOP with CIFAR10\n",
        "history = my_resnet18.fit(x_train_100_coarse,y_train_100_coarse,\n",
        "                          validation_data = (x_test_100_coarse,y_test_100_coarse),\n",
        "                          epochs=10\n",
        "                        )"
      ],
      "execution_count": 13,
      "outputs": [
        {
          "output_type": "stream",
          "text": [
            "Epoch 1/10\n",
            "1563/1563 [==============================] - 23s 15ms/step - loss: 2.3938 - accuracy: 0.2897 - val_loss: 2.2701 - val_accuracy: 0.3224\n",
            "Epoch 2/10\n",
            "1563/1563 [==============================] - 23s 14ms/step - loss: 1.9376 - accuracy: 0.4074 - val_loss: 2.8818 - val_accuracy: 0.2946\n",
            "Epoch 3/10\n",
            "1563/1563 [==============================] - 23s 14ms/step - loss: 1.7218 - accuracy: 0.4691 - val_loss: 2.0256 - val_accuracy: 0.3976\n",
            "Epoch 4/10\n",
            "1563/1563 [==============================] - 23s 14ms/step - loss: 1.5521 - accuracy: 0.5198 - val_loss: 1.6749 - val_accuracy: 0.4838\n",
            "Epoch 5/10\n",
            "1563/1563 [==============================] - 23s 14ms/step - loss: 1.3914 - accuracy: 0.5644 - val_loss: 1.9918 - val_accuracy: 0.4245\n",
            "Epoch 6/10\n",
            "1563/1563 [==============================] - 23s 14ms/step - loss: 1.2552 - accuracy: 0.6058 - val_loss: 2.2298 - val_accuracy: 0.3905\n",
            "Epoch 7/10\n",
            "1563/1563 [==============================] - 23s 14ms/step - loss: 1.1227 - accuracy: 0.6458 - val_loss: 2.6360 - val_accuracy: 0.3479\n",
            "Epoch 8/10\n",
            "1563/1563 [==============================] - 23s 15ms/step - loss: 0.9983 - accuracy: 0.6787 - val_loss: 1.8965 - val_accuracy: 0.4575\n",
            "Epoch 9/10\n",
            "1563/1563 [==============================] - 22s 14ms/step - loss: 0.8750 - accuracy: 0.7168 - val_loss: 1.7768 - val_accuracy: 0.5017\n",
            "Epoch 10/10\n",
            "1563/1563 [==============================] - 22s 14ms/step - loss: 0.7626 - accuracy: 0.7527 - val_loss: 1.9396 - val_accuracy: 0.4932\n"
          ],
          "name": "stdout"
        }
      ]
    },
    {
      "cell_type": "markdown",
      "metadata": {
        "id": "qR_T79A_Pbkg"
      },
      "source": [
        "# Save, Reload Model, Predict"
      ]
    },
    {
      "cell_type": "code",
      "metadata": {
        "id": "ugQW_YH-QggJ"
      },
      "source": [
        "import matplotlib.pyplot as plt"
      ],
      "execution_count": 16,
      "outputs": []
    },
    {
      "cell_type": "code",
      "metadata": {
        "id": "wxjIi7NCOO-b"
      },
      "source": [
        "my_resnet18.save_weights(\"resnet18_cifar100_top.h5\")"
      ],
      "execution_count": 17,
      "outputs": []
    },
    {
      "cell_type": "code",
      "metadata": {
        "id": "NiHJlK2fPW3K",
        "outputId": "b3fb9871-0b0c-44e9-b060-d0ac7d3f1af3",
        "colab": {
          "base_uri": "https://localhost:8080/"
        }
      },
      "source": [
        "!ls -lh"
      ],
      "execution_count": 18,
      "outputs": [
        {
          "output_type": "stream",
          "text": [
            "total 27M\n",
            "drwxr-xr-x 3 root root 4.0K Nov  3 13:11 keras_applications\n",
            "drwxr-xr-x 5 root root 4.0K Nov  3 13:11 keras-applications\n",
            "drwxr-xr-x 3 root root 4.0K Nov  3 13:11 resnet\n",
            "-rw-r--r-- 1 root root  27M Nov  3 13:16 resnet18_cifar100_top.h5\n",
            "drwxr-xr-x 1 root root 4.0K Oct 28 16:30 sample_data\n"
          ],
          "name": "stdout"
        }
      ]
    },
    {
      "cell_type": "code",
      "metadata": {
        "id": "HiixbQAqPg12"
      },
      "source": [
        "input_shape = (32,32,3)\n",
        "loaded_resnet = ResNet18(include_top=True,weights=None,classes=20,input_shape=input_shape,backend=backend,layers=layers,models=models,utils=utils)\n",
        "loaded_resnet = compile(my_resnet18)\n",
        "loaded_resnet.load_weights('resnet18_cifar100_top.h5')\n",
        "loaded_resnet.summary()"
      ],
      "execution_count": null,
      "outputs": []
    },
    {
      "cell_type": "code",
      "metadata": {
        "id": "lyK0hCyXQJOR",
        "outputId": "f25393cb-9f50-486f-f925-ab4b8b38196b",
        "colab": {
          "base_uri": "https://localhost:8080/",
          "height": 281
        }
      },
      "source": [
        "test_images = x_train_100_coarse[:100]\n",
        "plt.imshow(test_images[0])\n",
        "plt.title(\"Test Image 0\")\n",
        "plt.show()"
      ],
      "execution_count": 20,
      "outputs": [
        {
          "output_type": "display_data",
          "data": {
            "image/png": "[encoded data removed]",
            "text/plain": [
              "<Figure size 432x288 with 1 Axes>"
            ]
          },
          "metadata": {
            "tags": [],
            "needs_background": "light"
          }
        }
      ]
    },
    {
      "cell_type": "code",
      "metadata": {
        "id": "Qp7stzwQRj4k",
        "outputId": "117e2fc1-0d16-4280-871a-5972e350c6ea",
        "colab": {
          "base_uri": "https://localhost:8080/"
        }
      },
      "source": [
        "cifar100_supsub_classes={\"aquatic\": \"mammals\tbeaver, dolphin, otter, seal, whale\",\n",
        "\"fish\":\t\"aquarium fish, flatfish, ray, shark, trout\",\n",
        "\"flowers\":\t\"orchids, poppies, roses, sunflowers, tulips\",\n",
        "\"food containers\":\t\"bottles, bowls, cans, cups, plates\",\n",
        "\"fruit and vegetables\":\t\"apples, mushrooms, oranges, pears, sweet peppers\",\n",
        "\"household electrical devices\":\t\"clock, computer keyboard, lamp, telephone, television\",\n",
        "\"household furniture\":\t\"bed, chair, couch, table, wardrobe\",\n",
        "\"insects\":\t\"bee, beetle, butterfly, caterpillar, cockroach\",\n",
        "\"large carnivores\":\t\"bear, leopard, lion, tiger, wolf\",\n",
        "\"large man-made outdoor things\":\t\"bridge, castle, house, road, skyscraper\",\n",
        "\"large natural outdoor scenes\":\t\"cloud, forest, mountain, plain, sea\",\n",
        "\"large omnivores and herbivores\":\t\"camel, cattle, chimpanzee, elephant, kangaroo\",\n",
        "\"medium-sized mammals\":\t\"fox, porcupine, possum, raccoon, skunk\",\n",
        "\"non-insect invertebrates\":\t\"crab, lobster, snail, spider, worm\",\n",
        "\"people\":\t\"baby, boy, girl, man, woman\",\n",
        "\"reptiles\":\t\"crocodile, dinosaur, lizard, snake, turtle\",\n",
        "\"small mammals\":\t\"hamster, mouse, rabbit, shrew, squirrel\",\n",
        "\"trees\"\t:\"maple, oak, palm, pine, willow\",\n",
        "\"vehicles 1\":\t\"bicycle, bus, motorcycle, pickup truck, train\",\n",
        "\"vehicles 2\": \"lawn-mower, rocket, streetcar, tank, tractor\"}\n",
        "print(cifar100_supsub_classes['fish'])"
      ],
      "execution_count": 21,
      "outputs": [
        {
          "output_type": "stream",
          "text": [
            "aquarium fish, flatfish, ray, shark, trout\n"
          ],
          "name": "stdout"
        }
      ]
    },
    {
      "cell_type": "code",
      "metadata": {
        "id": "pQ6gJHrQS_OK",
        "outputId": "7d4a3416-2d2c-4103-9237-7d06c628c0e6",
        "colab": {
          "base_uri": "https://localhost:8080/"
        }
      },
      "source": [
        "cifar100_super_classes = {}\n",
        "i = 0\n",
        "for key in cifar100_supsub_classes.keys():\n",
        "  cifar100_super_classes[i]=key\n",
        "  i=i+1\n",
        "print(cifar100_super_classes)"
      ],
      "execution_count": 22,
      "outputs": [
        {
          "output_type": "stream",
          "text": [
            "{0: 'aquatic', 1: 'fish', 2: 'flowers', 3: 'food containers', 4: 'fruit and vegetables', 5: 'household electrical devices', 6: 'household furniture', 7: 'insects', 8: 'large carnivores', 9: 'large man-made outdoor things', 10: 'large natural outdoor scenes', 11: 'large omnivores and herbivores', 12: 'medium-sized mammals', 13: 'non-insect invertebrates', 14: 'people', 15: 'reptiles', 16: 'small mammals', 17: 'trees', 18: 'vehicles 1', 19: 'vehicles 2'}\n"
          ],
          "name": "stdout"
        }
      ]
    },
    {
      "cell_type": "code",
      "metadata": {
        "id": "eEMyH8byQswU",
        "outputId": "d11d4f10-c733-418a-823a-06777610e879",
        "colab": {
          "base_uri": "https://localhost:8080/"
        }
      },
      "source": [
        "predictions = loaded_resnet.predict(test_images)\n",
        "pred0 = np.argmax(predictions[0])\n",
        "print(pred0)"
      ],
      "execution_count": 23,
      "outputs": [
        {
          "output_type": "stream",
          "text": [
            "11\n"
          ],
          "name": "stdout"
        }
      ]
    },
    {
      "cell_type": "code",
      "metadata": {
        "id": "9tvflhDcWYRG",
        "outputId": "2b1d5ad5-1828-4e51-efcd-d0943f760e17",
        "colab": {
          "base_uri": "https://localhost:8080/",
          "height": 223
        }
      },
      "source": [
        "import matplotlib.pyplot as plt\n",
        "fig =  plt.subplots(figsize=(12,6))\n",
        "i = 0\n",
        "j = 1\n",
        "for i in range(0,1):\n",
        "  for j in range(1,5):\n",
        "    plt.subplot(1,4,j)\n",
        "    plt.imshow(test_images[j-1])\n",
        "    plt.title(f'Image:{j}, prediction:{np.argmax(predictions[j-1])}')\n",
        "    plt.xlabel(f'{cifar100_super_classes[np.argmax(predictions[j-1])]}')\n",
        "    j = j+1\n",
        "plt.show()"
      ],
      "execution_count": 24,
      "outputs": [
        {
          "output_type": "display_data",
          "data": {
            "image/png": "[encoded data removed]",
            "text/plain": [
              "<Figure size 864x432 with 4 Axes>"
            ]
          },
          "metadata": {
            "tags": [],
            "needs_background": "light"
          }
        }
      ]
    },
    {
      "cell_type": "markdown",
      "metadata": {
        "id": "N7mEpWzAZ7C4"
      },
      "source": [
        "# Neural Network info"
      ]
    },
    {
      "cell_type": "code",
      "metadata": {
        "id": "iAzBC_c-Z9mt"
      },
      "source": [
        "# Layers Info\n",
        "def nn_layers_info(neural_net):\n",
        "  print(f'There are {len(neural_net.layers)} layers')\n",
        "  return neural_net.layers\n",
        "\n",
        "nn_layers_info(my_resnet18)"
      ],
      "execution_count": null,
      "outputs": []
    },
    {
      "cell_type": "code",
      "metadata": {
        "id": "2ygfZQAWaacl",
        "outputId": "f2f55653-cf08-4479-cde1-9af6fa4e5e51",
        "colab": {
          "base_uri": "https://localhost:8080/"
        }
      },
      "source": [
        "# Weights Info\n",
        "def nn_weights_info(neural_net):\n",
        "  print(f'There are {len(neural_net.weights)} weights')\n",
        "\n",
        "nn_weights_info(my_resnet18)"
      ],
      "execution_count": 26,
      "outputs": [
        {
          "output_type": "stream",
          "text": [
            "There are 122 weights\n"
          ],
          "name": "stdout"
        }
      ]
    },
    {
      "cell_type": "code",
      "metadata": {
        "id": "k-18GmSMbsAD"
      },
      "source": [
        "# Params Info\n",
        "def nn_params_info(neural_net):\n",
        "  for layer in my_resnet18.layers:\n",
        "    print(f'layer name:{layer.name}, number of parameters: {layer.count_params()}')\n",
        "  return f'Total parameters {neural_net.count_params()}'\n",
        "\n",
        "nn_params_info(my_resnet18)"
      ],
      "execution_count": null,
      "outputs": []
    },
    {
      "cell_type": "code",
      "metadata": {
        "id": "sDIpe9bkbUta"
      },
      "source": [
        "# Summary Info\n",
        "def nn_summary(neural_net):\n",
        "  return neural_net.summary()\n",
        "\n",
        "nn_summary(my_resnet18)"
      ],
      "execution_count": null,
      "outputs": []
    },
    {
      "cell_type": "markdown",
      "metadata": {
        "id": "dWv4ow2OPjLz"
      },
      "source": [
        "# ResNet18 NO TOP Weights"
      ]
    },
    {
      "cell_type": "markdown",
      "metadata": {
        "id": "uA8mhRlcRM5I"
      },
      "source": [
        "## Cifar100 No Weights"
      ]
    },
    {
      "cell_type": "code",
      "metadata": {
        "id": "BfZ6fVpKQ4ga"
      },
      "source": [
        "# Resnet18_100 from ResNet18 class with TOP & no Weigths\n",
        "input_shape = (32,32,3)\n",
        "top_resnet18 = ResNet18(include_top=True,weights=None,classes=20,input_shape=input_shape,backend=backend,layers=layers,models=models,utils=utils)\n",
        "top_resnet18 = compile(top_resnet18)\n",
        "top_resnet18.summary()"
      ],
      "execution_count": null,
      "outputs": []
    },
    {
      "cell_type": "code",
      "metadata": {
        "id": "OyPLsLekRkXe"
      },
      "source": [
        "# Resnet18_100 from ResNet18 class with No TOP & no Weigths\n",
        "input_shape = (32,32,3)\n",
        "notop_resnet18 = ResNet18(include_top=False,pooling='avg',weights=None,classes=20,input_shape=input_shape,backend=backend,layers=layers,models=models,utils=utils)\n",
        "notop_resnet18 = compile(notop_resnet18)\n",
        "notop_resnet18.summary()"
      ],
      "execution_count": null,
      "outputs": []
    },
    {
      "cell_type": "markdown",
      "metadata": {
        "id": "zqNyZlCNRQSd"
      },
      "source": [
        "##Cifar100 load Weights"
      ]
    },
    {
      "cell_type": "code",
      "metadata": {
        "id": "setB5JzsDm9i"
      },
      "source": [
        "# Resnet18_100 from ResNet18 class with TOP & Cifar100 Weigths\n",
        "input_shape = (32,32,3)\n",
        "top_resnet18 = ResNet18(include_top=True,weights=None,classes=20,input_shape=input_shape,backend=backend,layers=layers,models=models,utils=utils)\n",
        "top_resnet18 = compile(top_resnet18)\n",
        "top_resnet18.load_weights('resnet18_cifar100_top.h5')\n",
        "top_resnet18.summary()"
      ],
      "execution_count": null,
      "outputs": []
    },
    {
      "cell_type": "code",
      "metadata": {
        "id": "bUEILXzkRBz1"
      },
      "source": [
        "# Resnet18_100_coarse from ResNet18 class with NO TOP & Cifar100 notop Weights\n",
        "new_input = top_resnet18.input\n",
        "hidden_layers = top_resnet18.layers[-2].output\n",
        "new_output = hidden_layers\n",
        "notop_resnet18 = Model(new_input,new_output)\n",
        "notop_resnet18.summary()\n",
        "notop_resnet18.save_weights('resnet18_cifar100_no_top.h5')"
      ],
      "execution_count": null,
      "outputs": []
    },
    {
      "cell_type": "markdown",
      "metadata": {
        "id": "YXe4D8u9SLlX"
      },
      "source": [
        "## Cifar100 pre-load Weights"
      ]
    },
    {
      "cell_type": "code",
      "metadata": {
        "id": "T6vT1AUsTH9Z"
      },
      "source": [
        "WEIGHTS_PATH = 'https://raw.githubusercontent.com/cl3m3nt/resnet/master/resnet18_cifar100_top.h5'\n",
        "WEIGHTS_PATH_NO_TOP = 'https://raw.githubusercontent.com/cl3m3nt/resnet/master/resnet18_cifar100_no_top.h5'"
      ],
      "execution_count": 98,
      "outputs": []
    },
    {
      "cell_type": "code",
      "metadata": {
        "id": "YpD4HL-WfYgP"
      },
      "source": [
        "WEIGHTS_PATH = 'https://github.com/cl3m3nt/resnet/blob/master/resnet18_cifar100_top.h5'\n",
        "WEIGHTS_PATH_NO_TOP = 'https://github.com/cl3m3nt/resnet/blob/master/resnet18_cifar100_top.h5'"
      ],
      "execution_count": 99,
      "outputs": []
    },
    {
      "cell_type": "code",
      "metadata": {
        "id": "h6yzstAbWrjl",
        "outputId": "9e45573e-9082-43e8-9820-2f313224c413",
        "colab": {
          "base_uri": "https://localhost:8080/"
        }
      },
      "source": [
        "!shasum -a 256 resnet18_cifar100_top.h5"
      ],
      "execution_count": 100,
      "outputs": [
        {
          "output_type": "stream",
          "text": [
            "4e364425e6d5ac22dfc34abaaf0a61fbc397b406914d8594494687f38605d710  resnet18_cifar100_top.h5\n"
          ],
          "name": "stdout"
        }
      ]
    },
    {
      "cell_type": "code",
      "metadata": {
        "id": "vMcXQJYiWxi9",
        "outputId": "14add09f-6d25-417c-9091-3582c916c4d5",
        "colab": {
          "base_uri": "https://localhost:8080/"
        }
      },
      "source": [
        "!shasum resnet18_cifar100_no_top.h5"
      ],
      "execution_count": 101,
      "outputs": [
        {
          "output_type": "stream",
          "text": [
            "174dbf9c0a30d9a47b7111e756a6337f42d7711f  resnet18_cifar100_no_top.h5\n"
          ],
          "name": "stdout"
        }
      ]
    },
    {
      "cell_type": "code",
      "metadata": {
        "id": "TDbqIfTDSPdi"
      },
      "source": [
        "# Resnet18_100 from ResNet18 class with TOP & Cifar100 Weigths\n",
        "input_shape = (32,32,3)\n",
        "top_resnet18 = ResNet18(include_top=True,weights='cifar100_coarse',classes=20,input_shape=input_shape,backend=backend,layers=layers,models=models,utils=utils)\n",
        "top_resnet18 = compile(top_resnet18)\n",
        "top_resnet18.summary()"
      ],
      "execution_count": null,
      "outputs": []
    },
    {
      "cell_type": "code",
      "metadata": {
        "id": "XNofF45-fH7k"
      },
      "source": [
        "# Resnet18_100 from ResNet18 class with NO TOP & Cifar100 Weigths\n",
        "input_shape = (32,32,3)\n",
        "notop_resnet18 = ResNet18(include_top=False,pooling='avg',weights='cifar100_coarse',classes=20,input_shape=input_shape,backend=backend,layers=layers,models=models,utils=utils)\n",
        "notop_resnet18 = compile(notop_resnet18)\n",
        "notop_resnet18.summary()"
      ],
      "execution_count": null,
      "outputs": []
    },
    {
      "cell_type": "markdown",
      "metadata": {
        "id": "w_NyDZHff8FY"
      },
      "source": [
        "# Weights Check"
      ]
    },
    {
      "cell_type": "code",
      "metadata": {
        "id": "CQ_ZjjHJf7MM"
      },
      "source": [
        "# Resnet18_100 from ResNet18 class with TOP & load Weigths\n",
        "input_shape = (32,32,3)\n",
        "top_resnet18 = ResNet18(include_top=True,weights=None,classes=20,input_shape=input_shape,backend=backend,layers=layers,models=models,utils=utils)\n",
        "top_resnet18 = compile(top_resnet18)\n",
        "top_resnet18.load_weights('resnet18_cifar100_top.h5')"
      ],
      "execution_count": 104,
      "outputs": []
    },
    {
      "cell_type": "code",
      "metadata": {
        "id": "5NoVq2EugFnf",
        "outputId": "11d99a0d-a5bf-4279-d544-e82dc570e31d",
        "colab": {
          "base_uri": "https://localhost:8080/"
        }
      },
      "source": [
        "weights = top_resnet18.get_weights()\n",
        "for i in range(0,1):\n",
        "  print(weights[i])"
      ],
      "execution_count": 105,
      "outputs": [
        {
          "output_type": "stream",
          "text": [
            "[[[[ 1.20386168e-01  1.01193830e-01  1.86714068e-01 ...  9.82930139e-02\n",
            "    -1.25471309e-01 -1.71026066e-01]\n",
            "   [ 1.75852090e-01 -1.63857415e-01 -7.09440932e-02 ... -4.22812216e-02\n",
            "    -2.74384409e-01  9.00755376e-02]\n",
            "   [ 7.99364448e-02 -6.57135844e-02 -8.16270635e-02 ...  1.07076831e-01\n",
            "    -1.30713969e-01  2.17441782e-01]]\n",
            "\n",
            "  [[ 8.44582692e-02 -7.33186379e-02  8.45730007e-02 ...  1.46437988e-01\n",
            "    -9.98198316e-02  1.36970446e-01]\n",
            "   [-2.10096315e-03  7.82789215e-02  1.75457373e-02 ...  5.57609089e-02\n",
            "    -5.23182116e-02  7.99983814e-02]\n",
            "   [-1.82205230e-01  5.57787418e-02  9.06216949e-02 ... -1.34745747e-01\n",
            "     6.85323700e-02  7.54248649e-02]]\n",
            "\n",
            "  [[-7.36887977e-02 -7.19985813e-02 -5.17172646e-03 ...  2.75027733e-02\n",
            "    -6.46619033e-03  5.79415970e-02]\n",
            "   [-2.08920404e-01  1.53971970e-01 -8.15985054e-02 ... -2.07235605e-01\n",
            "     1.20139740e-01 -2.26977305e-03]\n",
            "   [-2.48645812e-01 -3.36876959e-02 -2.30374992e-01 ... -2.79458612e-02\n",
            "     2.33092949e-01  1.25752822e-01]]\n",
            "\n",
            "  ...\n",
            "\n",
            "  [[-1.04008719e-01 -2.20144410e-02  7.00684935e-02 ...  3.10519487e-01\n",
            "    -1.54266313e-01  9.78486836e-02]\n",
            "   [-1.25986606e-01 -5.33112139e-02  7.89061934e-02 ...  5.90278320e-02\n",
            "     6.32975027e-02 -5.87577932e-02]\n",
            "   [-6.94916919e-02 -8.95639509e-02 -7.80542241e-03 ... -6.45003021e-02\n",
            "    -1.17735386e-01  2.12127507e-01]]\n",
            "\n",
            "  [[ 1.60866559e-01  8.03670008e-03  1.03691116e-01 ...  2.41457358e-01\n",
            "    -7.90956020e-02  7.50468075e-02]\n",
            "   [ 1.11259624e-01  2.42322356e-01  1.86026677e-01 ...  2.72885151e-02\n",
            "     1.05615787e-01  7.98274355e-04]\n",
            "   [ 9.76803824e-02 -1.01934567e-01 -8.02311450e-02 ...  3.17853242e-02\n",
            "     1.54912584e-02  3.26246321e-01]]\n",
            "\n",
            "  [[ 2.31987089e-01  2.06228077e-01 -6.47209436e-02 ...  2.54334927e-01\n",
            "    -5.53730540e-02 -4.76892106e-02]\n",
            "   [ 1.36735260e-01  8.28033462e-02  1.80841833e-01 ... -8.55516493e-02\n",
            "     3.22549254e-01  1.68920025e-01]\n",
            "   [ 6.44116178e-02  7.94607177e-02 -1.32740334e-01 ...  6.69642463e-02\n",
            "     1.27952150e-03 -9.64710861e-02]]]\n",
            "\n",
            "\n",
            " [[[-1.10818535e-01 -1.84963256e-01  6.32050335e-02 ... -2.11308654e-02\n",
            "    -1.47135397e-02  1.75706789e-01]\n",
            "   [ 2.31576607e-01  1.55839011e-01  1.24087989e-01 ...  1.88602820e-01\n",
            "    -3.46703380e-02  1.67872772e-01]\n",
            "   [ 2.61894435e-01  1.20792098e-01  1.65694371e-01 ...  1.27758592e-01\n",
            "     1.36862412e-01 -7.23706558e-02]]\n",
            "\n",
            "  [[-1.09396674e-01 -1.76673532e-01  2.01015800e-01 ...  3.96649502e-02\n",
            "    -8.36956427e-02 -2.50691235e-01]\n",
            "   [-1.86306402e-01  1.04000956e-01  3.71382870e-02 ... -9.76223797e-02\n",
            "     1.66140273e-02  2.48785540e-02]\n",
            "   [-2.84844577e-01 -1.26483530e-01 -1.44247979e-01 ...  3.76595296e-02\n",
            "     1.00117095e-01  5.35137430e-02]]\n",
            "\n",
            "  [[-1.48319691e-01  8.61612260e-02  9.50372070e-02 ...  2.74724633e-01\n",
            "     6.78830743e-02  2.04907417e-01]\n",
            "   [ 1.42916823e-02  2.61095967e-02  3.35243344e-02 ... -1.69332296e-01\n",
            "     6.07156605e-02  1.72285542e-01]\n",
            "   [-1.97929993e-01 -9.11837891e-02 -1.95589021e-01 ...  1.96683660e-01\n",
            "     3.96669470e-02  1.02214597e-01]]\n",
            "\n",
            "  ...\n",
            "\n",
            "  [[ 1.79280147e-01  7.50413835e-02  4.19579625e-01 ...  2.05739960e-01\n",
            "     1.06570041e-02  3.12705315e-03]\n",
            "   [ 9.66164470e-02 -1.86019868e-01  3.74047101e-01 ... -1.36044323e-01\n",
            "     3.22438926e-01 -1.05986409e-01]\n",
            "   [-3.79577875e-02 -1.09214276e-01  1.08778402e-01 ...  1.86360814e-02\n",
            "     2.29790527e-02 -3.27621698e-02]]\n",
            "\n",
            "  [[ 2.08206713e-01  1.87908486e-02 -1.93855576e-02 ... -7.93804526e-02\n",
            "     1.74768180e-01  1.66248783e-01]\n",
            "   [ 9.64093730e-02  8.55938718e-02  3.16011608e-01 ... -6.62221909e-02\n",
            "    -6.77719712e-02  2.25961208e-02]\n",
            "   [ 9.26129594e-02  2.08015651e-01  1.95952117e-01 ... -1.04100123e-01\n",
            "    -2.66737521e-01  9.99944732e-02]]\n",
            "\n",
            "  [[ 3.80218588e-02  2.36658663e-01 -1.78084448e-01 ...  1.27706707e-01\n",
            "    -2.96598196e-01  2.22404063e-01]\n",
            "   [ 3.90549637e-02  2.26321444e-01  2.79266089e-01 ... -2.39816699e-02\n",
            "    -1.94476783e-01 -1.11869998e-01]\n",
            "   [ 1.15862638e-01  7.57067055e-02  2.58047938e-01 ...  1.51384816e-01\n",
            "    -9.82819349e-02 -5.89062013e-02]]]\n",
            "\n",
            "\n",
            " [[[-1.14299498e-01  3.70955132e-02  2.54659414e-01 ... -1.17111929e-01\n",
            "     3.69932987e-02 -2.14547843e-01]\n",
            "   [-2.49338616e-02  3.21822539e-02  1.17735289e-01 ...  9.15924460e-02\n",
            "     2.48512968e-01  5.01173660e-02]\n",
            "   [-2.68275142e-02 -2.39294186e-01 -9.97902602e-02 ...  8.59658495e-02\n",
            "     1.66254833e-01 -9.28383395e-02]]\n",
            "\n",
            "  [[-2.04015166e-01  7.96451345e-02  5.72936498e-02 ...  1.40414968e-01\n",
            "     2.58986503e-01 -3.89244765e-01]\n",
            "   [ 1.09458352e-02  1.32742658e-01  8.06597397e-02 ... -3.59760284e-01\n",
            "     1.43043492e-02 -3.18416566e-01]\n",
            "   [-3.00021946e-01  1.32385075e-01 -1.23815857e-01 ...  4.03533988e-02\n",
            "     4.48534973e-02 -7.13907108e-02]]\n",
            "\n",
            "  [[ 1.37338880e-02  1.12098809e-02  3.48909378e-01 ...  8.34186524e-02\n",
            "     7.55393729e-02 -2.12576613e-01]\n",
            "   [ 3.18032019e-02  1.28675587e-02 -5.81687242e-02 ... -1.82325989e-01\n",
            "     2.82841504e-01 -1.46502763e-01]\n",
            "   [-1.76881656e-01 -1.49834782e-01 -4.91341241e-02 ... -8.46483111e-02\n",
            "     4.20910090e-01 -2.04663336e-01]]\n",
            "\n",
            "  ...\n",
            "\n",
            "  [[ 2.71279335e-01 -1.87269911e-01  5.72649390e-02 ... -1.08709730e-01\n",
            "     3.54821175e-01 -1.69029295e-01]\n",
            "   [ 2.54157275e-01 -6.60397708e-02  4.46894050e-01 ... -3.25397938e-01\n",
            "     1.35592476e-01 -3.35093647e-01]\n",
            "   [ 1.93766683e-01 -3.43141377e-01  5.38328439e-02 ...  1.51931178e-02\n",
            "     2.04866081e-01 -3.73692840e-01]]\n",
            "\n",
            "  [[ 1.03673421e-01  1.30847394e-02 -6.68320153e-03 ...  7.38211125e-02\n",
            "     1.94814466e-02  9.83357877e-02]\n",
            "   [ 2.36629546e-01  2.24650010e-01  8.19282457e-02 ... -2.99908012e-01\n",
            "     1.03710279e-01  7.80648217e-02]\n",
            "   [ 9.13963169e-02  1.58297852e-01  9.09330696e-02 ...  1.15741827e-01\n",
            "    -1.81438088e-01 -4.07445915e-02]]\n",
            "\n",
            "  [[ 2.82338280e-02  2.37170890e-01 -2.58334637e-01 ...  1.18703827e-01\n",
            "    -1.63374588e-01  1.72689393e-01]\n",
            "   [-3.63422036e-02  1.06266119e-01  2.78450638e-01 ...  6.65512905e-02\n",
            "    -1.96552381e-01  5.78124039e-02]\n",
            "   [-1.48670569e-01  4.36758697e-02 -1.66734308e-01 ...  2.74257332e-01\n",
            "    -3.96086574e-01 -2.66413480e-01]]]\n",
            "\n",
            "\n",
            " ...\n",
            "\n",
            "\n",
            " [[[ 1.55649381e-02 -1.82281118e-02 -1.93595663e-02 ... -1.32904708e-01\n",
            "     1.58684999e-01 -1.48030698e-01]\n",
            "   [-1.51696235e-01  5.19291265e-03 -2.62112349e-01 ... -2.33951565e-02\n",
            "    -7.08960369e-02  7.11974921e-03]\n",
            "   [-2.48222306e-01 -6.32476211e-02 -2.08362147e-01 ... -6.44986853e-02\n",
            "    -7.38103837e-02  1.20207533e-01]]\n",
            "\n",
            "  [[ 1.41560780e-02  1.07716091e-01 -1.74381118e-02 ...  2.85625341e-03\n",
            "     3.63778234e-01  6.69135749e-02]\n",
            "   [-2.24919375e-02 -7.98232853e-02  8.86820816e-03 ... -1.41821325e-01\n",
            "     1.97043046e-01 -4.84114215e-02]\n",
            "   [-1.15030557e-01  1.26059622e-01 -1.70289323e-01 ...  2.64965117e-01\n",
            "     3.91456187e-02 -3.21112692e-01]]\n",
            "\n",
            "  [[ 2.54787266e-01  3.20928879e-02  4.42751858e-04 ...  1.58510748e-02\n",
            "     1.52773947e-01 -2.82422602e-02]\n",
            "   [ 3.25559616e-01  4.01998758e-02  3.39158811e-03 ... -2.02836305e-01\n",
            "     2.78415859e-01 -1.67484283e-01]\n",
            "   [ 3.57890129e-01 -1.28614560e-01 -1.53485715e-01 ...  3.48397046e-01\n",
            "    -4.01241221e-02 -1.50231376e-01]]\n",
            "\n",
            "  ...\n",
            "\n",
            "  [[ 8.75054449e-02  3.68196368e-02 -1.38415784e-01 ...  1.10004015e-01\n",
            "     6.19596653e-02 -1.17023848e-01]\n",
            "   [-6.78335354e-02 -2.71625906e-01  1.77306145e-01 ... -9.16601568e-02\n",
            "     1.02636211e-01 -1.63770854e-01]\n",
            "   [ 1.95248634e-01 -2.65338719e-01  2.70376563e-01 ...  4.83426720e-01\n",
            "     1.28650395e-02 -2.11426184e-01]]\n",
            "\n",
            "  [[-3.57957691e-01  3.44300047e-02 -9.83596519e-02 ...  2.04648972e-01\n",
            "     6.74260268e-03  3.38454157e-01]\n",
            "   [-1.73122913e-01  3.03736627e-01  4.87714887e-01 ... -6.04697429e-02\n",
            "     6.86351582e-02  1.49289459e-01]\n",
            "   [ 1.39511367e-02  2.39455119e-01  1.82315320e-01 ...  1.67718947e-01\n",
            "    -8.76443535e-02  2.60375589e-02]]\n",
            "\n",
            "  [[-1.29290611e-01  2.57909000e-01 -7.28891939e-02 ... -2.24687219e-01\n",
            "    -1.76684707e-01  7.58270174e-02]\n",
            "   [-1.92142680e-01  1.65821478e-01 -7.61363208e-02 ... -1.42081574e-01\n",
            "     3.41351271e-01  1.42177790e-01]\n",
            "   [-4.57217768e-02  1.90432429e-01  2.58393362e-02 ... -1.87948644e-01\n",
            "    -4.48691286e-02 -1.44669348e-02]]]\n",
            "\n",
            "\n",
            " [[[-1.30061060e-01 -5.61567619e-02  8.73531252e-02 ... -2.48951484e-02\n",
            "    -9.18342769e-02  2.06885189e-01]\n",
            "   [-9.27869529e-02  1.52094662e-01 -3.19371492e-01 ... -7.97699839e-02\n",
            "    -1.10799722e-01 -3.46963672e-04]\n",
            "   [-1.62181705e-01  1.35743126e-01 -1.84504896e-01 ... -9.13882330e-02\n",
            "    -6.83630332e-02  2.13220030e-01]]\n",
            "\n",
            "  [[ 1.18846446e-01  1.72988512e-02  1.30340718e-02 ...  2.64131337e-01\n",
            "     1.55841529e-01  7.18404949e-02]\n",
            "   [ 1.13622561e-01 -1.06775619e-01 -1.33551702e-01 ...  3.56660737e-03\n",
            "     7.99816623e-02 -3.15653756e-02]\n",
            "   [ 2.09926546e-01 -6.66902736e-02 -1.94693059e-02 ...  1.21681489e-01\n",
            "    -1.74219590e-02 -3.01929206e-01]]\n",
            "\n",
            "  [[ 3.58907551e-01 -2.06916332e-02 -1.09605528e-01 ...  5.90632521e-02\n",
            "     8.58192295e-02  1.52825683e-01]\n",
            "   [ 2.47345582e-01  1.08026311e-01  1.26319245e-01 ...  7.74812326e-02\n",
            "    -6.98851794e-02  1.23411760e-01]\n",
            "   [ 1.10260330e-01 -1.27154037e-01 -1.38145477e-01 ...  3.02151501e-01\n",
            "     1.64015181e-02 -1.46259323e-01]]\n",
            "\n",
            "  ...\n",
            "\n",
            "  [[-2.79883504e-01 -6.29688650e-02 -1.01282597e-01 ...  5.60819581e-02\n",
            "    -1.76025793e-01 -1.66335143e-02]\n",
            "   [-9.14262757e-02 -1.07998893e-01  2.79424898e-02 ...  7.76010007e-02\n",
            "     4.29319963e-02 -5.55153638e-02]\n",
            "   [-3.12951277e-04  8.63313079e-02 -2.11516060e-02 ...  1.81381211e-01\n",
            "    -2.74790496e-01  3.51926424e-02]]\n",
            "\n",
            "  [[-1.95138767e-01  9.72861499e-02 -2.56144851e-01 ...  1.18544735e-01\n",
            "    -2.54321247e-01  3.13948691e-01]\n",
            "   [-1.69441760e-01  1.76041797e-02  5.13650961e-02 ... -1.55530289e-01\n",
            "     1.63870797e-01  2.03826696e-01]\n",
            "   [-1.74372271e-01  1.08625911e-01  2.58153379e-02 ...  2.64330566e-01\n",
            "     6.30187914e-02  3.53927687e-02]]\n",
            "\n",
            "  [[ 4.07477207e-02  1.56911999e-01  6.74489513e-02 ...  6.92976788e-02\n",
            "    -4.56575267e-02  7.02214837e-02]\n",
            "   [-6.40489906e-02  2.00039506e-01  3.17127049e-01 ... -1.42572612e-01\n",
            "     1.14033185e-01  1.50876958e-02]\n",
            "   [ 1.83881831e-03  2.75121212e-01  3.49805593e-01 ...  4.29014210e-03\n",
            "     3.87152992e-02 -1.91678256e-02]]]\n",
            "\n",
            "\n",
            " [[[ 2.49105226e-02 -1.96774244e-01  2.66258001e-01 ... -2.63416748e-02\n",
            "     1.35217337e-02  1.51605651e-01]\n",
            "   [ 1.81037575e-01  1.02554426e-01 -3.00672743e-02 ... -4.36276905e-02\n",
            "     1.19968794e-01  6.95216060e-02]\n",
            "   [-7.75207803e-02 -3.48887816e-02 -2.43945882e-01 ... -1.81057960e-01\n",
            "    -1.89958159e-02  2.90116146e-02]]\n",
            "\n",
            "  [[ 1.43990189e-01  6.84102625e-02  4.92682084e-02 ... -3.74907367e-02\n",
            "     7.48617500e-02 -7.09146261e-03]\n",
            "   [ 2.71869838e-01 -1.18484922e-01 -2.40362082e-02 ... -4.05829363e-02\n",
            "    -9.90129933e-02  8.71549174e-02]\n",
            "   [ 8.36273730e-02  1.29795577e-02 -3.28276783e-01 ...  2.03773007e-01\n",
            "    -1.58886775e-01 -2.21956074e-01]]\n",
            "\n",
            "  [[ 1.43539160e-01  2.95403600e-03  4.31291685e-02 ... -5.33669163e-03\n",
            "     2.23010108e-01 -8.54085237e-02]\n",
            "   [ 6.66183680e-02 -1.79766908e-01  1.68979675e-01 ...  2.56177559e-02\n",
            "    -3.67155671e-02 -4.52750325e-02]\n",
            "   [ 3.38182628e-01  8.89166538e-03 -7.95872584e-02 ...  2.71803170e-01\n",
            "    -1.93652928e-01 -1.82154756e-02]]\n",
            "\n",
            "  ...\n",
            "\n",
            "  [[-3.00443321e-01  2.84475368e-02 -1.40812352e-01 ...  2.04681471e-01\n",
            "     4.74151745e-02  3.50524008e-01]\n",
            "   [-2.47900233e-01 -9.02762860e-02 -2.15543993e-02 ... -2.67516196e-01\n",
            "    -1.36991367e-01  2.58422226e-01]\n",
            "   [ 4.00940627e-02 -4.97292504e-02  5.90176228e-03 ...  2.16548368e-02\n",
            "     4.62179817e-03 -1.12019405e-01]]\n",
            "\n",
            "  [[ 2.13917461e-03 -6.61039278e-02 -6.11662753e-02 ... -5.97136281e-02\n",
            "     1.33303031e-01  3.55331987e-01]\n",
            "   [-1.78792939e-01  1.63638562e-01  7.94306770e-02 ... -2.06188425e-01\n",
            "     1.67323295e-02  1.82132021e-01]\n",
            "   [-5.61577193e-02  2.48309329e-01  1.48642465e-01 ... -7.97585845e-02\n",
            "    -1.10993132e-01  3.01135987e-01]]\n",
            "\n",
            "  [[-9.56937298e-02  8.26221406e-02 -3.69661972e-02 ... -2.26610340e-02\n",
            "    -5.07122884e-03  6.93924576e-02]\n",
            "   [ 3.67613696e-02  1.73279390e-01 -6.80370117e-03 ... -3.28317910e-01\n",
            "     1.04132006e-02  2.32178733e-01]\n",
            "   [-1.53753841e-02  3.42418551e-01  2.45818391e-01 ...  1.03514723e-01\n",
            "    -1.41262487e-01  1.34712070e-01]]]]\n"
          ],
          "name": "stdout"
        }
      ]
    },
    {
      "cell_type": "code",
      "metadata": {
        "id": "VFZ6oPqdgE2g"
      },
      "source": [
        "# Resnet18_100 from ResNet18 class with TOP & Cifar100 Weigths\n",
        "input_shape = (32,32,3)\n",
        "top_resnet18 = ResNet18(include_top=True,weights='cifar100_coarse',classes=20,input_shape=input_shape,backend=backend,layers=layers,models=models,utils=utils)\n",
        "top_resnet18 = compile(top_resnet18)"
      ],
      "execution_count": null,
      "outputs": []
    },
    {
      "cell_type": "code",
      "metadata": {
        "id": "HNhly9ZBgsQo"
      },
      "source": [
        "weights = top_resnet18.get_weights()\n",
        "for i in range(0,1):\n",
        "  print(weights[i])"
      ],
      "execution_count": null,
      "outputs": []
    },
    {
      "cell_type": "markdown",
      "metadata": {
        "id": "HlQtandhhIZ2"
      },
      "source": [
        "#VGG16/19 Transfer example"
      ]
    },
    {
      "cell_type": "code",
      "metadata": {
        "id": "SHjNS1wqe7fV"
      },
      "source": [
        "import keras \n",
        "vgg16_model = keras.applications.vgg16.VGG16() # 134 Millions parameters\n",
        "model = Sequential()\n",
        "for layer in vgg16_model.layers[:-1]: # just exclude last layer from copying\n",
        "  model.add(layer)\n",
        "for layer in model.layers:\n",
        "  layer.trainable = False\n",
        "model.add(Dense(2, activation='softmax'))\n",
        "model.summary()"
      ],
      "execution_count": null,
      "outputs": []
    },
    {
      "cell_type": "code",
      "metadata": {
        "id": "Xf0_ACRGf_oa"
      },
      "source": [
        "import keras \n",
        "vgg19_model = keras.applications.vgg19.VGG19() # 139 Millions parameters\n",
        "model = Sequential()\n",
        "for layer in vgg19_model.layers[:-1]: # just exclude last layer from copying\n",
        "  model.add(layer)\n",
        "for layer in model.layers:\n",
        "  layer.trainable = False\n",
        "model.add(Dense(2, activation='softmax'))\n",
        "model.summary()"
      ],
      "execution_count": null,
      "outputs": []
    },
    {
      "cell_type": "code",
      "metadata": {
        "id": "BXV8zbpHhUEp"
      },
      "source": [
        "for layer,weights in zip(my_resnet18.layers,my_resnet18.weights):\n",
        "  print(layer,weights)"
      ],
      "execution_count": null,
      "outputs": []
    }
  ]
}